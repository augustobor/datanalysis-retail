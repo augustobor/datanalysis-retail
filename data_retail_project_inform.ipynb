{
 "cells": [
  {
   "cell_type": "markdown",
   "source": "# Análisis de los 25 retailers más grandes de Estados Unidos",
   "metadata": {
    "cell_id": "1df879a0-53cd-4031-a50b-2c2fe17304a4",
    "tags": [],
    "is_collapsed": false,
    "deepnote_cell_height": 82,
    "deepnote_cell_type": "text-cell-h1"
   }
  },
  {
   "cell_type": "code",
   "metadata": {
    "tags": [],
    "cell_id": "3347a937-91c3-4305-b06c-213bb2f3bcaf",
    "deepnote_to_be_reexecuted": false,
    "source_hash": "549d6627",
    "execution_start": 1645648615133,
    "execution_millis": 3604,
    "deepnote_cell_height": 153,
    "deepnote_cell_type": "code"
   },
   "source": "\nimport pandas as pd\nimport numpy as np\nimport matplotlib.pyplot as plt\nimport seaborn as sns",
   "outputs": [],
   "execution_count": null
  },
  {
   "cell_type": "code",
   "metadata": {
    "cell_id": "081fdaf2-888a-4a54-9495-467464cfc400",
    "tags": [],
    "deepnote_to_be_reexecuted": false,
    "source_hash": "32cc4738",
    "execution_start": 1645648618747,
    "execution_millis": 426,
    "deepnote_cell_height": 396,
    "deepnote_table_state": {
     "pageSize": 10,
     "pageIndex": 2,
     "filters": [],
     "sortBy": []
    },
    "deepnote_table_loading": false,
    "deepnote_cell_type": "code"
   },
   "source": "# Importar datos aquí\n\ndf = pd.read_csv('/work/largest_us_retailers.csv');\ndf['Category'] = df['Category'].replace([None], 'Electronic/Mail Order')\ndf.head()",
   "outputs": [
    {
     "output_type": "execute_result",
     "execution_count": 2,
     "data": {
      "application/vnd.deepnote.dataframe.v3+json": {
       "column_count": 6,
       "row_count": 5,
       "columns": [
        {
         "name": "Company",
         "dtype": "object",
         "stats": {
          "unique_count": 5,
          "nan_count": 0,
          "categories": [
           {
            "name": "Walmart US",
            "count": 1
           },
           {
            "name": "Kroger",
            "count": 1
           },
           {
            "name": "3 others",
            "count": 3
           }
          ]
         }
        },
        {
         "name": "Sales",
         "dtype": "int64",
         "stats": {
          "unique_count": 5,
          "nan_count": 0,
          "min": "78924",
          "max": "658119",
          "histogram": [
           {
            "bin_start": 78924,
            "bin_end": 136843.5,
            "count": 4
           },
           {
            "bin_start": 136843.5,
            "bin_end": 194763,
            "count": 0
           },
           {
            "bin_start": 194763,
            "bin_end": 252682.5,
            "count": 0
           },
           {
            "bin_start": 252682.5,
            "bin_end": 310602,
            "count": 0
           },
           {
            "bin_start": 310602,
            "bin_end": 368521.5,
            "count": 0
           },
           {
            "bin_start": 368521.5,
            "bin_end": 426441,
            "count": 0
           },
           {
            "bin_start": 426441,
            "bin_end": 484360.5,
            "count": 0
           },
           {
            "bin_start": 484360.5,
            "bin_end": 542280,
            "count": 0
           },
           {
            "bin_start": 542280,
            "bin_end": 600199.5,
            "count": 0
           },
           {
            "bin_start": 600199.5,
            "bin_end": 658119,
            "count": 1
           }
          ]
         }
        },
        {
         "name": "Stores",
         "dtype": "float64",
         "stats": {
          "unique_count": 5,
          "nan_count": 0,
          "min": "495.0",
          "max": "8002.0",
          "histogram": [
           {
            "bin_start": 495,
            "bin_end": 1245.7,
            "count": 1
           },
           {
            "bin_start": 1245.7,
            "bin_end": 1996.4,
            "count": 1
           },
           {
            "bin_start": 1996.4,
            "bin_end": 2747.1000000000004,
            "count": 0
           },
           {
            "bin_start": 2747.1000000000004,
            "bin_end": 3497.8,
            "count": 0
           },
           {
            "bin_start": 3497.8,
            "bin_end": 4248.5,
            "count": 1
           },
           {
            "bin_start": 4248.5,
            "bin_end": 4999.200000000001,
            "count": 1
           },
           {
            "bin_start": 4999.200000000001,
            "bin_end": 5749.900000000001,
            "count": 0
           },
           {
            "bin_start": 5749.900000000001,
            "bin_end": 6500.6,
            "count": 0
           },
           {
            "bin_start": 6500.6,
            "bin_end": 7251.3,
            "count": 0
           },
           {
            "bin_start": 7251.3,
            "bin_end": 8002,
            "count": 1
           }
          ]
         }
        },
        {
         "name": "Sales/Avg. Store",
         "dtype": "float64",
         "stats": {
          "unique_count": 5,
          "nan_count": 0,
          "min": "9.81092672",
          "max": "187.7956204",
          "histogram": [
           {
            "bin_start": 9.81092672,
            "bin_end": 27.609396087999997,
            "count": 1
           },
           {
            "bin_start": 27.609396087999997,
            "bin_end": 45.407865455999996,
            "count": 2
           },
           {
            "bin_start": 45.407865455999996,
            "bin_end": 63.206334823999995,
            "count": 0
           },
           {
            "bin_start": 63.206334823999995,
            "bin_end": 81.004804192,
            "count": 1
           },
           {
            "bin_start": 81.004804192,
            "bin_end": 98.80327356,
            "count": 0
           },
           {
            "bin_start": 98.80327356,
            "bin_end": 116.601742928,
            "count": 0
           },
           {
            "bin_start": 116.601742928,
            "bin_end": 134.400212296,
            "count": 0
           },
           {
            "bin_start": 134.400212296,
            "bin_end": 152.198681664,
            "count": 0
           },
           {
            "bin_start": 152.198681664,
            "bin_end": 169.99715103199998,
            "count": 0
           },
           {
            "bin_start": 169.99715103199998,
            "bin_end": 187.7956204,
            "count": 1
           }
          ]
         }
        },
        {
         "name": "Store Count Growth",
         "dtype": "float64",
         "stats": {
          "unique_count": 5,
          "nan_count": 0,
          "min": "-0.01051069618",
          "max": "0.06681034483",
          "histogram": [
           {
            "bin_start": -0.01051069618,
            "bin_end": -0.0027785920789999983,
            "count": 1
           },
           {
            "bin_start": -0.0027785920789999983,
            "bin_end": 0.004953512022000003,
            "count": 1
           },
           {
            "bin_start": 0.004953512022000003,
            "bin_end": 0.012685616123000005,
            "count": 0
           },
           {
            "bin_start": 0.012685616123000005,
            "bin_end": 0.020417720224000006,
            "count": 1
           },
           {
            "bin_start": 0.020417720224000006,
            "bin_end": 0.028149824325000003,
            "count": 0
           },
           {
            "bin_start": 0.028149824325000003,
            "bin_end": 0.03588192842600001,
            "count": 0
           },
           {
            "bin_start": 0.03588192842600001,
            "bin_end": 0.043614032527,
            "count": 0
           },
           {
            "bin_start": 0.043614032527,
            "bin_end": 0.05134613662800001,
            "count": 0
           },
           {
            "bin_start": 0.05134613662800001,
            "bin_end": 0.059078240729,
            "count": 1
           },
           {
            "bin_start": 0.059078240729,
            "bin_end": 0.06681034483,
            "count": 1
           }
          ]
         }
        },
        {
         "name": "Category",
         "dtype": "object",
         "stats": {
          "unique_count": 5,
          "nan_count": 0,
          "categories": [
           {
            "name": "Supercenters",
            "count": 1
           },
           {
            "name": "Grocery",
            "count": 1
           },
           {
            "name": "3 others",
            "count": 3
           }
          ]
         }
        },
        {
         "name": "_deepnote_index_column",
         "dtype": "int64"
        }
       ],
       "rows": [
        {
         "Company": "Walmart US",
         "Sales": 658119,
         "Stores": 4574,
         "Sales/Avg. Store": 65.64972497,
         "Store Count Growth": 0.01284322409,
         "Category": "Supercenters",
         "_deepnote_index_column": 0
        },
        {
         "Company": "Kroger",
         "Sales": 115037,
         "Stores": 3931,
         "Sales/Avg. Store": 30.03184963,
         "Store Count Growth": 0.05388739946,
         "Category": "Grocery",
         "_deepnote_index_column": 1
        },
        {
         "Company": "Costco",
         "Sales": 90048,
         "Stores": 495,
         "Sales/Avg. Store": 187.7956204,
         "Store Count Growth": 0.06681034483,
         "Category": "Warehouse Club",
         "_deepnote_index_column": 2
        },
        {
         "Company": "Home Depot",
         "Sales": 83976,
         "Stores": 1965,
         "Sales/Avg. Store": 42.73587786,
         "Store Count Growth": 0,
         "Category": "Home Improvement",
         "_deepnote_index_column": 3
        },
        {
         "Company": "Walgreen Boots",
         "Sales": 78924,
         "Stores": 8002,
         "Sales/Avg. Store": 9.81092672,
         "Store Count Growth": -0.01051069618,
         "Category": "Drug Stores",
         "_deepnote_index_column": 4
        }
       ]
      },
      "text/plain": "          Company   Sales  Stores  Sales/Avg. Store  Store Count Growth  \\\n0      Walmart US  658119  4574.0         65.649725            0.012843   \n1          Kroger  115037  3931.0         30.031850            0.053887   \n2          Costco   90048   495.0        187.795620            0.066810   \n3      Home Depot   83976  1965.0         42.735878            0.000000   \n4  Walgreen Boots   78924  8002.0          9.810927           -0.010511   \n\n           Category  \n0      Supercenters  \n1           Grocery  \n2    Warehouse Club  \n3  Home Improvement  \n4       Drug Stores  ",
      "text/html": "<div>\n<style scoped>\n    .dataframe tbody tr th:only-of-type {\n        vertical-align: middle;\n    }\n\n    .dataframe tbody tr th {\n        vertical-align: top;\n    }\n\n    .dataframe thead th {\n        text-align: right;\n    }\n</style>\n<table border=\"1\" class=\"dataframe\">\n  <thead>\n    <tr style=\"text-align: right;\">\n      <th></th>\n      <th>Company</th>\n      <th>Sales</th>\n      <th>Stores</th>\n      <th>Sales/Avg. Store</th>\n      <th>Store Count Growth</th>\n      <th>Category</th>\n    </tr>\n  </thead>\n  <tbody>\n    <tr>\n      <th>0</th>\n      <td>Walmart US</td>\n      <td>658119</td>\n      <td>4574.0</td>\n      <td>65.649725</td>\n      <td>0.012843</td>\n      <td>Supercenters</td>\n    </tr>\n    <tr>\n      <th>1</th>\n      <td>Kroger</td>\n      <td>115037</td>\n      <td>3931.0</td>\n      <td>30.031850</td>\n      <td>0.053887</td>\n      <td>Grocery</td>\n    </tr>\n    <tr>\n      <th>2</th>\n      <td>Costco</td>\n      <td>90048</td>\n      <td>495.0</td>\n      <td>187.795620</td>\n      <td>0.066810</td>\n      <td>Warehouse Club</td>\n    </tr>\n    <tr>\n      <th>3</th>\n      <td>Home Depot</td>\n      <td>83976</td>\n      <td>1965.0</td>\n      <td>42.735878</td>\n      <td>0.000000</td>\n      <td>Home Improvement</td>\n    </tr>\n    <tr>\n      <th>4</th>\n      <td>Walgreen Boots</td>\n      <td>78924</td>\n      <td>8002.0</td>\n      <td>9.810927</td>\n      <td>-0.010511</td>\n      <td>Drug Stores</td>\n    </tr>\n  </tbody>\n</table>\n</div>"
     },
     "metadata": {}
    }
   ],
   "execution_count": null
  },
  {
   "cell_type": "markdown",
   "source": "## I. Preguntas del negocio",
   "metadata": {
    "cell_id": "cc141631-e246-41c7-a56b-ad74255d674f",
    "tags": [],
    "is_collapsed": false,
    "deepnote_cell_height": 70,
    "deepnote_cell_type": "text-cell-h2"
   }
  },
  {
   "cell_type": "markdown",
   "source": "### 1. ¿Cuál es el promedio de ventas sin contar a la compañía dominante?",
   "metadata": {
    "cell_id": "b919b92e-0df3-4f54-b093-c1db040bc4aa",
    "tags": [],
    "deepnote_cell_height": 62,
    "deepnote_cell_type": "markdown"
   }
  },
  {
   "cell_type": "markdown",
   "source": "#### 1. Primero debemos responder a la pregunta ¿Quién es la compañía dominante en ventas?",
   "metadata": {
    "cell_id": "2a1ebe14-ce86-4d63-bf12-93e4c8701232",
    "tags": [],
    "deepnote_cell_height": 54,
    "deepnote_cell_type": "markdown"
   }
  },
  {
   "cell_type": "code",
   "metadata": {
    "cell_id": "c23d08ca-6b5a-46f4-b67e-a4049d3eec24",
    "tags": [],
    "deepnote_to_be_reexecuted": false,
    "source_hash": "e0f59ac9",
    "execution_start": 1645648618863,
    "execution_millis": 106,
    "deepnote_output_heights": [
     500.875
    ],
    "deepnote_cell_height": 378,
    "deepnote_cell_type": "code"
   },
   "source": "df_sorted = df.sort_values('Sales', ascending=0)\ntop_5_sold_companies = df_sorted[0:5] #Mostramos las primeras 5 compañías con más ventas.\ntop_5_sold_companies",
   "outputs": [
    {
     "output_type": "execute_result",
     "execution_count": 3,
     "data": {
      "application/vnd.deepnote.dataframe.v3+json": {
       "column_count": 6,
       "row_count": 5,
       "columns": [
        {
         "name": "Company",
         "dtype": "object",
         "stats": {
          "unique_count": 5,
          "nan_count": 0,
          "categories": [
           {
            "name": "Walmart US",
            "count": 1
           },
           {
            "name": "Kroger",
            "count": 1
           },
           {
            "name": "3 others",
            "count": 3
           }
          ]
         }
        },
        {
         "name": "Sales",
         "dtype": "int64",
         "stats": {
          "unique_count": 5,
          "nan_count": 0,
          "min": "78924",
          "max": "658119",
          "histogram": [
           {
            "bin_start": 78924,
            "bin_end": 136843.5,
            "count": 4
           },
           {
            "bin_start": 136843.5,
            "bin_end": 194763,
            "count": 0
           },
           {
            "bin_start": 194763,
            "bin_end": 252682.5,
            "count": 0
           },
           {
            "bin_start": 252682.5,
            "bin_end": 310602,
            "count": 0
           },
           {
            "bin_start": 310602,
            "bin_end": 368521.5,
            "count": 0
           },
           {
            "bin_start": 368521.5,
            "bin_end": 426441,
            "count": 0
           },
           {
            "bin_start": 426441,
            "bin_end": 484360.5,
            "count": 0
           },
           {
            "bin_start": 484360.5,
            "bin_end": 542280,
            "count": 0
           },
           {
            "bin_start": 542280,
            "bin_end": 600199.5,
            "count": 0
           },
           {
            "bin_start": 600199.5,
            "bin_end": 658119,
            "count": 1
           }
          ]
         }
        },
        {
         "name": "Stores",
         "dtype": "float64",
         "stats": {
          "unique_count": 5,
          "nan_count": 0,
          "min": "495.0",
          "max": "8002.0",
          "histogram": [
           {
            "bin_start": 495,
            "bin_end": 1245.7,
            "count": 1
           },
           {
            "bin_start": 1245.7,
            "bin_end": 1996.4,
            "count": 1
           },
           {
            "bin_start": 1996.4,
            "bin_end": 2747.1000000000004,
            "count": 0
           },
           {
            "bin_start": 2747.1000000000004,
            "bin_end": 3497.8,
            "count": 0
           },
           {
            "bin_start": 3497.8,
            "bin_end": 4248.5,
            "count": 1
           },
           {
            "bin_start": 4248.5,
            "bin_end": 4999.200000000001,
            "count": 1
           },
           {
            "bin_start": 4999.200000000001,
            "bin_end": 5749.900000000001,
            "count": 0
           },
           {
            "bin_start": 5749.900000000001,
            "bin_end": 6500.6,
            "count": 0
           },
           {
            "bin_start": 6500.6,
            "bin_end": 7251.3,
            "count": 0
           },
           {
            "bin_start": 7251.3,
            "bin_end": 8002,
            "count": 1
           }
          ]
         }
        },
        {
         "name": "Sales/Avg. Store",
         "dtype": "float64",
         "stats": {
          "unique_count": 5,
          "nan_count": 0,
          "min": "9.81092672",
          "max": "187.7956204",
          "histogram": [
           {
            "bin_start": 9.81092672,
            "bin_end": 27.609396087999997,
            "count": 1
           },
           {
            "bin_start": 27.609396087999997,
            "bin_end": 45.407865455999996,
            "count": 2
           },
           {
            "bin_start": 45.407865455999996,
            "bin_end": 63.206334823999995,
            "count": 0
           },
           {
            "bin_start": 63.206334823999995,
            "bin_end": 81.004804192,
            "count": 1
           },
           {
            "bin_start": 81.004804192,
            "bin_end": 98.80327356,
            "count": 0
           },
           {
            "bin_start": 98.80327356,
            "bin_end": 116.601742928,
            "count": 0
           },
           {
            "bin_start": 116.601742928,
            "bin_end": 134.400212296,
            "count": 0
           },
           {
            "bin_start": 134.400212296,
            "bin_end": 152.198681664,
            "count": 0
           },
           {
            "bin_start": 152.198681664,
            "bin_end": 169.99715103199998,
            "count": 0
           },
           {
            "bin_start": 169.99715103199998,
            "bin_end": 187.7956204,
            "count": 1
           }
          ]
         }
        },
        {
         "name": "Store Count Growth",
         "dtype": "float64",
         "stats": {
          "unique_count": 5,
          "nan_count": 0,
          "min": "-0.01051069618",
          "max": "0.06681034483",
          "histogram": [
           {
            "bin_start": -0.01051069618,
            "bin_end": -0.0027785920789999983,
            "count": 1
           },
           {
            "bin_start": -0.0027785920789999983,
            "bin_end": 0.004953512022000003,
            "count": 1
           },
           {
            "bin_start": 0.004953512022000003,
            "bin_end": 0.012685616123000005,
            "count": 0
           },
           {
            "bin_start": 0.012685616123000005,
            "bin_end": 0.020417720224000006,
            "count": 1
           },
           {
            "bin_start": 0.020417720224000006,
            "bin_end": 0.028149824325000003,
            "count": 0
           },
           {
            "bin_start": 0.028149824325000003,
            "bin_end": 0.03588192842600001,
            "count": 0
           },
           {
            "bin_start": 0.03588192842600001,
            "bin_end": 0.043614032527,
            "count": 0
           },
           {
            "bin_start": 0.043614032527,
            "bin_end": 0.05134613662800001,
            "count": 0
           },
           {
            "bin_start": 0.05134613662800001,
            "bin_end": 0.059078240729,
            "count": 1
           },
           {
            "bin_start": 0.059078240729,
            "bin_end": 0.06681034483,
            "count": 1
           }
          ]
         }
        },
        {
         "name": "Category",
         "dtype": "object",
         "stats": {
          "unique_count": 5,
          "nan_count": 0,
          "categories": [
           {
            "name": "Supercenters",
            "count": 1
           },
           {
            "name": "Grocery",
            "count": 1
           },
           {
            "name": "3 others",
            "count": 3
           }
          ]
         }
        },
        {
         "name": "_deepnote_index_column",
         "dtype": "int64"
        }
       ],
       "rows": [
        {
         "Company": "Walmart US",
         "Sales": 658119,
         "Stores": 4574,
         "Sales/Avg. Store": 65.64972497,
         "Store Count Growth": 0.01284322409,
         "Category": "Supercenters",
         "_deepnote_index_column": 0
        },
        {
         "Company": "Kroger",
         "Sales": 115037,
         "Stores": 3931,
         "Sales/Avg. Store": 30.03184963,
         "Store Count Growth": 0.05388739946,
         "Category": "Grocery",
         "_deepnote_index_column": 1
        },
        {
         "Company": "Costco",
         "Sales": 90048,
         "Stores": 495,
         "Sales/Avg. Store": 187.7956204,
         "Store Count Growth": 0.06681034483,
         "Category": "Warehouse Club",
         "_deepnote_index_column": 2
        },
        {
         "Company": "Home Depot",
         "Sales": 83976,
         "Stores": 1965,
         "Sales/Avg. Store": 42.73587786,
         "Store Count Growth": 0,
         "Category": "Home Improvement",
         "_deepnote_index_column": 3
        },
        {
         "Company": "Walgreen Boots",
         "Sales": 78924,
         "Stores": 8002,
         "Sales/Avg. Store": 9.81092672,
         "Store Count Growth": -0.01051069618,
         "Category": "Drug Stores",
         "_deepnote_index_column": 4
        }
       ]
      },
      "text/plain": "          Company   Sales  Stores  Sales/Avg. Store  Store Count Growth  \\\n0      Walmart US  658119  4574.0         65.649725            0.012843   \n1          Kroger  115037  3931.0         30.031850            0.053887   \n2          Costco   90048   495.0        187.795620            0.066810   \n3      Home Depot   83976  1965.0         42.735878            0.000000   \n4  Walgreen Boots   78924  8002.0          9.810927           -0.010511   \n\n           Category  \n0      Supercenters  \n1           Grocery  \n2    Warehouse Club  \n3  Home Improvement  \n4       Drug Stores  ",
      "text/html": "<div>\n<style scoped>\n    .dataframe tbody tr th:only-of-type {\n        vertical-align: middle;\n    }\n\n    .dataframe tbody tr th {\n        vertical-align: top;\n    }\n\n    .dataframe thead th {\n        text-align: right;\n    }\n</style>\n<table border=\"1\" class=\"dataframe\">\n  <thead>\n    <tr style=\"text-align: right;\">\n      <th></th>\n      <th>Company</th>\n      <th>Sales</th>\n      <th>Stores</th>\n      <th>Sales/Avg. Store</th>\n      <th>Store Count Growth</th>\n      <th>Category</th>\n    </tr>\n  </thead>\n  <tbody>\n    <tr>\n      <th>0</th>\n      <td>Walmart US</td>\n      <td>658119</td>\n      <td>4574.0</td>\n      <td>65.649725</td>\n      <td>0.012843</td>\n      <td>Supercenters</td>\n    </tr>\n    <tr>\n      <th>1</th>\n      <td>Kroger</td>\n      <td>115037</td>\n      <td>3931.0</td>\n      <td>30.031850</td>\n      <td>0.053887</td>\n      <td>Grocery</td>\n    </tr>\n    <tr>\n      <th>2</th>\n      <td>Costco</td>\n      <td>90048</td>\n      <td>495.0</td>\n      <td>187.795620</td>\n      <td>0.066810</td>\n      <td>Warehouse Club</td>\n    </tr>\n    <tr>\n      <th>3</th>\n      <td>Home Depot</td>\n      <td>83976</td>\n      <td>1965.0</td>\n      <td>42.735878</td>\n      <td>0.000000</td>\n      <td>Home Improvement</td>\n    </tr>\n    <tr>\n      <th>4</th>\n      <td>Walgreen Boots</td>\n      <td>78924</td>\n      <td>8002.0</td>\n      <td>9.810927</td>\n      <td>-0.010511</td>\n      <td>Drug Stores</td>\n    </tr>\n  </tbody>\n</table>\n</div>"
     },
     "metadata": {}
    }
   ],
   "execution_count": null
  },
  {
   "cell_type": "markdown",
   "source": "#### 2. Podemos ver que Walmart US lidera en ventas. Realizamos una visualización para enfatizar este punto.",
   "metadata": {
    "cell_id": "ec78e7a7-dbfa-4bc4-b29c-d44f39dff682",
    "tags": [],
    "deepnote_cell_height": 54,
    "deepnote_cell_type": "markdown"
   }
  },
  {
   "cell_type": "code",
   "metadata": {
    "cell_id": "3a07b81b-1ad5-4b93-a034-f7b51b5a5ba2",
    "tags": [],
    "deepnote_to_be_reexecuted": false,
    "source_hash": "e9512c9d",
    "execution_start": 1645648618969,
    "execution_millis": 564,
    "deepnote_output_heights": [
     349
    ],
    "deepnote_cell_height": 554,
    "deepnote_cell_type": "code"
   },
   "source": "plt.figure(figsize=(15,6))\ncolors = ['#AA023A', '#DF5838', '#DF5838', '#DF5838', '#DF5838']\nplt.bar(x=top_5_sold_companies['Company'], height=top_5_sold_companies['Sales'], align='center', color=colors)\nplt.title('Top 5 companies in sales', family='avenir', weight=\"bold\", size=24, pad=20)\nplt.xlabel('Company', family='avenir', weight=\"light\", size=16, labelpad=15)\nplt.ylabel('Sales', family='avenir', weight=\"light\", size=16, labelpad=15)\nplt.show()",
   "outputs": [
    {
     "name": "stderr",
     "text": "findfont: Font family ['avenir'] not found. Falling back to DejaVu Sans.\nfindfont: Font family ['avenir'] not found. Falling back to DejaVu Sans.\n",
     "output_type": "stream"
    },
    {
     "data": {
      "text/plain": "<Figure size 1080x432 with 1 Axes>",
      "image/png": "[encoded data removed]"
     },
     "metadata": {
      "needs_background": "light",
      "image/png": {
       "width": 926,
       "height": 426
      }
     },
     "output_type": "display_data"
    }
   ],
   "execution_count": null
  },
  {
   "cell_type": "markdown",
   "source": "#### 3. Sabiendo cual es la compañía que más ventas realiza, lo descartamos para realizar nuestro cálculo y evitar un sesgo del promedio.",
   "metadata": {
    "cell_id": "5cd55ffc-ef93-4622-99fe-f4900d43b317",
    "tags": [],
    "deepnote_cell_height": 54,
    "deepnote_cell_type": "markdown"
   }
  },
  {
   "cell_type": "code",
   "metadata": {
    "cell_id": "77420894-3f9d-4bc3-9f3d-54d52da3d6cd",
    "tags": [],
    "deepnote_to_be_reexecuted": false,
    "source_hash": "c08d459e",
    "execution_start": 1645648619613,
    "execution_millis": 17,
    "deepnote_table_state": {
     "pageSize": 10,
     "pageIndex": 0,
     "filters": [],
     "sortBy": []
    },
    "deepnote_table_loading": false,
    "deepnote_cell_height": 616,
    "deepnote_cell_type": "code"
   },
   "source": "companies_without_walmart = df_sorted[1:]\ncompanies_without_walmart",
   "outputs": [
    {
     "output_type": "execute_result",
     "execution_count": 5,
     "data": {
      "application/vnd.deepnote.dataframe.v3+json": {
       "column_count": 6,
       "row_count": 24,
       "columns": [
        {
         "name": "Company",
         "dtype": "object",
         "stats": {
          "unique_count": 24,
          "nan_count": 0,
          "categories": [
           {
            "name": "Kroger",
            "count": 1
           },
           {
            "name": "Costco",
            "count": 1
           },
           {
            "name": "22 others",
            "count": 22
           }
          ]
         }
        },
        {
         "name": "Sales",
         "dtype": "int64",
         "stats": {
          "unique_count": 24,
          "nan_count": 0,
          "min": "16592",
          "max": "115037",
          "histogram": [
           {
            "bin_start": 16592,
            "bin_end": 26436.5,
            "count": 9
           },
           {
            "bin_start": 26436.5,
            "bin_end": 36281,
            "count": 4
           },
           {
            "bin_start": 36281,
            "bin_end": 46125.5,
            "count": 1
           },
           {
            "bin_start": 46125.5,
            "bin_end": 55970,
            "count": 0
           },
           {
            "bin_start": 55970,
            "bin_end": 65814.5,
            "count": 3
           },
           {
            "bin_start": 65814.5,
            "bin_end": 75659,
            "count": 2
           },
           {
            "bin_start": 75659,
            "bin_end": 85503.5,
            "count": 3
           },
           {
            "bin_start": 85503.5,
            "bin_end": 95348,
            "count": 1
           },
           {
            "bin_start": 95348,
            "bin_end": 105192.5,
            "count": 0
           },
           {
            "bin_start": 105192.5,
            "bin_end": 115037,
            "count": 1
           }
          ]
         }
        },
        {
         "name": "Stores",
         "dtype": "float64",
         "stats": {
          "unique_count": 22,
          "nan_count": 2,
          "min": "231.0",
          "max": "14250.0",
          "histogram": [
           {
            "bin_start": 231,
            "bin_end": 1632.9,
            "count": 10
           },
           {
            "bin_start": 1632.9,
            "bin_end": 3034.8,
            "count": 6
           },
           {
            "bin_start": 3034.8,
            "bin_end": 4436.700000000001,
            "count": 1
           },
           {
            "bin_start": 4436.700000000001,
            "bin_end": 5838.6,
            "count": 1
           },
           {
            "bin_start": 5838.6,
            "bin_end": 7240.5,
            "count": 0
           },
           {
            "bin_start": 7240.5,
            "bin_end": 8642.400000000001,
            "count": 1
           },
           {
            "bin_start": 8642.400000000001,
            "bin_end": 10044.300000000001,
            "count": 1
           },
           {
            "bin_start": 10044.300000000001,
            "bin_end": 11446.2,
            "count": 0
           },
           {
            "bin_start": 11446.2,
            "bin_end": 12848.1,
            "count": 0
           },
           {
            "bin_start": 12848.1,
            "bin_end": 14250,
            "count": 2
           }
          ]
         }
        },
        {
         "name": "Sales/Avg. Store",
         "dtype": "float64",
         "stats": {
          "unique_count": 22,
          "nan_count": 2,
          "min": "1.56391854",
          "max": "187.7956204",
          "histogram": [
           {
            "bin_start": 1.56391854,
            "bin_end": 20.187088726,
            "count": 9
           },
           {
            "bin_start": 20.187088726,
            "bin_end": 38.810258912,
            "count": 7
           },
           {
            "bin_start": 38.810258912,
            "bin_end": 57.433429098000005,
            "count": 2
           },
           {
            "bin_start": 57.433429098000005,
            "bin_end": 76.056599284,
            "count": 2
           },
           {
            "bin_start": 76.056599284,
            "bin_end": 94.67976947,
            "count": 1
           },
           {
            "bin_start": 94.67976947,
            "bin_end": 113.302939656,
            "count": 0
           },
           {
            "bin_start": 113.302939656,
            "bin_end": 131.926109842,
            "count": 0
           },
           {
            "bin_start": 131.926109842,
            "bin_end": 150.549280028,
            "count": 0
           },
           {
            "bin_start": 150.549280028,
            "bin_end": 169.172450214,
            "count": 0
           },
           {
            "bin_start": 169.172450214,
            "bin_end": 187.7956204,
            "count": 1
           }
          ]
         }
        },
        {
         "name": "Store Count Growth",
         "dtype": "float64",
         "stats": {
          "unique_count": 22,
          "nan_count": 2,
          "min": "-0.05951506245",
          "max": "0.2556621881",
          "histogram": [
           {
            "bin_start": -0.05951506245,
            "bin_end": -0.027997337395000002,
            "count": 3
           },
           {
            "bin_start": -0.027997337395000002,
            "bin_end": 0.003520387659999999,
            "count": 4
           },
           {
            "bin_start": 0.003520387659999999,
            "bin_end": 0.035038112715,
            "count": 5
           },
           {
            "bin_start": 0.035038112715,
            "bin_end": 0.06655583777,
            "count": 2
           },
           {
            "bin_start": 0.06655583777,
            "bin_end": 0.098073562825,
            "count": 5
           },
           {
            "bin_start": 0.098073562825,
            "bin_end": 0.12959128788000002,
            "count": 1
           },
           {
            "bin_start": 0.12959128788000002,
            "bin_end": 0.16110901293500002,
            "count": 1
           },
           {
            "bin_start": 0.16110901293500002,
            "bin_end": 0.19262673799000002,
            "count": 0
           },
           {
            "bin_start": 0.19262673799000002,
            "bin_end": 0.22414446304500002,
            "count": 0
           },
           {
            "bin_start": 0.22414446304500002,
            "bin_end": 0.2556621881,
            "count": 1
           }
          ]
         }
        },
        {
         "name": "Category",
         "dtype": "object",
         "stats": {
          "unique_count": 11,
          "nan_count": 0,
          "categories": [
           {
            "name": "Grocery",
            "count": 7
           },
           {
            "name": "Drug Stores",
            "count": 3
           },
           {
            "name": "9 others",
            "count": 14
           }
          ]
         }
        },
        {
         "name": "_deepnote_index_column",
         "dtype": "int64"
        }
       ],
       "rows": [
        {
         "Company": "Kroger",
         "Sales": 115037,
         "Stores": 3931,
         "Sales/Avg. Store": 30.03184963,
         "Store Count Growth": 0.05388739946,
         "Category": "Grocery",
         "_deepnote_index_column": 1
        },
        {
         "Company": "Costco",
         "Sales": 90048,
         "Stores": 495,
         "Sales/Avg. Store": 187.7956204,
         "Store Count Growth": 0.06681034483,
         "Category": "Warehouse Club",
         "_deepnote_index_column": 2
        },
        {
         "Company": "Home Depot",
         "Sales": 83976,
         "Stores": 1965,
         "Sales/Avg. Store": 42.73587786,
         "Store Count Growth": 0,
         "Category": "Home Improvement",
         "_deepnote_index_column": 3
        },
        {
         "Company": "Walgreen Boots",
         "Sales": 78924,
         "Stores": 8002,
         "Sales/Avg. Store": 9.81092672,
         "Store Count Growth": -0.01051069618,
         "Category": "Drug Stores",
         "_deepnote_index_column": 4
        },
        {
         "Company": "CVS incl. Target",
         "Sales": 77792,
         "Stores": 9813,
         "Sales/Avg. Store": 8.825958702,
         "Store Count Growth": 0.2556621881,
         "Category": "Drug Stores",
         "_deepnote_index_column": 5
        },
        {
         "Company": "Amazon",
         "Sales": 71687,
         "Stores": "nan",
         "Sales/Avg. Store": "nan",
         "Store Count Growth": "nan",
         "Category": "Electronic/Mail Order",
         "_deepnote_index_column": 6
        },
        {
         "Company": "Target",
         "Sales": 71208,
         "Stores": 1772,
         "Sales/Avg. Store": 39.98203257,
         "Store Count Growth": -0.01005586592,
         "Category": "Supercenters",
         "_deepnote_index_column": 7
        },
        {
         "Company": "Lowe's",
         "Sales": 60311,
         "Stores": 1828,
         "Sales/Avg. Store": 33.31179232,
         "Store Count Growth": 0.01952035694,
         "Category": "Home Improvement",
         "_deepnote_index_column": 8
        },
        {
         "Company": "Albertsons",
         "Sales": 56829,
         "Stores": 2326,
         "Sales/Avg. Store": 23.87773109,
         "Store Count Growth": -0.04437140509,
         "Category": "Grocery",
         "_deepnote_index_column": 9
        },
        {
         "Company": "Sam's Club",
         "Sales": 56828,
         "Stores": 655,
         "Sales/Avg. Store": 87.29339478,
         "Store Count Growth": 0.01236476043,
         "Category": "Warehouse Clubs",
         "_deepnote_index_column": 10
        }
       ]
      },
      "text/plain": "               Company   Sales   Stores  Sales/Avg. Store  Store Count Growth  \\\n1               Kroger  115037   3931.0         30.031850            0.053887   \n2               Costco   90048    495.0        187.795620            0.066810   \n3           Home Depot   83976   1965.0         42.735878            0.000000   \n4       Walgreen Boots   78924   8002.0          9.810927           -0.010511   \n5     CVS incl. Target   77792   9813.0          8.825959            0.255662   \n6               Amazon   71687      NaN               NaN                 NaN   \n7               Target   71208   1772.0         39.982033           -0.010056   \n8               Lowe's   60311   1828.0         33.311792            0.019520   \n9           Albertsons   56829   2326.0         23.877731           -0.044371   \n10          Sam's Club   56828    655.0         87.293395            0.012365   \n11  Apple incl. Online   37664      NaN               NaN                 NaN   \n12            Best Buy   34980   1389.0         24.685956           -0.038754   \n13              Publix   34408   1351.0         25.997733            0.042438   \n14            Rite Aid   27486   4553.0          6.025649           -0.003720   \n15               Ahold   26903    794.0         34.446863            0.033854   \n16              Macy's   26028    889.0         30.442105            0.082826   \n17                 TJX   25012   2770.0          9.369545            0.078241   \n18                Aldi   24402   2021.0         12.715998            0.112273   \n19      Dollar General   22234  13350.0          1.768885            0.132412   \n20         Dollar Tree   21464  14250.0          1.563919            0.079627   \n21                 HEB   21384    323.0         66.825000            0.018927   \n22              Kohl's   19060   1169.0         16.353496            0.006024   \n23            Delhaize   18201   1280.0         13.783415           -0.059515   \n24              Meijer   16592    231.0         74.738739            0.084507   \n\n                 Category  \n1                 Grocery  \n2          Warehouse Club  \n3        Home Improvement  \n4             Drug Stores  \n5             Drug Stores  \n6   Electronic/Mail Order  \n7            Supercenters  \n8        Home Improvement  \n9                 Grocery  \n10        Warehouse Clubs  \n11  Electronic/Mail Order  \n12            Electronics  \n13                Grocery  \n14            Drug Stores  \n15                Grocery  \n16      Department Stores  \n17                Apparel  \n18                Grocery  \n19          Dollar Stores  \n20          Dollar Stores  \n21                Grocery  \n22      Department Stores  \n23                Grocery  \n24           Supercenters  ",
      "text/html": "<div>\n<style scoped>\n    .dataframe tbody tr th:only-of-type {\n        vertical-align: middle;\n    }\n\n    .dataframe tbody tr th {\n        vertical-align: top;\n    }\n\n    .dataframe thead th {\n        text-align: right;\n    }\n</style>\n<table border=\"1\" class=\"dataframe\">\n  <thead>\n    <tr style=\"text-align: right;\">\n      <th></th>\n      <th>Company</th>\n      <th>Sales</th>\n      <th>Stores</th>\n      <th>Sales/Avg. Store</th>\n      <th>Store Count Growth</th>\n      <th>Category</th>\n    </tr>\n  </thead>\n  <tbody>\n    <tr>\n      <th>1</th>\n      <td>Kroger</td>\n      <td>115037</td>\n      <td>3931.0</td>\n      <td>30.031850</td>\n      <td>0.053887</td>\n      <td>Grocery</td>\n    </tr>\n    <tr>\n      <th>2</th>\n      <td>Costco</td>\n      <td>90048</td>\n      <td>495.0</td>\n      <td>187.795620</td>\n      <td>0.066810</td>\n      <td>Warehouse Club</td>\n    </tr>\n    <tr>\n      <th>3</th>\n      <td>Home Depot</td>\n      <td>83976</td>\n      <td>1965.0</td>\n      <td>42.735878</td>\n      <td>0.000000</td>\n      <td>Home Improvement</td>\n    </tr>\n    <tr>\n      <th>4</th>\n      <td>Walgreen Boots</td>\n      <td>78924</td>\n      <td>8002.0</td>\n      <td>9.810927</td>\n      <td>-0.010511</td>\n      <td>Drug Stores</td>\n    </tr>\n    <tr>\n      <th>5</th>\n      <td>CVS incl. Target</td>\n      <td>77792</td>\n      <td>9813.0</td>\n      <td>8.825959</td>\n      <td>0.255662</td>\n      <td>Drug Stores</td>\n    </tr>\n    <tr>\n      <th>6</th>\n      <td>Amazon</td>\n      <td>71687</td>\n      <td>NaN</td>\n      <td>NaN</td>\n      <td>NaN</td>\n      <td>Electronic/Mail Order</td>\n    </tr>\n    <tr>\n      <th>7</th>\n      <td>Target</td>\n      <td>71208</td>\n      <td>1772.0</td>\n      <td>39.982033</td>\n      <td>-0.010056</td>\n      <td>Supercenters</td>\n    </tr>\n    <tr>\n      <th>8</th>\n      <td>Lowe's</td>\n      <td>60311</td>\n      <td>1828.0</td>\n      <td>33.311792</td>\n      <td>0.019520</td>\n      <td>Home Improvement</td>\n    </tr>\n    <tr>\n      <th>9</th>\n      <td>Albertsons</td>\n      <td>56829</td>\n      <td>2326.0</td>\n      <td>23.877731</td>\n      <td>-0.044371</td>\n      <td>Grocery</td>\n    </tr>\n    <tr>\n      <th>10</th>\n      <td>Sam's Club</td>\n      <td>56828</td>\n      <td>655.0</td>\n      <td>87.293395</td>\n      <td>0.012365</td>\n      <td>Warehouse Clubs</td>\n    </tr>\n    <tr>\n      <th>11</th>\n      <td>Apple incl. Online</td>\n      <td>37664</td>\n      <td>NaN</td>\n      <td>NaN</td>\n      <td>NaN</td>\n      <td>Electronic/Mail Order</td>\n    </tr>\n    <tr>\n      <th>12</th>\n      <td>Best Buy</td>\n      <td>34980</td>\n      <td>1389.0</td>\n      <td>24.685956</td>\n      <td>-0.038754</td>\n      <td>Electronics</td>\n    </tr>\n    <tr>\n      <th>13</th>\n      <td>Publix</td>\n      <td>34408</td>\n      <td>1351.0</td>\n      <td>25.997733</td>\n      <td>0.042438</td>\n      <td>Grocery</td>\n    </tr>\n    <tr>\n      <th>14</th>\n      <td>Rite Aid</td>\n      <td>27486</td>\n      <td>4553.0</td>\n      <td>6.025649</td>\n      <td>-0.003720</td>\n      <td>Drug Stores</td>\n    </tr>\n    <tr>\n      <th>15</th>\n      <td>Ahold</td>\n      <td>26903</td>\n      <td>794.0</td>\n      <td>34.446863</td>\n      <td>0.033854</td>\n      <td>Grocery</td>\n    </tr>\n    <tr>\n      <th>16</th>\n      <td>Macy's</td>\n      <td>26028</td>\n      <td>889.0</td>\n      <td>30.442105</td>\n      <td>0.082826</td>\n      <td>Department Stores</td>\n    </tr>\n    <tr>\n      <th>17</th>\n      <td>TJX</td>\n      <td>25012</td>\n      <td>2770.0</td>\n      <td>9.369545</td>\n      <td>0.078241</td>\n      <td>Apparel</td>\n    </tr>\n    <tr>\n      <th>18</th>\n      <td>Aldi</td>\n      <td>24402</td>\n      <td>2021.0</td>\n      <td>12.715998</td>\n      <td>0.112273</td>\n      <td>Grocery</td>\n    </tr>\n    <tr>\n      <th>19</th>\n      <td>Dollar General</td>\n      <td>22234</td>\n      <td>13350.0</td>\n      <td>1.768885</td>\n      <td>0.132412</td>\n      <td>Dollar Stores</td>\n    </tr>\n    <tr>\n      <th>20</th>\n      <td>Dollar Tree</td>\n      <td>21464</td>\n      <td>14250.0</td>\n      <td>1.563919</td>\n      <td>0.079627</td>\n      <td>Dollar Stores</td>\n    </tr>\n    <tr>\n      <th>21</th>\n      <td>HEB</td>\n      <td>21384</td>\n      <td>323.0</td>\n      <td>66.825000</td>\n      <td>0.018927</td>\n      <td>Grocery</td>\n    </tr>\n    <tr>\n      <th>22</th>\n      <td>Kohl's</td>\n      <td>19060</td>\n      <td>1169.0</td>\n      <td>16.353496</td>\n      <td>0.006024</td>\n      <td>Department Stores</td>\n    </tr>\n    <tr>\n      <th>23</th>\n      <td>Delhaize</td>\n      <td>18201</td>\n      <td>1280.0</td>\n      <td>13.783415</td>\n      <td>-0.059515</td>\n      <td>Grocery</td>\n    </tr>\n    <tr>\n      <th>24</th>\n      <td>Meijer</td>\n      <td>16592</td>\n      <td>231.0</td>\n      <td>74.738739</td>\n      <td>0.084507</td>\n      <td>Supercenters</td>\n    </tr>\n  </tbody>\n</table>\n</div>"
     },
     "metadata": {}
    }
   ],
   "execution_count": null
  },
  {
   "cell_type": "markdown",
   "source": "#### 4. Calculamos el promedio de ventas.",
   "metadata": {
    "cell_id": "4284ae30-8611-4835-8656-94be2507dd4d",
    "tags": [],
    "deepnote_cell_height": 54,
    "deepnote_cell_type": "markdown"
   }
  },
  {
   "cell_type": "code",
   "metadata": {
    "cell_id": "a98bd3df-ffeb-43b9-9768-39d0fd90c7f9",
    "tags": [],
    "deepnote_to_be_reexecuted": false,
    "source_hash": "18c9923e",
    "execution_start": 1645648619640,
    "execution_millis": 265868,
    "deepnote_output_heights": [
     21.1875
    ],
    "deepnote_cell_height": 118.1875,
    "deepnote_cell_type": "code"
   },
   "source": "promedio_ventas = int(companies_without_walmart['Sales'].mean()) #Parseamos a int para forzar el resultado a un número entero ya que no pueden haber ventas fraccionadas.\n\nprint('El promedio de ventas excluyendo Walmart es de ', promedio_ventas, ' unidades vendidas.')",
   "outputs": [
    {
     "name": "stdout",
     "text": "El promedio de ventas excluyendo Walmart es de  46602  unidades vendidas.\n",
     "output_type": "stream"
    }
   ],
   "execution_count": null
  },
  {
   "cell_type": "markdown",
   "source": "#### 5. Finalmente llegamos a que el promedio de ventas es de 46602 unidades.",
   "metadata": {
    "cell_id": "be435dee-1023-4800-8de5-ee3454c923a0",
    "tags": [],
    "deepnote_cell_type": "markdown"
   }
  },
  {
   "cell_type": "markdown",
   "source": "#### Conclusiones:\n\n- 🛒 El promedio de ventas, excluyendo a la compañía dominante, es de **46602** unidades. \n\n- 🥇 Considerando la amplia diferencia de ventas que hay entre el primer y segundo lugar, podemos afirmar que **Walmart es la empresa que domina el mercado retail en ventas.**\n- 📋 Sin contar a Walmart, el top 10 de compañías que vendieron más estan por encima del promedio. **Si deseamos posicionarnos en el top 10 de compañías retail de ventas debemos vender por encima de la media.**\n- 💎 Siendo nosotros una empresa iniciante y que Walmart supera con amplia diferencia en ventas al resto de la competencia, **debemos tomarla como un caso excepcional** en las empresas retail y que por ende **no debemos ni proyectar ni competir con las ventas de Walmart.** \n- 🎯 **Nuestro plan de ventas y proyección a largo plazo debe aspirar en primera instancia a estar por el promedio de ventas**. Pues es la cifra en que la competencia aproximadamente vende.carr **Nuestro plan de ventas y proyección a largo plazo debe aspirar en primera instancia a estar por el promedio de ventas**. Pues es la cifra en que la competencia aproximadamente vende.",
   "metadata": {
    "cell_id": "02ab1f3a-1f6a-4184-a880-a48777a22e11",
    "tags": [],
    "deepnote_cell_height": 175.5625,
    "deepnote_cell_type": "markdown"
   }
  },
  {
   "cell_type": "markdown",
   "source": "### 2. ¿Cuánto dinero en ventas generó la mayoría de las compañías?",
   "metadata": {
    "cell_id": "1814847a-365e-4bae-9fb9-6bed9b874b37",
    "tags": [],
    "deepnote_cell_height": 62,
    "deepnote_cell_type": "markdown"
   }
  },
  {
   "cell_type": "markdown",
   "source": "#### 1. Para ello usamos el dataset de todas las compañías excluyendo a Walmart, ya que es un caso atipico dentro de los casos y nos ayudará a tener una visualización más clara.",
   "metadata": {
    "cell_id": "ec62df87-af38-473f-ae91-14a332a13fce",
    "tags": [],
    "deepnote_cell_height": 54,
    "deepnote_cell_type": "markdown"
   }
  },
  {
   "cell_type": "code",
   "source": "\n\ndf_3 = _deepnote_execute_sql(\"\"\"SELECT *\nFROM companies_without_walmart\n\"\"\", 'SQL_DEEPNOTE_DATAFRAME_SQL')\ndf_3",
   "metadata": {
    "tags": [],
    "deepnote_variable_name": "df_3",
    "sql_integration_id": "deepnote-dataframe-sql",
    "cell_id": "7f619a14-7e8a-44e0-8d12-e0c1ebe5ded1",
    "deepnote_to_be_reexecuted": false,
    "source_hash": "74f0c792",
    "execution_start": 1645648619718,
    "execution_millis": 867,
    "deepnote_table_state": {
     "pageSize": 10,
     "pageIndex": 1,
     "filters": [],
     "sortBy": []
    },
    "deepnote_table_loading": false,
    "deepnote_cell_type": "sql",
    "deepnote_sql_source": "SELECT *\nFROM companies_without_walmart"
   },
   "outputs": [
    {
     "output_type": "execute_result",
     "execution_count": 7,
     "data": {
      "application/vnd.deepnote.dataframe.v3+json": {
       "column_count": 6,
       "row_count": 24,
       "columns": [
        {
         "name": "Company",
         "dtype": "object",
         "stats": {
          "unique_count": 24,
          "nan_count": 0,
          "categories": [
           {
            "name": "Kroger",
            "count": 1
           },
           {
            "name": "Costco",
            "count": 1
           },
           {
            "name": "22 others",
            "count": 22
           }
          ]
         }
        },
        {
         "name": "Sales",
         "dtype": "int64",
         "stats": {
          "unique_count": 24,
          "nan_count": 0,
          "min": "16592",
          "max": "115037",
          "histogram": [
           {
            "bin_start": 16592,
            "bin_end": 26436.5,
            "count": 9
           },
           {
            "bin_start": 26436.5,
            "bin_end": 36281,
            "count": 4
           },
           {
            "bin_start": 36281,
            "bin_end": 46125.5,
            "count": 1
           },
           {
            "bin_start": 46125.5,
            "bin_end": 55970,
            "count": 0
           },
           {
            "bin_start": 55970,
            "bin_end": 65814.5,
            "count": 3
           },
           {
            "bin_start": 65814.5,
            "bin_end": 75659,
            "count": 2
           },
           {
            "bin_start": 75659,
            "bin_end": 85503.5,
            "count": 3
           },
           {
            "bin_start": 85503.5,
            "bin_end": 95348,
            "count": 1
           },
           {
            "bin_start": 95348,
            "bin_end": 105192.5,
            "count": 0
           },
           {
            "bin_start": 105192.5,
            "bin_end": 115037,
            "count": 1
           }
          ]
         }
        },
        {
         "name": "Stores",
         "dtype": "float64",
         "stats": {
          "unique_count": 22,
          "nan_count": 2,
          "min": "231.0",
          "max": "14250.0",
          "histogram": [
           {
            "bin_start": 231,
            "bin_end": 1632.9,
            "count": 10
           },
           {
            "bin_start": 1632.9,
            "bin_end": 3034.8,
            "count": 6
           },
           {
            "bin_start": 3034.8,
            "bin_end": 4436.700000000001,
            "count": 1
           },
           {
            "bin_start": 4436.700000000001,
            "bin_end": 5838.6,
            "count": 1
           },
           {
            "bin_start": 5838.6,
            "bin_end": 7240.5,
            "count": 0
           },
           {
            "bin_start": 7240.5,
            "bin_end": 8642.400000000001,
            "count": 1
           },
           {
            "bin_start": 8642.400000000001,
            "bin_end": 10044.300000000001,
            "count": 1
           },
           {
            "bin_start": 10044.300000000001,
            "bin_end": 11446.2,
            "count": 0
           },
           {
            "bin_start": 11446.2,
            "bin_end": 12848.1,
            "count": 0
           },
           {
            "bin_start": 12848.1,
            "bin_end": 14250,
            "count": 2
           }
          ]
         }
        },
        {
         "name": "Sales/Avg. Store",
         "dtype": "float64",
         "stats": {
          "unique_count": 22,
          "nan_count": 2,
          "min": "1.56391854",
          "max": "187.7956204",
          "histogram": [
           {
            "bin_start": 1.56391854,
            "bin_end": 20.187088726,
            "count": 9
           },
           {
            "bin_start": 20.187088726,
            "bin_end": 38.810258912,
            "count": 7
           },
           {
            "bin_start": 38.810258912,
            "bin_end": 57.433429098000005,
            "count": 2
           },
           {
            "bin_start": 57.433429098000005,
            "bin_end": 76.056599284,
            "count": 2
           },
           {
            "bin_start": 76.056599284,
            "bin_end": 94.67976947,
            "count": 1
           },
           {
            "bin_start": 94.67976947,
            "bin_end": 113.302939656,
            "count": 0
           },
           {
            "bin_start": 113.302939656,
            "bin_end": 131.926109842,
            "count": 0
           },
           {
            "bin_start": 131.926109842,
            "bin_end": 150.549280028,
            "count": 0
           },
           {
            "bin_start": 150.549280028,
            "bin_end": 169.172450214,
            "count": 0
           },
           {
            "bin_start": 169.172450214,
            "bin_end": 187.7956204,
            "count": 1
           }
          ]
         }
        },
        {
         "name": "Store Count Growth",
         "dtype": "float64",
         "stats": {
          "unique_count": 22,
          "nan_count": 2,
          "min": "-0.05951506245",
          "max": "0.2556621881",
          "histogram": [
           {
            "bin_start": -0.05951506245,
            "bin_end": -0.027997337395000002,
            "count": 3
           },
           {
            "bin_start": -0.027997337395000002,
            "bin_end": 0.003520387659999999,
            "count": 4
           },
           {
            "bin_start": 0.003520387659999999,
            "bin_end": 0.035038112715,
            "count": 5
           },
           {
            "bin_start": 0.035038112715,
            "bin_end": 0.06655583777,
            "count": 2
           },
           {
            "bin_start": 0.06655583777,
            "bin_end": 0.098073562825,
            "count": 5
           },
           {
            "bin_start": 0.098073562825,
            "bin_end": 0.12959128788000002,
            "count": 1
           },
           {
            "bin_start": 0.12959128788000002,
            "bin_end": 0.16110901293500002,
            "count": 1
           },
           {
            "bin_start": 0.16110901293500002,
            "bin_end": 0.19262673799000002,
            "count": 0
           },
           {
            "bin_start": 0.19262673799000002,
            "bin_end": 0.22414446304500002,
            "count": 0
           },
           {
            "bin_start": 0.22414446304500002,
            "bin_end": 0.2556621881,
            "count": 1
           }
          ]
         }
        },
        {
         "name": "Category",
         "dtype": "object",
         "stats": {
          "unique_count": 11,
          "nan_count": 0,
          "categories": [
           {
            "name": "Grocery",
            "count": 7
           },
           {
            "name": "Drug Stores",
            "count": 3
           },
           {
            "name": "9 others",
            "count": 14
           }
          ]
         }
        },
        {
         "name": "_deepnote_index_column",
         "dtype": "int64"
        }
       ],
       "rows": [
        {
         "Company": "Apple incl. Online",
         "Sales": 37664,
         "Stores": "nan",
         "Sales/Avg. Store": "nan",
         "Store Count Growth": "nan",
         "Category": "Electronic/Mail Order",
         "_deepnote_index_column": 10
        },
        {
         "Company": "Best Buy",
         "Sales": 34980,
         "Stores": 1389,
         "Sales/Avg. Store": 24.68595625,
         "Store Count Growth": -0.03875432526,
         "Category": "Electronics",
         "_deepnote_index_column": 11
        },
        {
         "Company": "Publix",
         "Sales": 34408,
         "Stores": 1351,
         "Sales/Avg. Store": 25.99773328,
         "Store Count Growth": 0.0424382716,
         "Category": "Grocery",
         "_deepnote_index_column": 12
        },
        {
         "Company": "Rite Aid",
         "Sales": 27486,
         "Stores": 4553,
         "Sales/Avg. Store": 6.025649457,
         "Store Count Growth": -0.003719912473,
         "Category": "Drug Stores",
         "_deepnote_index_column": 13
        },
        {
         "Company": "Ahold",
         "Sales": 26903,
         "Stores": 794,
         "Sales/Avg. Store": 34.446863,
         "Store Count Growth": 0.03385416667,
         "Category": "Grocery",
         "_deepnote_index_column": 14
        },
        {
         "Company": "Macy's",
         "Sales": 26028,
         "Stores": 889,
         "Sales/Avg. Store": 30.44210526,
         "Store Count Growth": 0.08282582217,
         "Category": "Department Stores",
         "_deepnote_index_column": 15
        },
        {
         "Company": "TJX",
         "Sales": 25012,
         "Stores": 2770,
         "Sales/Avg. Store": 9.369544859,
         "Store Count Growth": 0.07824056053,
         "Category": "Apparel",
         "_deepnote_index_column": 16
        },
        {
         "Company": "Aldi",
         "Sales": 24402,
         "Stores": 2021,
         "Sales/Avg. Store": 12.71599792,
         "Store Count Growth": 0.1122729774,
         "Category": "Grocery",
         "_deepnote_index_column": 17
        },
        {
         "Company": "Dollar General",
         "Sales": 22234,
         "Stores": 13350,
         "Sales/Avg. Store": 1.768884999,
         "Store Count Growth": 0.1324115701,
         "Category": "Dollar Stores",
         "_deepnote_index_column": 18
        },
        {
         "Company": "Dollar Tree",
         "Sales": 21464,
         "Stores": 14250,
         "Sales/Avg. Store": 1.56391854,
         "Store Count Growth": 0.07962724449,
         "Category": "Dollar Stores",
         "_deepnote_index_column": 19
        }
       ]
      },
      "text/plain": "               Company   Sales   Stores  Sales/Avg. Store  Store Count Growth  \\\n0               Kroger  115037   3931.0         30.031850            0.053887   \n1               Costco   90048    495.0        187.795620            0.066810   \n2           Home Depot   83976   1965.0         42.735878            0.000000   \n3       Walgreen Boots   78924   8002.0          9.810927           -0.010511   \n4     CVS incl. Target   77792   9813.0          8.825959            0.255662   \n5               Amazon   71687      NaN               NaN                 NaN   \n6               Target   71208   1772.0         39.982033           -0.010056   \n7               Lowe's   60311   1828.0         33.311792            0.019520   \n8           Albertsons   56829   2326.0         23.877731           -0.044371   \n9           Sam's Club   56828    655.0         87.293395            0.012365   \n10  Apple incl. Online   37664      NaN               NaN                 NaN   \n11            Best Buy   34980   1389.0         24.685956           -0.038754   \n12              Publix   34408   1351.0         25.997733            0.042438   \n13            Rite Aid   27486   4553.0          6.025649           -0.003720   \n14               Ahold   26903    794.0         34.446863            0.033854   \n15              Macy's   26028    889.0         30.442105            0.082826   \n16                 TJX   25012   2770.0          9.369545            0.078241   \n17                Aldi   24402   2021.0         12.715998            0.112273   \n18      Dollar General   22234  13350.0          1.768885            0.132412   \n19         Dollar Tree   21464  14250.0          1.563919            0.079627   \n20                 HEB   21384    323.0         66.825000            0.018927   \n21              Kohl's   19060   1169.0         16.353496            0.006024   \n22            Delhaize   18201   1280.0         13.783415           -0.059515   \n23              Meijer   16592    231.0         74.738739            0.084507   \n\n                 Category  \n0                 Grocery  \n1          Warehouse Club  \n2        Home Improvement  \n3             Drug Stores  \n4             Drug Stores  \n5   Electronic/Mail Order  \n6            Supercenters  \n7        Home Improvement  \n8                 Grocery  \n9         Warehouse Clubs  \n10  Electronic/Mail Order  \n11            Electronics  \n12                Grocery  \n13            Drug Stores  \n14                Grocery  \n15      Department Stores  \n16                Apparel  \n17                Grocery  \n18          Dollar Stores  \n19          Dollar Stores  \n20                Grocery  \n21      Department Stores  \n22                Grocery  \n23           Supercenters  ",
      "text/html": "<div>\n<style scoped>\n    .dataframe tbody tr th:only-of-type {\n        vertical-align: middle;\n    }\n\n    .dataframe tbody tr th {\n        vertical-align: top;\n    }\n\n    .dataframe thead th {\n        text-align: right;\n    }\n</style>\n<table border=\"1\" class=\"dataframe\">\n  <thead>\n    <tr style=\"text-align: right;\">\n      <th></th>\n      <th>Company</th>\n      <th>Sales</th>\n      <th>Stores</th>\n      <th>Sales/Avg. Store</th>\n      <th>Store Count Growth</th>\n      <th>Category</th>\n    </tr>\n  </thead>\n  <tbody>\n    <tr>\n      <th>0</th>\n      <td>Kroger</td>\n      <td>115037</td>\n      <td>3931.0</td>\n      <td>30.031850</td>\n      <td>0.053887</td>\n      <td>Grocery</td>\n    </tr>\n    <tr>\n      <th>1</th>\n      <td>Costco</td>\n      <td>90048</td>\n      <td>495.0</td>\n      <td>187.795620</td>\n      <td>0.066810</td>\n      <td>Warehouse Club</td>\n    </tr>\n    <tr>\n      <th>2</th>\n      <td>Home Depot</td>\n      <td>83976</td>\n      <td>1965.0</td>\n      <td>42.735878</td>\n      <td>0.000000</td>\n      <td>Home Improvement</td>\n    </tr>\n    <tr>\n      <th>3</th>\n      <td>Walgreen Boots</td>\n      <td>78924</td>\n      <td>8002.0</td>\n      <td>9.810927</td>\n      <td>-0.010511</td>\n      <td>Drug Stores</td>\n    </tr>\n    <tr>\n      <th>4</th>\n      <td>CVS incl. Target</td>\n      <td>77792</td>\n      <td>9813.0</td>\n      <td>8.825959</td>\n      <td>0.255662</td>\n      <td>Drug Stores</td>\n    </tr>\n    <tr>\n      <th>5</th>\n      <td>Amazon</td>\n      <td>71687</td>\n      <td>NaN</td>\n      <td>NaN</td>\n      <td>NaN</td>\n      <td>Electronic/Mail Order</td>\n    </tr>\n    <tr>\n      <th>6</th>\n      <td>Target</td>\n      <td>71208</td>\n      <td>1772.0</td>\n      <td>39.982033</td>\n      <td>-0.010056</td>\n      <td>Supercenters</td>\n    </tr>\n    <tr>\n      <th>7</th>\n      <td>Lowe's</td>\n      <td>60311</td>\n      <td>1828.0</td>\n      <td>33.311792</td>\n      <td>0.019520</td>\n      <td>Home Improvement</td>\n    </tr>\n    <tr>\n      <th>8</th>\n      <td>Albertsons</td>\n      <td>56829</td>\n      <td>2326.0</td>\n      <td>23.877731</td>\n      <td>-0.044371</td>\n      <td>Grocery</td>\n    </tr>\n    <tr>\n      <th>9</th>\n      <td>Sam's Club</td>\n      <td>56828</td>\n      <td>655.0</td>\n      <td>87.293395</td>\n      <td>0.012365</td>\n      <td>Warehouse Clubs</td>\n    </tr>\n    <tr>\n      <th>10</th>\n      <td>Apple incl. Online</td>\n      <td>37664</td>\n      <td>NaN</td>\n      <td>NaN</td>\n      <td>NaN</td>\n      <td>Electronic/Mail Order</td>\n    </tr>\n    <tr>\n      <th>11</th>\n      <td>Best Buy</td>\n      <td>34980</td>\n      <td>1389.0</td>\n      <td>24.685956</td>\n      <td>-0.038754</td>\n      <td>Electronics</td>\n    </tr>\n    <tr>\n      <th>12</th>\n      <td>Publix</td>\n      <td>34408</td>\n      <td>1351.0</td>\n      <td>25.997733</td>\n      <td>0.042438</td>\n      <td>Grocery</td>\n    </tr>\n    <tr>\n      <th>13</th>\n      <td>Rite Aid</td>\n      <td>27486</td>\n      <td>4553.0</td>\n      <td>6.025649</td>\n      <td>-0.003720</td>\n      <td>Drug Stores</td>\n    </tr>\n    <tr>\n      <th>14</th>\n      <td>Ahold</td>\n      <td>26903</td>\n      <td>794.0</td>\n      <td>34.446863</td>\n      <td>0.033854</td>\n      <td>Grocery</td>\n    </tr>\n    <tr>\n      <th>15</th>\n      <td>Macy's</td>\n      <td>26028</td>\n      <td>889.0</td>\n      <td>30.442105</td>\n      <td>0.082826</td>\n      <td>Department Stores</td>\n    </tr>\n    <tr>\n      <th>16</th>\n      <td>TJX</td>\n      <td>25012</td>\n      <td>2770.0</td>\n      <td>9.369545</td>\n      <td>0.078241</td>\n      <td>Apparel</td>\n    </tr>\n    <tr>\n      <th>17</th>\n      <td>Aldi</td>\n      <td>24402</td>\n      <td>2021.0</td>\n      <td>12.715998</td>\n      <td>0.112273</td>\n      <td>Grocery</td>\n    </tr>\n    <tr>\n      <th>18</th>\n      <td>Dollar General</td>\n      <td>22234</td>\n      <td>13350.0</td>\n      <td>1.768885</td>\n      <td>0.132412</td>\n      <td>Dollar Stores</td>\n    </tr>\n    <tr>\n      <th>19</th>\n      <td>Dollar Tree</td>\n      <td>21464</td>\n      <td>14250.0</td>\n      <td>1.563919</td>\n      <td>0.079627</td>\n      <td>Dollar Stores</td>\n    </tr>\n    <tr>\n      <th>20</th>\n      <td>HEB</td>\n      <td>21384</td>\n      <td>323.0</td>\n      <td>66.825000</td>\n      <td>0.018927</td>\n      <td>Grocery</td>\n    </tr>\n    <tr>\n      <th>21</th>\n      <td>Kohl's</td>\n      <td>19060</td>\n      <td>1169.0</td>\n      <td>16.353496</td>\n      <td>0.006024</td>\n      <td>Department Stores</td>\n    </tr>\n    <tr>\n      <th>22</th>\n      <td>Delhaize</td>\n      <td>18201</td>\n      <td>1280.0</td>\n      <td>13.783415</td>\n      <td>-0.059515</td>\n      <td>Grocery</td>\n    </tr>\n    <tr>\n      <th>23</th>\n      <td>Meijer</td>\n      <td>16592</td>\n      <td>231.0</td>\n      <td>74.738739</td>\n      <td>0.084507</td>\n      <td>Supercenters</td>\n    </tr>\n  </tbody>\n</table>\n</div>"
     },
     "metadata": {}
    }
   ],
   "execution_count": null
  },
  {
   "cell_type": "markdown",
   "source": "#### 2. Realizamos un diagrama que muestra que tan común es tener X rango de ventas. El rango con más ocurrencias es la barra de mayor altura y por ende nuestro resultado.",
   "metadata": {
    "cell_id": "de5d291d-ff4f-4d8c-b2cb-1b1bbf1d62e7",
    "tags": [],
    "deepnote_cell_height": 54,
    "deepnote_cell_type": "markdown"
   }
  },
  {
   "cell_type": "code",
   "metadata": {
    "cell_id": "e1eee722-4195-4121-9020-eb82811bc7e7",
    "tags": [],
    "deepnote_cell_height": 399,
    "deepnote_to_be_reexecuted": false,
    "source_hash": "62f123c0",
    "execution_start": 1645648620586,
    "execution_millis": 541,
    "deepnote_output_heights": [
     266
    ],
    "deepnote_cell_type": "code"
   },
   "source": "plt.figure(figsize=(15,6))\nsns.histplot(companies_without_walmart, x='Sales', color=\"#DF5838\", bins=10)\nplt.title('Sales distribution', family='avenir', weight=\"bold\", size=20, pad=24)\nplt.xlabel('Different sale ranges', family='avenir', weight=\"light\", size=16, labelpad=15)\nplt.ylabel('Counter', family='avenir', weight=\"light\", size=16, labelpad=15)\nplt.show()",
   "outputs": [
    {
     "name": "stderr",
     "text": "findfont: Font family ['avenir'] not found. Falling back to DejaVu Sans.\n",
     "output_type": "stream"
    },
    {
     "data": {
      "text/plain": "<Figure size 1080x432 with 1 Axes>",
      "image/png": "[encoded data removed]"
     },
     "metadata": {
      "needs_background": "light",
      "image/png": {
       "width": 894,
       "height": 426
      }
     },
     "output_type": "display_data"
    }
   ],
   "execution_count": null
  },
  {
   "cell_type": "markdown",
   "source": "#### 3. Para apreciar el resultado de una mejor manera ampliamos la imagen.",
   "metadata": {
    "cell_id": "df917473-36b6-4417-b868-f5602bb156b7",
    "tags": [],
    "deepnote_cell_height": 54,
    "deepnote_cell_type": "markdown"
   }
  },
  {
   "cell_type": "code",
   "metadata": {
    "cell_id": "ec89debd-e8e8-4c82-bc5a-d00c37278aa0",
    "tags": [],
    "deepnote_cell_height": 417,
    "deepnote_to_be_reexecuted": false,
    "source_hash": "fc5fd8e5",
    "execution_start": 1645648621137,
    "execution_millis": 619,
    "deepnote_output_heights": [
     266
    ],
    "deepnote_cell_type": "code"
   },
   "source": "plt.figure(figsize=(6,6))\nsns.histplot(companies_without_walmart, x='Sales', color=\"#DF5838\", bins=10)\nplt.xlim(16000, 32000)\nplt.title('Sales distribution', family='avenir', weight=\"bold\", size=20, pad=24)\nplt.xlabel('Different sale ranges', family='avenir', weight=\"light\", size=16, labelpad=15)\nplt.ylabel('Counter', family='avenir', weight=\"light\", size=16, labelpad=15)\nplt.show()",
   "outputs": [
    {
     "data": {
      "text/plain": "<Figure size 432x432 with 1 Axes>",
      "image/png": "[encoded data removed]"
     },
     "metadata": {
      "needs_background": "light",
      "image/png": {
       "width": 408,
       "height": 426
      }
     },
     "output_type": "display_data"
    }
   ],
   "execution_count": null
  },
  {
   "cell_type": "markdown",
   "source": "#### 4. Con esta visualización podemos concluir que, con 9 empresas en el rango, la mayoria de las compañías generaron alrededor de 17000 y 26000 ventas. ",
   "metadata": {
    "cell_id": "2b0a59ec-a2fd-432e-9b3b-bdd37dd18cf3",
    "tags": [],
    "deepnote_cell_height": 54,
    "deepnote_cell_type": "markdown"
   }
  },
  {
   "cell_type": "markdown",
   "source": "#### Conclusiones:\n\n- 🛒 la mayoria de las compañías generaron entre **17000 y 26000** ventas.\n- 😮📑⬇ **El rango más común de ventas es al mismo el rango de menor número de ventas.** Esto quiere decir que **la mayor parte del top 25 empresas retail en Estados Unidos están vendiendo en el rango más bajo del top**. Bajo nuestra condición de empresa iniciante, tendremos mucha más competencia en ventas en los puestos más bajos del top que en otros puestos.\n- 🧐 Es probable que, sabiendo el rango de ventas en donde está la mayoria de la competencia y considerando que somos una empresa iniciante en el rubro retail, **si competimos con las demas compañías de la lista, tendremos como minimo 17000 ventas.**\n",
   "metadata": {
    "cell_id": "52dcd662-37b7-48ce-a97a-7e026eb075d6",
    "tags": [],
    "deepnote_cell_height": 153.171875,
    "deepnote_cell_type": "markdown"
   }
  },
  {
   "cell_type": "markdown",
   "source": "### 3. ¿Cuántas tiendas tiene la mayoría de las compañías?",
   "metadata": {
    "cell_id": "9801295a-a27d-48af-ae87-c653cabd8f67",
    "tags": [],
    "deepnote_cell_height": 62,
    "deepnote_cell_type": "markdown"
   }
  },
  {
   "cell_type": "markdown",
   "source": "#### 1. Nuevamente, para saber cuantas tiendas tiene la mayoria de las compañías podemos realizar una visualización que muestra diferentes rangos de número de tiendas y su ocurrencia en el sector retail.",
   "metadata": {
    "cell_id": "9335b167-d06c-4dd7-86b1-5700c612c49f",
    "tags": [],
    "deepnote_cell_height": 78,
    "deepnote_cell_type": "markdown"
   }
  },
  {
   "cell_type": "code",
   "metadata": {
    "cell_id": "cfcc2261-f6a1-44d8-b8fa-184eec2a77ff",
    "tags": [],
    "deepnote_to_be_reexecuted": false,
    "source_hash": "a24ba485",
    "execution_start": 1645648621763,
    "execution_millis": 670,
    "deepnote_cell_height": 417,
    "deepnote_output_heights": [
     266
    ],
    "deepnote_cell_type": "code"
   },
   "source": "plt.figure(figsize=(10,6))\nsns.histplot(df, x='Stores', color=\"#7A133F\", bins=10)\nplt.title('Store Count Distribution', family='avenir', weight=\"bold\", size=20, pad=24)\nplt.xlabel('Different store count ranges', family='avenir', weight=\"light\", size=16, labelpad=15)\nplt.ylabel('Frecuency', family='avenir', weight=\"light\", size=16, labelpad=15)\nplt.show()",
   "outputs": [
    {
     "data": {
      "text/plain": "<Figure size 720x432 with 1 Axes>",
      "image/png": "[encoded data removed]"
     },
     "metadata": {
      "needs_background": "light",
      "image/png": {
       "width": 622,
       "height": 426
      }
     },
     "output_type": "display_data"
    }
   ],
   "execution_count": null
  },
  {
   "cell_type": "markdown",
   "source": "#### 2. Para apreciar mejor el rango de n°tiendas de mayor frecuencia, ampliamos la imagen.",
   "metadata": {
    "cell_id": "240e659c-7984-47e7-babb-51a008709928",
    "tags": [],
    "deepnote_cell_height": 54,
    "deepnote_cell_type": "markdown"
   }
  },
  {
   "cell_type": "code",
   "metadata": {
    "cell_id": "62e19a88-c223-445c-91f6-56673e19796a",
    "tags": [],
    "deepnote_cell_height": 401,
    "deepnote_to_be_reexecuted": false,
    "source_hash": "9dcf46a1",
    "execution_start": 1645648622442,
    "execution_millis": 519,
    "deepnote_output_heights": [
     250
    ],
    "deepnote_cell_type": "code"
   },
   "source": "plt.figure(figsize=(6,6))\nstores = df['Stores']\nsns.histplot(df, x='Stores', color=\"#7A133F\", bins=10)\nplt.xlim(0, 3000)\nplt.xlabel('Different store count ranges', family='avenir', weight=\"light\", size=16, labelpad=15)\nplt.ylabel('Frecuency', family='avenir', weight=\"light\", size=16, labelpad=15)\nplt.show()",
   "outputs": [
    {
     "data": {
      "text/plain": "<Figure size 432x432 with 1 Axes>",
      "image/png": "[encoded data removed]"
     },
     "metadata": {
      "needs_background": "light",
      "image/png": {
       "width": 411,
       "height": 387
      }
     },
     "output_type": "display_data"
    }
   ],
   "execution_count": null
  },
  {
   "cell_type": "markdown",
   "source": "#### 3. Podemos ver que la mayoria de las compañías dentro del dataframe tienen entre 250 y 1400 tiendas. Siendo 12 compañías que se encuentran dentro de este rango de tiendas.",
   "metadata": {
    "cell_id": "700c86f2-376a-4c4c-925c-77253ebeeaea",
    "tags": [],
    "deepnote_cell_height": 54,
    "deepnote_cell_type": "markdown"
   }
  },
  {
   "cell_type": "markdown",
   "source": "#### Conclusiones:\n- 🏪 La competencia cuenta en su mayoria con, por lo menos, entre **250 y 1400 tiendas.** \n- 🔻 El rango de n°tiendas más frecuente es el rango de menor número de tiendas. Esto nos indica que **la mayor parte de la competencia no cuenta con una gran cantidad de tiendas**. Esto hace pensar que **para estar dentro del top de empresas retail no debemos hacer énfasis en la cantidad de tiendas disponibles.** \n- 😉🎯 Para competir al mismo nivel que la mayoria **no requeriremos de un número enorme de tiendas.**",
   "metadata": {
    "cell_id": "d86e5fcd-3854-4795-abd0-dfe5763b26c5",
    "tags": [],
    "deepnote_cell_height": 175.5625,
    "deepnote_cell_type": "markdown"
   }
  },
  {
   "cell_type": "markdown",
   "source": "### 4. ¿La cantidad de tiendas está relacionada con la cantidad de ventas? Es decir, ¿si una empresa tiene más tiendas tendrá más dinero de ventas?",
   "metadata": {
    "cell_id": "c9b5de28-cd12-4088-9bc0-93df660401f3",
    "tags": [],
    "deepnote_cell_height": 94,
    "deepnote_cell_type": "markdown"
   }
  },
  {
   "cell_type": "markdown",
   "source": "#### 1. Para responder a la pregunta, debemos averiguar si ambas variables estan correlacionadas. Es decir, si el crecimiento de cantidad de tiendas crece proporcionalmente al crecimiento de las ventas.",
   "metadata": {
    "cell_id": "e4765afb-c4cd-4600-ab98-12dd5f19a7e9",
    "tags": [],
    "deepnote_cell_height": 78,
    "deepnote_cell_type": "markdown"
   }
  },
  {
   "cell_type": "markdown",
   "source": "#### 2. Para analizar la correlación entre variables realizamos la siguiente visualización en donde los valores diferentes a 1 son aquellos que indican la correlación entre las variables. Mientras más alto el valor más correlacionados están. Como este dataframe tiene valores nulos aplicamos un filtro para realizar correctamente la operación.",
   "metadata": {
    "cell_id": "98bcece1-06a7-4eab-9318-5a4a6ddf6dee",
    "tags": [],
    "deepnote_cell_height": 74.78125,
    "deepnote_cell_type": "markdown"
   }
  },
  {
   "cell_type": "code",
   "metadata": {
    "cell_id": "8a27bb0e-4cf8-4db8-bead-99f3627854e6",
    "tags": [],
    "deepnote_to_be_reexecuted": false,
    "source_hash": "5542d9a7",
    "execution_start": 1645648622974,
    "execution_millis": 514,
    "deepnote_output_heights": [
     40.375
    ],
    "deepnote_cell_height": 173.375,
    "deepnote_cell_type": "code"
   },
   "source": "df['Stores'] = df['Stores'].replace([np.NaN], 0) #Mapeamos los valores NaN por 0\n\ncorrelation_matrix = np.corrcoef(df['Stores'],df['Sales'])\n\nplt.figure(figsize=(10,6))\nsns.heatmap(correlation_matrix, annot=True ,vmin=0, vmax=1, xticklabels=False, yticklabels=False)\nplt.title(' % of correlation of N°Sales vs. N°Store', family='avenir', weight=\"bold\", size=13, pad=20)\nplt.xlabel('Store', family='avenir', weight=\"light\", loc=\"left\", size=16, labelpad=15)\nplt.ylabel('Sales', family='avenir', weight=\"light\", loc=\"bottom\", size=16, labelpad=15)\nplt.show()",
   "outputs": [
    {
     "name": "stderr",
     "text": "findfont: Font family ['avenir'] not found. Falling back to DejaVu Sans.\n",
     "output_type": "stream"
    },
    {
     "data": {
      "text/plain": "<Figure size 720x432 with 2 Axes>",
      "image/png": "[encoded data removed]"
     },
     "metadata": {
      "needs_background": "light",
      "image/png": {
       "width": 557,
       "height": 400
      }
     },
     "output_type": "display_data"
    }
   ],
   "execution_count": null
  },
  {
   "cell_type": "markdown",
   "source": "#### 2. Los coeficientes de correlación rozan el 7% lo que quiere decir que la relación de crecimiento entre tiendas y ventas es muy baja y que, por ende, la cantidad de tiendas NO está relacionada con la cantidad de ventas. Para ilustrarlo de una mejor manera realizamos la siguiente visualización.",
   "metadata": {
    "cell_id": "aab2f3d6-668d-4b8e-b529-38dc44885a3c",
    "tags": [],
    "deepnote_cell_height": 78,
    "deepnote_cell_type": "markdown"
   }
  },
  {
   "cell_type": "code",
   "metadata": {
    "cell_id": "65a64f97-323f-4302-938f-78141638f0bc",
    "tags": [],
    "deepnote_to_be_reexecuted": false,
    "source_hash": "7a764851",
    "execution_start": 1645648623495,
    "execution_millis": 1140,
    "deepnote_output_heights": [
     21.1875,
     264
    ],
    "deepnote_cell_height": 413.1875,
    "deepnote_cell_type": "code"
   },
   "source": "plt.figure(figsize=(7,7))\n\ndf.insert(1, \"n° sales\", df['Sales'] > 60000, allow_duplicates=False) #Agregamos una columna temporal que indica si la empresa realizo más de 60000 ventas\n\ndf['n° sales'] = df['n° sales'].replace([False], '< 60000') #reemplazamos este valor booleano por su significado en el problema\ndf['n° sales'] = df['n° sales'].replace([True], '> 60000') \n\nsns.scatterplot(x='Stores', y='Sales', hue=df['n° sales'], size='Sales', sizes=(20,200) ,palette=\"rocket\" ,data=df[1:])\nplt.title('N°Sales vs. N°Store', family='avenir', weight=\"bold\", size=16, pad=20)\nplt.xlabel('N° Store', family='avenir', weight=\"light\", size=16, labelpad=15)\nplt.ylabel('Sales', family='avenir', weight=\"light\", size=16, labelpad=15)\nplt.show()\n\ndf = df.drop('n° sales', 1) #Eliminamos la columna",
   "outputs": [
    {
     "name": "stderr",
     "text": "findfont: Font family ['avenir'] not found. Falling back to DejaVu Sans.\n",
     "output_type": "stream"
    },
    {
     "data": {
      "text/plain": "<Figure size 504x504 with 1 Axes>",
      "image/png": "[encoded data removed]"
     },
     "metadata": {
      "needs_background": "light",
      "image/png": {
       "width": 479,
       "height": 473
      }
     },
     "output_type": "display_data"
    }
   ],
   "execution_count": null
  },
  {
   "cell_type": "markdown",
   "source": "#### 3. Como se puede apreciar existen compañías que cuentan con aproximadamente 14000 tiendas y generan 20000 ventas. Mientras que otros casos, tan solo con 2000 tiendas generan más de 80000 ventas. Si hubiese correlación entre las variables, deberiamos ver que los puntos se encuentran alineados similarmente a lo siguiente. ",
   "metadata": {
    "cell_id": "66bd0d0b-7c67-4008-83f9-a344b03721dc",
    "tags": [],
    "deepnote_cell_height": 102,
    "deepnote_cell_type": "markdown"
   }
  },
  {
   "cell_type": "code",
   "metadata": {
    "cell_id": "af32a925-cc3b-4d20-91ea-551516f46b3c",
    "tags": [],
    "deepnote_to_be_reexecuted": false,
    "source_hash": "14245d41",
    "execution_start": 1645648624624,
    "execution_millis": 749,
    "deepnote_cell_type": "code"
   },
   "source": "hypothetical_N_Stores = [560*i for i in range(0, 25)] \nhypothetical_N_Sales =  [4000*i for i in range(0, 25)]\n\nplt.figure(figsize=(7,7))\nsns.scatterplot(x=hypothetical_N_Stores, y=hypothetical_N_Sales, hue=hypothetical_N_Sales, size=hypothetical_N_Sales,sizes=(20,200) ,palette=\"rocket\")\nplt.title('Hypothetical N°Sales vs. N°Store', family='avenir', weight=\"bold\", size=16, pad=20)\nplt.xlabel('N° Store', family='avenir', weight=\"light\", size=16, labelpad=15)\nplt.ylabel('Sales', family='avenir', weight=\"light\", size=16, labelpad=15)\nplt.show()",
   "outputs": [
    {
     "data": {
      "text/plain": "<Figure size 504x504 with 1 Axes>",
      "image/png": "[encoded data removed]"
     },
     "metadata": {
      "needs_background": "light",
      "image/png": {
       "width": 492,
       "height": 473
      }
     },
     "output_type": "display_data"
    }
   ],
   "execution_count": null
  },
  {
   "cell_type": "markdown",
   "source": "#### 4.Queda demostrado que no existe correlación alguna entre la cantidad de tiendas y la cantidad de ventas.",
   "metadata": {
    "cell_id": "0c310ef2-04d7-4223-886d-e3941f33874c",
    "tags": [],
    "deepnote_cell_type": "markdown"
   }
  },
  {
   "cell_type": "markdown",
   "source": "#### Conclusiones: \n- ❌ **La cantidad de ventas no está relacionada con la cantidad de tiendas.**\n- 🏪🔻 Al no estar relacionadas estas variables podemos asegurar que **no es necesario invertir en muchas tiendas para tener una buena cantidad de ventas.**\n- 🛒😮 La visualización evidencia que **las compañías con menos de 2000 tiendas tienden a tener más ventas que aquellas que cuentan con muchas tiendas.** \n- 🧐🛒📈 Como empresa iniciante en el rubro puede ser conveniente **tener pocas tiendas para más ventas.**",
   "metadata": {
    "cell_id": "0f65d599-db93-4648-b3fe-b7570974dd4b",
    "tags": [],
    "deepnote_cell_height": 153.171875,
    "deepnote_cell_type": "markdown"
   }
  },
  {
   "cell_type": "markdown",
   "source": "### 5. ¿Cuál es el rango que existe entre las ventas?",
   "metadata": {
    "cell_id": "d296130b-b739-4424-8c5d-8dc8b6fc8ee5",
    "tags": [],
    "deepnote_cell_height": 62,
    "deepnote_cell_type": "markdown"
   }
  },
  {
   "cell_type": "markdown",
   "source": "#### 1. Para averiguar la respuesta a la respuesta, utilizaremos el dataframe de todas las compañías exceptuando a walmart, ya que, al ser un caso atipico en ventas, sesga el resultado del rango. ",
   "metadata": {
    "cell_id": "ff6d5d9a-133a-4625-a1d1-9b513c547bf9",
    "tags": [],
    "deepnote_cell_height": 78,
    "deepnote_cell_type": "markdown"
   }
  },
  {
   "cell_type": "code",
   "metadata": {
    "tags": [],
    "deepnote_variable_name": "df_1",
    "sql_integration_id": "deepnote-dataframe-sql",
    "cell_id": "aedcde25-df76-4d80-b905-d318b69601ff",
    "deepnote_to_be_reexecuted": false,
    "source_hash": "20f66995",
    "execution_start": 1645648625381,
    "execution_millis": 135,
    "deepnote_table_state": {
     "pageSize": 10,
     "pageIndex": 2,
     "filters": [],
     "sortBy": []
    },
    "deepnote_table_loading": false,
    "deepnote_sql_source": "SELECT *\nFROM companies_without_walmart",
    "deepnote_cell_type": "sql"
   },
   "source": "\n\ndf_1 = _deepnote_execute_sql(\"\"\"SELECT *\nFROM companies_without_walmart\n\"\"\", 'SQL_DEEPNOTE_DATAFRAME_SQL')\ndf_1",
   "outputs": [
    {
     "output_type": "execute_result",
     "execution_count": 15,
     "data": {
      "application/vnd.deepnote.dataframe.v3+json": {
       "column_count": 6,
       "row_count": 24,
       "columns": [
        {
         "name": "Company",
         "dtype": "object",
         "stats": {
          "unique_count": 24,
          "nan_count": 0,
          "categories": [
           {
            "name": "Kroger",
            "count": 1
           },
           {
            "name": "Costco",
            "count": 1
           },
           {
            "name": "22 others",
            "count": 22
           }
          ]
         }
        },
        {
         "name": "Sales",
         "dtype": "int64",
         "stats": {
          "unique_count": 24,
          "nan_count": 0,
          "min": "16592",
          "max": "115037",
          "histogram": [
           {
            "bin_start": 16592,
            "bin_end": 26436.5,
            "count": 9
           },
           {
            "bin_start": 26436.5,
            "bin_end": 36281,
            "count": 4
           },
           {
            "bin_start": 36281,
            "bin_end": 46125.5,
            "count": 1
           },
           {
            "bin_start": 46125.5,
            "bin_end": 55970,
            "count": 0
           },
           {
            "bin_start": 55970,
            "bin_end": 65814.5,
            "count": 3
           },
           {
            "bin_start": 65814.5,
            "bin_end": 75659,
            "count": 2
           },
           {
            "bin_start": 75659,
            "bin_end": 85503.5,
            "count": 3
           },
           {
            "bin_start": 85503.5,
            "bin_end": 95348,
            "count": 1
           },
           {
            "bin_start": 95348,
            "bin_end": 105192.5,
            "count": 0
           },
           {
            "bin_start": 105192.5,
            "bin_end": 115037,
            "count": 1
           }
          ]
         }
        },
        {
         "name": "Stores",
         "dtype": "float64",
         "stats": {
          "unique_count": 22,
          "nan_count": 2,
          "min": "231.0",
          "max": "14250.0",
          "histogram": [
           {
            "bin_start": 231,
            "bin_end": 1632.9,
            "count": 10
           },
           {
            "bin_start": 1632.9,
            "bin_end": 3034.8,
            "count": 6
           },
           {
            "bin_start": 3034.8,
            "bin_end": 4436.700000000001,
            "count": 1
           },
           {
            "bin_start": 4436.700000000001,
            "bin_end": 5838.6,
            "count": 1
           },
           {
            "bin_start": 5838.6,
            "bin_end": 7240.5,
            "count": 0
           },
           {
            "bin_start": 7240.5,
            "bin_end": 8642.400000000001,
            "count": 1
           },
           {
            "bin_start": 8642.400000000001,
            "bin_end": 10044.300000000001,
            "count": 1
           },
           {
            "bin_start": 10044.300000000001,
            "bin_end": 11446.2,
            "count": 0
           },
           {
            "bin_start": 11446.2,
            "bin_end": 12848.1,
            "count": 0
           },
           {
            "bin_start": 12848.1,
            "bin_end": 14250,
            "count": 2
           }
          ]
         }
        },
        {
         "name": "Sales/Avg. Store",
         "dtype": "float64",
         "stats": {
          "unique_count": 22,
          "nan_count": 2,
          "min": "1.56391854",
          "max": "187.7956204",
          "histogram": [
           {
            "bin_start": 1.56391854,
            "bin_end": 20.187088726,
            "count": 9
           },
           {
            "bin_start": 20.187088726,
            "bin_end": 38.810258912,
            "count": 7
           },
           {
            "bin_start": 38.810258912,
            "bin_end": 57.433429098000005,
            "count": 2
           },
           {
            "bin_start": 57.433429098000005,
            "bin_end": 76.056599284,
            "count": 2
           },
           {
            "bin_start": 76.056599284,
            "bin_end": 94.67976947,
            "count": 1
           },
           {
            "bin_start": 94.67976947,
            "bin_end": 113.302939656,
            "count": 0
           },
           {
            "bin_start": 113.302939656,
            "bin_end": 131.926109842,
            "count": 0
           },
           {
            "bin_start": 131.926109842,
            "bin_end": 150.549280028,
            "count": 0
           },
           {
            "bin_start": 150.549280028,
            "bin_end": 169.172450214,
            "count": 0
           },
           {
            "bin_start": 169.172450214,
            "bin_end": 187.7956204,
            "count": 1
           }
          ]
         }
        },
        {
         "name": "Store Count Growth",
         "dtype": "float64",
         "stats": {
          "unique_count": 22,
          "nan_count": 2,
          "min": "-0.05951506245",
          "max": "0.2556621881",
          "histogram": [
           {
            "bin_start": -0.05951506245,
            "bin_end": -0.027997337395000002,
            "count": 3
           },
           {
            "bin_start": -0.027997337395000002,
            "bin_end": 0.003520387659999999,
            "count": 4
           },
           {
            "bin_start": 0.003520387659999999,
            "bin_end": 0.035038112715,
            "count": 5
           },
           {
            "bin_start": 0.035038112715,
            "bin_end": 0.06655583777,
            "count": 2
           },
           {
            "bin_start": 0.06655583777,
            "bin_end": 0.098073562825,
            "count": 5
           },
           {
            "bin_start": 0.098073562825,
            "bin_end": 0.12959128788000002,
            "count": 1
           },
           {
            "bin_start": 0.12959128788000002,
            "bin_end": 0.16110901293500002,
            "count": 1
           },
           {
            "bin_start": 0.16110901293500002,
            "bin_end": 0.19262673799000002,
            "count": 0
           },
           {
            "bin_start": 0.19262673799000002,
            "bin_end": 0.22414446304500002,
            "count": 0
           },
           {
            "bin_start": 0.22414446304500002,
            "bin_end": 0.2556621881,
            "count": 1
           }
          ]
         }
        },
        {
         "name": "Category",
         "dtype": "object",
         "stats": {
          "unique_count": 11,
          "nan_count": 0,
          "categories": [
           {
            "name": "Grocery",
            "count": 7
           },
           {
            "name": "Drug Stores",
            "count": 3
           },
           {
            "name": "9 others",
            "count": 14
           }
          ]
         }
        },
        {
         "name": "_deepnote_index_column",
         "dtype": "int64"
        }
       ],
       "rows": [
        {
         "Company": "HEB",
         "Sales": 21384,
         "Stores": 323,
         "Sales/Avg. Store": 66.825,
         "Store Count Growth": 0.01892744479,
         "Category": "Grocery",
         "_deepnote_index_column": 20
        },
        {
         "Company": "Kohl's",
         "Sales": 19060,
         "Stores": 1169,
         "Sales/Avg. Store": 16.35349635,
         "Store Count Growth": 0.006024096386,
         "Category": "Department Stores",
         "_deepnote_index_column": 21
        },
        {
         "Company": "Delhaize",
         "Sales": 18201,
         "Stores": 1280,
         "Sales/Avg. Store": 13.78341537,
         "Store Count Growth": -0.05951506245,
         "Category": "Grocery",
         "_deepnote_index_column": 22
        },
        {
         "Company": "Meijer",
         "Sales": 16592,
         "Stores": 231,
         "Sales/Avg. Store": 74.73873874,
         "Store Count Growth": 0.08450704225,
         "Category": "Supercenters",
         "_deepnote_index_column": 23
        }
       ]
      },
      "text/plain": "               Company   Sales   Stores  Sales/Avg. Store  Store Count Growth  \\\n0               Kroger  115037   3931.0         30.031850            0.053887   \n1               Costco   90048    495.0        187.795620            0.066810   \n2           Home Depot   83976   1965.0         42.735878            0.000000   \n3       Walgreen Boots   78924   8002.0          9.810927           -0.010511   \n4     CVS incl. Target   77792   9813.0          8.825959            0.255662   \n5               Amazon   71687      NaN               NaN                 NaN   \n6               Target   71208   1772.0         39.982033           -0.010056   \n7               Lowe's   60311   1828.0         33.311792            0.019520   \n8           Albertsons   56829   2326.0         23.877731           -0.044371   \n9           Sam's Club   56828    655.0         87.293395            0.012365   \n10  Apple incl. Online   37664      NaN               NaN                 NaN   \n11            Best Buy   34980   1389.0         24.685956           -0.038754   \n12              Publix   34408   1351.0         25.997733            0.042438   \n13            Rite Aid   27486   4553.0          6.025649           -0.003720   \n14               Ahold   26903    794.0         34.446863            0.033854   \n15              Macy's   26028    889.0         30.442105            0.082826   \n16                 TJX   25012   2770.0          9.369545            0.078241   \n17                Aldi   24402   2021.0         12.715998            0.112273   \n18      Dollar General   22234  13350.0          1.768885            0.132412   \n19         Dollar Tree   21464  14250.0          1.563919            0.079627   \n20                 HEB   21384    323.0         66.825000            0.018927   \n21              Kohl's   19060   1169.0         16.353496            0.006024   \n22            Delhaize   18201   1280.0         13.783415           -0.059515   \n23              Meijer   16592    231.0         74.738739            0.084507   \n\n                 Category  \n0                 Grocery  \n1          Warehouse Club  \n2        Home Improvement  \n3             Drug Stores  \n4             Drug Stores  \n5   Electronic/Mail Order  \n6            Supercenters  \n7        Home Improvement  \n8                 Grocery  \n9         Warehouse Clubs  \n10  Electronic/Mail Order  \n11            Electronics  \n12                Grocery  \n13            Drug Stores  \n14                Grocery  \n15      Department Stores  \n16                Apparel  \n17                Grocery  \n18          Dollar Stores  \n19          Dollar Stores  \n20                Grocery  \n21      Department Stores  \n22                Grocery  \n23           Supercenters  ",
      "text/html": "<div>\n<style scoped>\n    .dataframe tbody tr th:only-of-type {\n        vertical-align: middle;\n    }\n\n    .dataframe tbody tr th {\n        vertical-align: top;\n    }\n\n    .dataframe thead th {\n        text-align: right;\n    }\n</style>\n<table border=\"1\" class=\"dataframe\">\n  <thead>\n    <tr style=\"text-align: right;\">\n      <th></th>\n      <th>Company</th>\n      <th>Sales</th>\n      <th>Stores</th>\n      <th>Sales/Avg. Store</th>\n      <th>Store Count Growth</th>\n      <th>Category</th>\n    </tr>\n  </thead>\n  <tbody>\n    <tr>\n      <th>0</th>\n      <td>Kroger</td>\n      <td>115037</td>\n      <td>3931.0</td>\n      <td>30.031850</td>\n      <td>0.053887</td>\n      <td>Grocery</td>\n    </tr>\n    <tr>\n      <th>1</th>\n      <td>Costco</td>\n      <td>90048</td>\n      <td>495.0</td>\n      <td>187.795620</td>\n      <td>0.066810</td>\n      <td>Warehouse Club</td>\n    </tr>\n    <tr>\n      <th>2</th>\n      <td>Home Depot</td>\n      <td>83976</td>\n      <td>1965.0</td>\n      <td>42.735878</td>\n      <td>0.000000</td>\n      <td>Home Improvement</td>\n    </tr>\n    <tr>\n      <th>3</th>\n      <td>Walgreen Boots</td>\n      <td>78924</td>\n      <td>8002.0</td>\n      <td>9.810927</td>\n      <td>-0.010511</td>\n      <td>Drug Stores</td>\n    </tr>\n    <tr>\n      <th>4</th>\n      <td>CVS incl. Target</td>\n      <td>77792</td>\n      <td>9813.0</td>\n      <td>8.825959</td>\n      <td>0.255662</td>\n      <td>Drug Stores</td>\n    </tr>\n    <tr>\n      <th>5</th>\n      <td>Amazon</td>\n      <td>71687</td>\n      <td>NaN</td>\n      <td>NaN</td>\n      <td>NaN</td>\n      <td>Electronic/Mail Order</td>\n    </tr>\n    <tr>\n      <th>6</th>\n      <td>Target</td>\n      <td>71208</td>\n      <td>1772.0</td>\n      <td>39.982033</td>\n      <td>-0.010056</td>\n      <td>Supercenters</td>\n    </tr>\n    <tr>\n      <th>7</th>\n      <td>Lowe's</td>\n      <td>60311</td>\n      <td>1828.0</td>\n      <td>33.311792</td>\n      <td>0.019520</td>\n      <td>Home Improvement</td>\n    </tr>\n    <tr>\n      <th>8</th>\n      <td>Albertsons</td>\n      <td>56829</td>\n      <td>2326.0</td>\n      <td>23.877731</td>\n      <td>-0.044371</td>\n      <td>Grocery</td>\n    </tr>\n    <tr>\n      <th>9</th>\n      <td>Sam's Club</td>\n      <td>56828</td>\n      <td>655.0</td>\n      <td>87.293395</td>\n      <td>0.012365</td>\n      <td>Warehouse Clubs</td>\n    </tr>\n    <tr>\n      <th>10</th>\n      <td>Apple incl. Online</td>\n      <td>37664</td>\n      <td>NaN</td>\n      <td>NaN</td>\n      <td>NaN</td>\n      <td>Electronic/Mail Order</td>\n    </tr>\n    <tr>\n      <th>11</th>\n      <td>Best Buy</td>\n      <td>34980</td>\n      <td>1389.0</td>\n      <td>24.685956</td>\n      <td>-0.038754</td>\n      <td>Electronics</td>\n    </tr>\n    <tr>\n      <th>12</th>\n      <td>Publix</td>\n      <td>34408</td>\n      <td>1351.0</td>\n      <td>25.997733</td>\n      <td>0.042438</td>\n      <td>Grocery</td>\n    </tr>\n    <tr>\n      <th>13</th>\n      <td>Rite Aid</td>\n      <td>27486</td>\n      <td>4553.0</td>\n      <td>6.025649</td>\n      <td>-0.003720</td>\n      <td>Drug Stores</td>\n    </tr>\n    <tr>\n      <th>14</th>\n      <td>Ahold</td>\n      <td>26903</td>\n      <td>794.0</td>\n      <td>34.446863</td>\n      <td>0.033854</td>\n      <td>Grocery</td>\n    </tr>\n    <tr>\n      <th>15</th>\n      <td>Macy's</td>\n      <td>26028</td>\n      <td>889.0</td>\n      <td>30.442105</td>\n      <td>0.082826</td>\n      <td>Department Stores</td>\n    </tr>\n    <tr>\n      <th>16</th>\n      <td>TJX</td>\n      <td>25012</td>\n      <td>2770.0</td>\n      <td>9.369545</td>\n      <td>0.078241</td>\n      <td>Apparel</td>\n    </tr>\n    <tr>\n      <th>17</th>\n      <td>Aldi</td>\n      <td>24402</td>\n      <td>2021.0</td>\n      <td>12.715998</td>\n      <td>0.112273</td>\n      <td>Grocery</td>\n    </tr>\n    <tr>\n      <th>18</th>\n      <td>Dollar General</td>\n      <td>22234</td>\n      <td>13350.0</td>\n      <td>1.768885</td>\n      <td>0.132412</td>\n      <td>Dollar Stores</td>\n    </tr>\n    <tr>\n      <th>19</th>\n      <td>Dollar Tree</td>\n      <td>21464</td>\n      <td>14250.0</td>\n      <td>1.563919</td>\n      <td>0.079627</td>\n      <td>Dollar Stores</td>\n    </tr>\n    <tr>\n      <th>20</th>\n      <td>HEB</td>\n      <td>21384</td>\n      <td>323.0</td>\n      <td>66.825000</td>\n      <td>0.018927</td>\n      <td>Grocery</td>\n    </tr>\n    <tr>\n      <th>21</th>\n      <td>Kohl's</td>\n      <td>19060</td>\n      <td>1169.0</td>\n      <td>16.353496</td>\n      <td>0.006024</td>\n      <td>Department Stores</td>\n    </tr>\n    <tr>\n      <th>22</th>\n      <td>Delhaize</td>\n      <td>18201</td>\n      <td>1280.0</td>\n      <td>13.783415</td>\n      <td>-0.059515</td>\n      <td>Grocery</td>\n    </tr>\n    <tr>\n      <th>23</th>\n      <td>Meijer</td>\n      <td>16592</td>\n      <td>231.0</td>\n      <td>74.738739</td>\n      <td>0.084507</td>\n      <td>Supercenters</td>\n    </tr>\n  </tbody>\n</table>\n</div>"
     },
     "metadata": {}
    }
   ],
   "execution_count": null
  },
  {
   "cell_type": "markdown",
   "source": "#### 2. Calculamos el rango restando el valor más alto con el más bajo.",
   "metadata": {
    "cell_id": "e1c74ec0-550b-4ae6-ba95-1e2ad0b86fbd",
    "tags": [],
    "deepnote_cell_height": 54,
    "deepnote_cell_type": "markdown"
   }
  },
  {
   "cell_type": "code",
   "metadata": {
    "cell_id": "5b139f91-a282-443e-b3f2-1727749c1618",
    "tags": [],
    "deepnote_to_be_reexecuted": false,
    "source_hash": "c9f3ddcb",
    "execution_start": 1645648625530,
    "execution_millis": 22,
    "deepnote_output_heights": [
     21.1875
    ],
    "deepnote_cell_height": 136.1875,
    "deepnote_cell_type": "code"
   },
   "source": "sales_range = companies_without_walmart['Sales'].max() - companies_without_walmart['Sales'].min()\nprint('Valor minimo de ventas: ',companies_without_walmart['Sales'].min())\nprint('Valor máximo en ventas: ',companies_without_walmart['Sales'].max())\nprint('El rango que existe entre las ventas es de:',sales_range)",
   "outputs": [
    {
     "name": "stdout",
     "text": "Valor minimo de ventas:  16592\nValor máximo en ventas:  115037\nEl rango que existe entre las ventas es de: 98445\n",
     "output_type": "stream"
    }
   ],
   "execution_count": null
  },
  {
   "cell_type": "markdown",
   "source": "#### 3. Podemos ver que el rango entre las ventas es de 98445 unidades, donde el menor es 16592 y el mayor es 115037. Visualizamos este número mediante un diagrama de caja donde las lineas alargadas representan el menor valor y el mayor valor de las ventas. ",
   "metadata": {
    "cell_id": "08ecdd8d-3f1c-407f-9cb2-aeed2e89ef09",
    "tags": [],
    "deepnote_cell_height": 52.390625,
    "deepnote_cell_type": "markdown"
   }
  },
  {
   "cell_type": "code",
   "metadata": {
    "cell_id": "af7bdd7f-5c11-40b5-acd2-dfaa75acab19",
    "tags": [],
    "deepnote_to_be_reexecuted": false,
    "source_hash": "9bdd56a5",
    "execution_start": 1645648625554,
    "execution_millis": 352,
    "deepnote_output_heights": [
     21.1875,
     264
    ],
    "deepnote_cell_height": 413.1875,
    "deepnote_cell_type": "code"
   },
   "source": "plt.figure(figsize=(15,6))\nsns.boxplot(x='Sales',data=companies_without_walmart, orient=\"h\", linewidth=3, palette=\"rocket\") \nplt.title('Box plot', family='avenir', weight=\"bold\", size=24, pad=20)\nplt.xlabel('Sales', family='avenir', weight=\"light\", size=16, labelpad=15)\nplt.xlim(15000, 117000)\nplt.show()",
   "outputs": [
    {
     "data": {
      "text/plain": "<Figure size 1080x432 with 1 Axes>",
      "image/png": "[encoded data removed]"
     },
     "metadata": {
      "needs_background": "light",
      "image/png": {
       "width": 854,
       "height": 426
      }
     },
     "output_type": "display_data"
    }
   ],
   "execution_count": null
  },
  {
   "cell_type": "markdown",
   "source": "#### Conclusiones:\n- 📍 El rango de ventas es de **98445** unidades.\n- ⬇🛒 Viendo el diagrama de caja podemos notar que **la distribución de ventas se inclina mucho por los valores que se encuentran entre los 16000 y 30000**. Concretamente estariamos posicionados entre el primer bigote y el vertice que corta la caja, siendo esta última la mediana. Esto nos indica nuevamente que **la competencia se encuentra vendiendo mayoritariamente entre este rango.**\n- 📋💪 Para poder entrar dentro del top de empresas retail, **debemos generar, por lo menos, 16592 ventas.**\n- 🛒🎯 Considerando que la empresa recien esta iniciando, **podemos realizar objetivos de ventas para llegar como minimo a las 16592 unidades y como mucho 115037.**",
   "metadata": {
    "cell_id": "d8054972-f905-4c1d-936f-cc36f723e8e8",
    "tags": [],
    "deepnote_cell_height": 153.171875,
    "deepnote_cell_type": "markdown"
   }
  },
  {
   "cell_type": "markdown",
   "source": "### 6. ¿Cuáles son las 5 empresas que más tiendas físicas tienen? ¿Cuáles de ellas están dentro de las 5 empresas que más ventas tuvieron?",
   "metadata": {
    "cell_id": "6c36ddc3-51ef-4017-a6f9-06cbb8b970e4",
    "tags": [],
    "deepnote_cell_height": 94,
    "deepnote_cell_type": "markdown"
   }
  },
  {
   "cell_type": "markdown",
   "source": "#### 1. Primero respondemos a la pregunta de cuáles son las 5 empresas con más tiendas, ordenando cada compañía de mayor cantidad de tiendas a menor.",
   "metadata": {
    "cell_id": "743a9b63-500e-4497-b370-ecc5f5a3b81a",
    "tags": [],
    "deepnote_cell_height": 54,
    "deepnote_cell_type": "markdown"
   }
  },
  {
   "cell_type": "code",
   "metadata": {
    "cell_id": "1295319d-09d0-42f0-9de0-ff0e689f400f",
    "tags": [],
    "deepnote_to_be_reexecuted": false,
    "source_hash": "58d88186",
    "execution_start": 1645648625916,
    "execution_millis": 83,
    "deepnote_cell_height": 616,
    "deepnote_cell_type": "code"
   },
   "source": "df_sorted_stores = df.sort_values('Stores', ascending=0)\ndf_sorted_stores ",
   "outputs": [
    {
     "output_type": "execute_result",
     "execution_count": 18,
     "data": {
      "application/vnd.deepnote.dataframe.v3+json": {
       "column_count": 6,
       "row_count": 25,
       "columns": [
        {
         "name": "Company",
         "dtype": "object",
         "stats": {
          "unique_count": 25,
          "nan_count": 0,
          "categories": [
           {
            "name": "Dollar Tree",
            "count": 1
           },
           {
            "name": "Dollar General",
            "count": 1
           },
           {
            "name": "23 others",
            "count": 23
           }
          ]
         }
        },
        {
         "name": "Sales",
         "dtype": "int64",
         "stats": {
          "unique_count": 25,
          "nan_count": 0,
          "min": "16592",
          "max": "658119",
          "histogram": [
           {
            "bin_start": 16592,
            "bin_end": 80744.7,
            "count": 21
           },
           {
            "bin_start": 80744.7,
            "bin_end": 144897.4,
            "count": 3
           },
           {
            "bin_start": 144897.4,
            "bin_end": 209050.09999999998,
            "count": 0
           },
           {
            "bin_start": 209050.09999999998,
            "bin_end": 273202.8,
            "count": 0
           },
           {
            "bin_start": 273202.8,
            "bin_end": 337355.5,
            "count": 0
           },
           {
            "bin_start": 337355.5,
            "bin_end": 401508.19999999995,
            "count": 0
           },
           {
            "bin_start": 401508.19999999995,
            "bin_end": 465660.89999999997,
            "count": 0
           },
           {
            "bin_start": 465660.89999999997,
            "bin_end": 529813.6,
            "count": 0
           },
           {
            "bin_start": 529813.6,
            "bin_end": 593966.2999999999,
            "count": 0
           },
           {
            "bin_start": 593966.2999999999,
            "bin_end": 658119,
            "count": 1
           }
          ]
         }
        },
        {
         "name": "Stores",
         "dtype": "float64",
         "stats": {
          "unique_count": 24,
          "nan_count": 0,
          "min": "0.0",
          "max": "14250.0",
          "histogram": [
           {
            "bin_start": 0,
            "bin_end": 1425,
            "count": 12
           },
           {
            "bin_start": 1425,
            "bin_end": 2850,
            "count": 6
           },
           {
            "bin_start": 2850,
            "bin_end": 4275,
            "count": 1
           },
           {
            "bin_start": 4275,
            "bin_end": 5700,
            "count": 2
           },
           {
            "bin_start": 5700,
            "bin_end": 7125,
            "count": 0
           },
           {
            "bin_start": 7125,
            "bin_end": 8550,
            "count": 1
           },
           {
            "bin_start": 8550,
            "bin_end": 9975,
            "count": 1
           },
           {
            "bin_start": 9975,
            "bin_end": 11400,
            "count": 0
           },
           {
            "bin_start": 11400,
            "bin_end": 12825,
            "count": 0
           },
           {
            "bin_start": 12825,
            "bin_end": 14250,
            "count": 2
           }
          ]
         }
        },
        {
         "name": "Sales/Avg. Store",
         "dtype": "float64",
         "stats": {
          "unique_count": 23,
          "nan_count": 2,
          "min": "1.56391854",
          "max": "187.7956204",
          "histogram": [
           {
            "bin_start": 1.56391854,
            "bin_end": 20.187088726,
            "count": 9
           },
           {
            "bin_start": 20.187088726,
            "bin_end": 38.810258912,
            "count": 7
           },
           {
            "bin_start": 38.810258912,
            "bin_end": 57.433429098000005,
            "count": 2
           },
           {
            "bin_start": 57.433429098000005,
            "bin_end": 76.056599284,
            "count": 3
           },
           {
            "bin_start": 76.056599284,
            "bin_end": 94.67976947,
            "count": 1
           },
           {
            "bin_start": 94.67976947,
            "bin_end": 113.302939656,
            "count": 0
           },
           {
            "bin_start": 113.302939656,
            "bin_end": 131.926109842,
            "count": 0
           },
           {
            "bin_start": 131.926109842,
            "bin_end": 150.549280028,
            "count": 0
           },
           {
            "bin_start": 150.549280028,
            "bin_end": 169.172450214,
            "count": 0
           },
           {
            "bin_start": 169.172450214,
            "bin_end": 187.7956204,
            "count": 1
           }
          ]
         }
        },
        {
         "name": "Store Count Growth",
         "dtype": "float64",
         "stats": {
          "unique_count": 23,
          "nan_count": 2,
          "min": "-0.05951506245",
          "max": "0.2556621881",
          "histogram": [
           {
            "bin_start": -0.05951506245,
            "bin_end": -0.027997337395000002,
            "count": 3
           },
           {
            "bin_start": -0.027997337395000002,
            "bin_end": 0.003520387659999999,
            "count": 4
           },
           {
            "bin_start": 0.003520387659999999,
            "bin_end": 0.035038112715,
            "count": 6
           },
           {
            "bin_start": 0.035038112715,
            "bin_end": 0.06655583777,
            "count": 2
           },
           {
            "bin_start": 0.06655583777,
            "bin_end": 0.098073562825,
            "count": 5
           },
           {
            "bin_start": 0.098073562825,
            "bin_end": 0.12959128788000002,
            "count": 1
           },
           {
            "bin_start": 0.12959128788000002,
            "bin_end": 0.16110901293500002,
            "count": 1
           },
           {
            "bin_start": 0.16110901293500002,
            "bin_end": 0.19262673799000002,
            "count": 0
           },
           {
            "bin_start": 0.19262673799000002,
            "bin_end": 0.22414446304500002,
            "count": 0
           },
           {
            "bin_start": 0.22414446304500002,
            "bin_end": 0.2556621881,
            "count": 1
           }
          ]
         }
        },
        {
         "name": "Category",
         "dtype": "object",
         "stats": {
          "unique_count": 11,
          "nan_count": 0,
          "categories": [
           {
            "name": "Grocery",
            "count": 7
           },
           {
            "name": "Drug Stores",
            "count": 3
           },
           {
            "name": "9 others",
            "count": 15
           }
          ]
         }
        },
        {
         "name": "_deepnote_index_column",
         "dtype": "int64"
        }
       ],
       "rows": [
        {
         "Company": "Dollar Tree",
         "Sales": 21464,
         "Stores": 14250,
         "Sales/Avg. Store": 1.56391854,
         "Store Count Growth": 0.07962724449,
         "Category": "Dollar Stores",
         "_deepnote_index_column": 20
        },
        {
         "Company": "Dollar General",
         "Sales": 22234,
         "Stores": 13350,
         "Sales/Avg. Store": 1.768884999,
         "Store Count Growth": 0.1324115701,
         "Category": "Dollar Stores",
         "_deepnote_index_column": 19
        },
        {
         "Company": "CVS incl. Target",
         "Sales": 77792,
         "Stores": 9813,
         "Sales/Avg. Store": 8.825958702,
         "Store Count Growth": 0.2556621881,
         "Category": "Drug Stores",
         "_deepnote_index_column": 5
        },
        {
         "Company": "Walgreen Boots",
         "Sales": 78924,
         "Stores": 8002,
         "Sales/Avg. Store": 9.81092672,
         "Store Count Growth": -0.01051069618,
         "Category": "Drug Stores",
         "_deepnote_index_column": 4
        },
        {
         "Company": "Walmart US",
         "Sales": 658119,
         "Stores": 4574,
         "Sales/Avg. Store": 65.64972497,
         "Store Count Growth": 0.01284322409,
         "Category": "Supercenters",
         "_deepnote_index_column": 0
        },
        {
         "Company": "Rite Aid",
         "Sales": 27486,
         "Stores": 4553,
         "Sales/Avg. Store": 6.025649457,
         "Store Count Growth": -0.003719912473,
         "Category": "Drug Stores",
         "_deepnote_index_column": 14
        },
        {
         "Company": "Kroger",
         "Sales": 115037,
         "Stores": 3931,
         "Sales/Avg. Store": 30.03184963,
         "Store Count Growth": 0.05388739946,
         "Category": "Grocery",
         "_deepnote_index_column": 1
        },
        {
         "Company": "TJX",
         "Sales": 25012,
         "Stores": 2770,
         "Sales/Avg. Store": 9.369544859,
         "Store Count Growth": 0.07824056053,
         "Category": "Apparel",
         "_deepnote_index_column": 17
        },
        {
         "Company": "Albertsons",
         "Sales": 56829,
         "Stores": 2326,
         "Sales/Avg. Store": 23.87773109,
         "Store Count Growth": -0.04437140509,
         "Category": "Grocery",
         "_deepnote_index_column": 9
        },
        {
         "Company": "Aldi",
         "Sales": 24402,
         "Stores": 2021,
         "Sales/Avg. Store": 12.71599792,
         "Store Count Growth": 0.1122729774,
         "Category": "Grocery",
         "_deepnote_index_column": 18
        }
       ]
      },
      "text/plain": "               Company   Sales   Stores  Sales/Avg. Store  Store Count Growth  \\\n20         Dollar Tree   21464  14250.0          1.563919            0.079627   \n19      Dollar General   22234  13350.0          1.768885            0.132412   \n5     CVS incl. Target   77792   9813.0          8.825959            0.255662   \n4       Walgreen Boots   78924   8002.0          9.810927           -0.010511   \n0           Walmart US  658119   4574.0         65.649725            0.012843   \n14            Rite Aid   27486   4553.0          6.025649           -0.003720   \n1               Kroger  115037   3931.0         30.031850            0.053887   \n17                 TJX   25012   2770.0          9.369545            0.078241   \n9           Albertsons   56829   2326.0         23.877731           -0.044371   \n18                Aldi   24402   2021.0         12.715998            0.112273   \n3           Home Depot   83976   1965.0         42.735878            0.000000   \n8               Lowe's   60311   1828.0         33.311792            0.019520   \n7               Target   71208   1772.0         39.982033           -0.010056   \n12            Best Buy   34980   1389.0         24.685956           -0.038754   \n13              Publix   34408   1351.0         25.997733            0.042438   \n23            Delhaize   18201   1280.0         13.783415           -0.059515   \n22              Kohl's   19060   1169.0         16.353496            0.006024   \n16              Macy's   26028    889.0         30.442105            0.082826   \n15               Ahold   26903    794.0         34.446863            0.033854   \n10          Sam's Club   56828    655.0         87.293395            0.012365   \n2               Costco   90048    495.0        187.795620            0.066810   \n21                 HEB   21384    323.0         66.825000            0.018927   \n24              Meijer   16592    231.0         74.738739            0.084507   \n11  Apple incl. Online   37664      0.0               NaN                 NaN   \n6               Amazon   71687      0.0               NaN                 NaN   \n\n                 Category  \n20          Dollar Stores  \n19          Dollar Stores  \n5             Drug Stores  \n4             Drug Stores  \n0            Supercenters  \n14            Drug Stores  \n1                 Grocery  \n17                Apparel  \n9                 Grocery  \n18                Grocery  \n3        Home Improvement  \n8        Home Improvement  \n7            Supercenters  \n12            Electronics  \n13                Grocery  \n23                Grocery  \n22      Department Stores  \n16      Department Stores  \n15                Grocery  \n10        Warehouse Clubs  \n2          Warehouse Club  \n21                Grocery  \n24           Supercenters  \n11  Electronic/Mail Order  \n6   Electronic/Mail Order  ",
      "text/html": "<div>\n<style scoped>\n    .dataframe tbody tr th:only-of-type {\n        vertical-align: middle;\n    }\n\n    .dataframe tbody tr th {\n        vertical-align: top;\n    }\n\n    .dataframe thead th {\n        text-align: right;\n    }\n</style>\n<table border=\"1\" class=\"dataframe\">\n  <thead>\n    <tr style=\"text-align: right;\">\n      <th></th>\n      <th>Company</th>\n      <th>Sales</th>\n      <th>Stores</th>\n      <th>Sales/Avg. Store</th>\n      <th>Store Count Growth</th>\n      <th>Category</th>\n    </tr>\n  </thead>\n  <tbody>\n    <tr>\n      <th>20</th>\n      <td>Dollar Tree</td>\n      <td>21464</td>\n      <td>14250.0</td>\n      <td>1.563919</td>\n      <td>0.079627</td>\n      <td>Dollar Stores</td>\n    </tr>\n    <tr>\n      <th>19</th>\n      <td>Dollar General</td>\n      <td>22234</td>\n      <td>13350.0</td>\n      <td>1.768885</td>\n      <td>0.132412</td>\n      <td>Dollar Stores</td>\n    </tr>\n    <tr>\n      <th>5</th>\n      <td>CVS incl. Target</td>\n      <td>77792</td>\n      <td>9813.0</td>\n      <td>8.825959</td>\n      <td>0.255662</td>\n      <td>Drug Stores</td>\n    </tr>\n    <tr>\n      <th>4</th>\n      <td>Walgreen Boots</td>\n      <td>78924</td>\n      <td>8002.0</td>\n      <td>9.810927</td>\n      <td>-0.010511</td>\n      <td>Drug Stores</td>\n    </tr>\n    <tr>\n      <th>0</th>\n      <td>Walmart US</td>\n      <td>658119</td>\n      <td>4574.0</td>\n      <td>65.649725</td>\n      <td>0.012843</td>\n      <td>Supercenters</td>\n    </tr>\n    <tr>\n      <th>14</th>\n      <td>Rite Aid</td>\n      <td>27486</td>\n      <td>4553.0</td>\n      <td>6.025649</td>\n      <td>-0.003720</td>\n      <td>Drug Stores</td>\n    </tr>\n    <tr>\n      <th>1</th>\n      <td>Kroger</td>\n      <td>115037</td>\n      <td>3931.0</td>\n      <td>30.031850</td>\n      <td>0.053887</td>\n      <td>Grocery</td>\n    </tr>\n    <tr>\n      <th>17</th>\n      <td>TJX</td>\n      <td>25012</td>\n      <td>2770.0</td>\n      <td>9.369545</td>\n      <td>0.078241</td>\n      <td>Apparel</td>\n    </tr>\n    <tr>\n      <th>9</th>\n      <td>Albertsons</td>\n      <td>56829</td>\n      <td>2326.0</td>\n      <td>23.877731</td>\n      <td>-0.044371</td>\n      <td>Grocery</td>\n    </tr>\n    <tr>\n      <th>18</th>\n      <td>Aldi</td>\n      <td>24402</td>\n      <td>2021.0</td>\n      <td>12.715998</td>\n      <td>0.112273</td>\n      <td>Grocery</td>\n    </tr>\n    <tr>\n      <th>3</th>\n      <td>Home Depot</td>\n      <td>83976</td>\n      <td>1965.0</td>\n      <td>42.735878</td>\n      <td>0.000000</td>\n      <td>Home Improvement</td>\n    </tr>\n    <tr>\n      <th>8</th>\n      <td>Lowe's</td>\n      <td>60311</td>\n      <td>1828.0</td>\n      <td>33.311792</td>\n      <td>0.019520</td>\n      <td>Home Improvement</td>\n    </tr>\n    <tr>\n      <th>7</th>\n      <td>Target</td>\n      <td>71208</td>\n      <td>1772.0</td>\n      <td>39.982033</td>\n      <td>-0.010056</td>\n      <td>Supercenters</td>\n    </tr>\n    <tr>\n      <th>12</th>\n      <td>Best Buy</td>\n      <td>34980</td>\n      <td>1389.0</td>\n      <td>24.685956</td>\n      <td>-0.038754</td>\n      <td>Electronics</td>\n    </tr>\n    <tr>\n      <th>13</th>\n      <td>Publix</td>\n      <td>34408</td>\n      <td>1351.0</td>\n      <td>25.997733</td>\n      <td>0.042438</td>\n      <td>Grocery</td>\n    </tr>\n    <tr>\n      <th>23</th>\n      <td>Delhaize</td>\n      <td>18201</td>\n      <td>1280.0</td>\n      <td>13.783415</td>\n      <td>-0.059515</td>\n      <td>Grocery</td>\n    </tr>\n    <tr>\n      <th>22</th>\n      <td>Kohl's</td>\n      <td>19060</td>\n      <td>1169.0</td>\n      <td>16.353496</td>\n      <td>0.006024</td>\n      <td>Department Stores</td>\n    </tr>\n    <tr>\n      <th>16</th>\n      <td>Macy's</td>\n      <td>26028</td>\n      <td>889.0</td>\n      <td>30.442105</td>\n      <td>0.082826</td>\n      <td>Department Stores</td>\n    </tr>\n    <tr>\n      <th>15</th>\n      <td>Ahold</td>\n      <td>26903</td>\n      <td>794.0</td>\n      <td>34.446863</td>\n      <td>0.033854</td>\n      <td>Grocery</td>\n    </tr>\n    <tr>\n      <th>10</th>\n      <td>Sam's Club</td>\n      <td>56828</td>\n      <td>655.0</td>\n      <td>87.293395</td>\n      <td>0.012365</td>\n      <td>Warehouse Clubs</td>\n    </tr>\n    <tr>\n      <th>2</th>\n      <td>Costco</td>\n      <td>90048</td>\n      <td>495.0</td>\n      <td>187.795620</td>\n      <td>0.066810</td>\n      <td>Warehouse Club</td>\n    </tr>\n    <tr>\n      <th>21</th>\n      <td>HEB</td>\n      <td>21384</td>\n      <td>323.0</td>\n      <td>66.825000</td>\n      <td>0.018927</td>\n      <td>Grocery</td>\n    </tr>\n    <tr>\n      <th>24</th>\n      <td>Meijer</td>\n      <td>16592</td>\n      <td>231.0</td>\n      <td>74.738739</td>\n      <td>0.084507</td>\n      <td>Supercenters</td>\n    </tr>\n    <tr>\n      <th>11</th>\n      <td>Apple incl. Online</td>\n      <td>37664</td>\n      <td>0.0</td>\n      <td>NaN</td>\n      <td>NaN</td>\n      <td>Electronic/Mail Order</td>\n    </tr>\n    <tr>\n      <th>6</th>\n      <td>Amazon</td>\n      <td>71687</td>\n      <td>0.0</td>\n      <td>NaN</td>\n      <td>NaN</td>\n      <td>Electronic/Mail Order</td>\n    </tr>\n  </tbody>\n</table>\n</div>"
     },
     "metadata": {}
    }
   ],
   "execution_count": null
  },
  {
   "cell_type": "markdown",
   "source": "#### 2. Nos quedamos con los primeros 5 puestos que aparecen en el dataframe y realizamos una visualización para ver en perspectiva el número de tiendas.",
   "metadata": {
    "cell_id": "976e5c70-f9bc-4c80-8d96-63103094eaac",
    "tags": [],
    "deepnote_cell_height": 54,
    "deepnote_cell_type": "markdown"
   }
  },
  {
   "cell_type": "code",
   "metadata": {
    "cell_id": "b7d0eed3-261d-4d50-824e-527f00f6f45c",
    "tags": [],
    "deepnote_to_be_reexecuted": false,
    "source_hash": "73eddf1e",
    "execution_start": 1645648626006,
    "execution_millis": 776,
    "deepnote_output_heights": [
     21.1875,
     354
    ],
    "deepnote_cell_height": 306.1875,
    "deepnote_cell_type": "code"
   },
   "source": "top_5_stores = df_sorted_stores[0:5]\nplt.figure(figsize=(10,6))\nplt.bar(x=top_5_stores['Company'], height=top_5_stores['Stores'], align='center', color=['#4C1E45','#7A133F','#AA023A','#DF5838','#EFC12D'])\nplt.title('Top 5 companies in stores', family='avenir', weight=\"bold\", size=20, pad=20)\nplt.xlabel('Company', family='avenir', weight=\"light\", size=16, labelpad=15)\nplt.ylabel('Store count', family='avenir', weight=\"light\", size=16, labelpad=15)\nplt.show()",
   "outputs": [
    {
     "data": {
      "text/plain": "<Figure size 720x432 with 1 Axes>",
      "image/png": "[encoded data removed]"
     },
     "metadata": {
      "needs_background": "light",
      "image/png": {
       "width": 640,
       "height": 422
      }
     },
     "output_type": "display_data"
    }
   ],
   "execution_count": null
  },
  {
   "cell_type": "markdown",
   "source": "#### 3. Con esta visualización ya tenemos las 5 empresas con más tiendas fisicas. Siendo de mayor a menor: Dollar Tree, Dollar General, CVS incl. Target, Walgreen Boots y Walmart US.",
   "metadata": {
    "cell_id": "0389002b-802e-43a6-8577-a998cf83fd37",
    "tags": [],
    "deepnote_cell_type": "markdown"
   }
  },
  {
   "cell_type": "markdown",
   "source": "#### 4. Para analizar si algunas empresas del top se encuentran también en el top 5 de ventas, realizamos dicho top, ordenando el dataset por ventas y extrayendo los primeros 5. Usaremos el dataset sin walmart por ser un caso atípico en ventas.",
   "metadata": {
    "cell_id": "16e7b359-8480-444e-8cd0-3396e8fe1775",
    "tags": [],
    "deepnote_cell_type": "markdown"
   }
  },
  {
   "cell_type": "code",
   "metadata": {
    "cell_id": "e91dc8bd-cc53-49dc-87ea-28f59997c868",
    "tags": [],
    "deepnote_to_be_reexecuted": false,
    "source_hash": "c1ee3581",
    "execution_start": 1645648626458,
    "execution_millis": 326,
    "deepnote_cell_type": "code"
   },
   "source": "companies_without_walmart = companies_without_walmart.sort_values('Sales',ascending=0)\ntop_5_sales = companies_without_walmart[0:5]\ntop_5_sales",
   "outputs": [
    {
     "output_type": "execute_result",
     "execution_count": 20,
     "data": {
      "application/vnd.deepnote.dataframe.v3+json": {
       "column_count": 6,
       "row_count": 5,
       "columns": [
        {
         "name": "Company",
         "dtype": "object",
         "stats": {
          "unique_count": 5,
          "nan_count": 0,
          "categories": [
           {
            "name": "Kroger",
            "count": 1
           },
           {
            "name": "Costco",
            "count": 1
           },
           {
            "name": "3 others",
            "count": 3
           }
          ]
         }
        },
        {
         "name": "Sales",
         "dtype": "int64",
         "stats": {
          "unique_count": 5,
          "nan_count": 0,
          "min": "77792",
          "max": "115037",
          "histogram": [
           {
            "bin_start": 77792,
            "bin_end": 81516.5,
            "count": 2
           },
           {
            "bin_start": 81516.5,
            "bin_end": 85241,
            "count": 1
           },
           {
            "bin_start": 85241,
            "bin_end": 88965.5,
            "count": 0
           },
           {
            "bin_start": 88965.5,
            "bin_end": 92690,
            "count": 1
           },
           {
            "bin_start": 92690,
            "bin_end": 96414.5,
            "count": 0
           },
           {
            "bin_start": 96414.5,
            "bin_end": 100139,
            "count": 0
           },
           {
            "bin_start": 100139,
            "bin_end": 103863.5,
            "count": 0
           },
           {
            "bin_start": 103863.5,
            "bin_end": 107588,
            "count": 0
           },
           {
            "bin_start": 107588,
            "bin_end": 111312.5,
            "count": 0
           },
           {
            "bin_start": 111312.5,
            "bin_end": 115037,
            "count": 1
           }
          ]
         }
        },
        {
         "name": "Stores",
         "dtype": "float64",
         "stats": {
          "unique_count": 5,
          "nan_count": 0,
          "min": "495.0",
          "max": "9813.0",
          "histogram": [
           {
            "bin_start": 495,
            "bin_end": 1426.8,
            "count": 1
           },
           {
            "bin_start": 1426.8,
            "bin_end": 2358.6,
            "count": 1
           },
           {
            "bin_start": 2358.6,
            "bin_end": 3290.3999999999996,
            "count": 0
           },
           {
            "bin_start": 3290.3999999999996,
            "bin_end": 4222.2,
            "count": 1
           },
           {
            "bin_start": 4222.2,
            "bin_end": 5154,
            "count": 0
           },
           {
            "bin_start": 5154,
            "bin_end": 6085.799999999999,
            "count": 0
           },
           {
            "bin_start": 6085.799999999999,
            "bin_end": 7017.599999999999,
            "count": 0
           },
           {
            "bin_start": 7017.599999999999,
            "bin_end": 7949.4,
            "count": 0
           },
           {
            "bin_start": 7949.4,
            "bin_end": 8881.199999999999,
            "count": 1
           },
           {
            "bin_start": 8881.199999999999,
            "bin_end": 9813,
            "count": 1
           }
          ]
         }
        },
        {
         "name": "Sales/Avg. Store",
         "dtype": "float64",
         "stats": {
          "unique_count": 5,
          "nan_count": 0,
          "min": "8.825958702",
          "max": "187.7956204",
          "histogram": [
           {
            "bin_start": 8.825958702,
            "bin_end": 26.722924871799997,
            "count": 2
           },
           {
            "bin_start": 26.722924871799997,
            "bin_end": 44.6198910416,
            "count": 2
           },
           {
            "bin_start": 44.6198910416,
            "bin_end": 62.5168572114,
            "count": 0
           },
           {
            "bin_start": 62.5168572114,
            "bin_end": 80.41382338119999,
            "count": 0
           },
           {
            "bin_start": 80.41382338119999,
            "bin_end": 98.31078955099998,
            "count": 0
           },
           {
            "bin_start": 98.31078955099998,
            "bin_end": 116.2077557208,
            "count": 0
           },
           {
            "bin_start": 116.2077557208,
            "bin_end": 134.1047218906,
            "count": 0
           },
           {
            "bin_start": 134.1047218906,
            "bin_end": 152.0016880604,
            "count": 0
           },
           {
            "bin_start": 152.0016880604,
            "bin_end": 169.8986542302,
            "count": 0
           },
           {
            "bin_start": 169.8986542302,
            "bin_end": 187.7956204,
            "count": 1
           }
          ]
         }
        },
        {
         "name": "Store Count Growth",
         "dtype": "float64",
         "stats": {
          "unique_count": 5,
          "nan_count": 0,
          "min": "-0.01051069618",
          "max": "0.2556621881",
          "histogram": [
           {
            "bin_start": -0.01051069618,
            "bin_end": 0.016106592248000005,
            "count": 2
           },
           {
            "bin_start": 0.016106592248000005,
            "bin_end": 0.042723880676000005,
            "count": 0
           },
           {
            "bin_start": 0.042723880676000005,
            "bin_end": 0.06934116910400001,
            "count": 2
           },
           {
            "bin_start": 0.06934116910400001,
            "bin_end": 0.09595845753200001,
            "count": 0
           },
           {
            "bin_start": 0.09595845753200001,
            "bin_end": 0.12257574596000001,
            "count": 0
           },
           {
            "bin_start": 0.12257574596000001,
            "bin_end": 0.14919303438800002,
            "count": 0
           },
           {
            "bin_start": 0.14919303438800002,
            "bin_end": 0.175810322816,
            "count": 0
           },
           {
            "bin_start": 0.175810322816,
            "bin_end": 0.20242761124400002,
            "count": 0
           },
           {
            "bin_start": 0.20242761124400002,
            "bin_end": 0.22904489967200004,
            "count": 0
           },
           {
            "bin_start": 0.22904489967200004,
            "bin_end": 0.2556621881,
            "count": 1
           }
          ]
         }
        },
        {
         "name": "Category",
         "dtype": "object",
         "stats": {
          "unique_count": 4,
          "nan_count": 0,
          "categories": [
           {
            "name": "Drug Stores",
            "count": 2
           },
           {
            "name": "Grocery",
            "count": 1
           },
           {
            "name": "2 others",
            "count": 2
           }
          ]
         }
        },
        {
         "name": "_deepnote_index_column",
         "dtype": "int64"
        }
       ],
       "rows": [
        {
         "Company": "Kroger",
         "Sales": 115037,
         "Stores": 3931,
         "Sales/Avg. Store": 30.03184963,
         "Store Count Growth": 0.05388739946,
         "Category": "Grocery",
         "_deepnote_index_column": 1
        },
        {
         "Company": "Costco",
         "Sales": 90048,
         "Stores": 495,
         "Sales/Avg. Store": 187.7956204,
         "Store Count Growth": 0.06681034483,
         "Category": "Warehouse Club",
         "_deepnote_index_column": 2
        },
        {
         "Company": "Home Depot",
         "Sales": 83976,
         "Stores": 1965,
         "Sales/Avg. Store": 42.73587786,
         "Store Count Growth": 0,
         "Category": "Home Improvement",
         "_deepnote_index_column": 3
        },
        {
         "Company": "Walgreen Boots",
         "Sales": 78924,
         "Stores": 8002,
         "Sales/Avg. Store": 9.81092672,
         "Store Count Growth": -0.01051069618,
         "Category": "Drug Stores",
         "_deepnote_index_column": 4
        },
        {
         "Company": "CVS incl. Target",
         "Sales": 77792,
         "Stores": 9813,
         "Sales/Avg. Store": 8.825958702,
         "Store Count Growth": 0.2556621881,
         "Category": "Drug Stores",
         "_deepnote_index_column": 5
        }
       ]
      },
      "text/plain": "            Company   Sales  Stores  Sales/Avg. Store  Store Count Growth  \\\n1            Kroger  115037  3931.0         30.031850            0.053887   \n2            Costco   90048   495.0        187.795620            0.066810   \n3        Home Depot   83976  1965.0         42.735878            0.000000   \n4    Walgreen Boots   78924  8002.0          9.810927           -0.010511   \n5  CVS incl. Target   77792  9813.0          8.825959            0.255662   \n\n           Category  \n1           Grocery  \n2    Warehouse Club  \n3  Home Improvement  \n4       Drug Stores  \n5       Drug Stores  ",
      "text/html": "<div>\n<style scoped>\n    .dataframe tbody tr th:only-of-type {\n        vertical-align: middle;\n    }\n\n    .dataframe tbody tr th {\n        vertical-align: top;\n    }\n\n    .dataframe thead th {\n        text-align: right;\n    }\n</style>\n<table border=\"1\" class=\"dataframe\">\n  <thead>\n    <tr style=\"text-align: right;\">\n      <th></th>\n      <th>Company</th>\n      <th>Sales</th>\n      <th>Stores</th>\n      <th>Sales/Avg. Store</th>\n      <th>Store Count Growth</th>\n      <th>Category</th>\n    </tr>\n  </thead>\n  <tbody>\n    <tr>\n      <th>1</th>\n      <td>Kroger</td>\n      <td>115037</td>\n      <td>3931.0</td>\n      <td>30.031850</td>\n      <td>0.053887</td>\n      <td>Grocery</td>\n    </tr>\n    <tr>\n      <th>2</th>\n      <td>Costco</td>\n      <td>90048</td>\n      <td>495.0</td>\n      <td>187.795620</td>\n      <td>0.066810</td>\n      <td>Warehouse Club</td>\n    </tr>\n    <tr>\n      <th>3</th>\n      <td>Home Depot</td>\n      <td>83976</td>\n      <td>1965.0</td>\n      <td>42.735878</td>\n      <td>0.000000</td>\n      <td>Home Improvement</td>\n    </tr>\n    <tr>\n      <th>4</th>\n      <td>Walgreen Boots</td>\n      <td>78924</td>\n      <td>8002.0</td>\n      <td>9.810927</td>\n      <td>-0.010511</td>\n      <td>Drug Stores</td>\n    </tr>\n    <tr>\n      <th>5</th>\n      <td>CVS incl. Target</td>\n      <td>77792</td>\n      <td>9813.0</td>\n      <td>8.825959</td>\n      <td>0.255662</td>\n      <td>Drug Stores</td>\n    </tr>\n  </tbody>\n</table>\n</div>"
     },
     "metadata": {}
    }
   ],
   "execution_count": null
  },
  {
   "cell_type": "markdown",
   "source": "#### 5. Realizamos la misma visualización pero para el top 5 de empresas que vendieron más.",
   "metadata": {
    "cell_id": "da38a97a-b499-4910-8376-08cbc3d68c4c",
    "tags": [],
    "deepnote_cell_type": "markdown"
   }
  },
  {
   "cell_type": "code",
   "metadata": {
    "cell_id": "345c4b91-2d9d-4a61-8f87-e8cb5d1e2b94",
    "tags": [],
    "deepnote_to_be_reexecuted": false,
    "source_hash": "e08a41d5",
    "execution_start": 1645648626541,
    "execution_millis": 472,
    "deepnote_cell_type": "code"
   },
   "source": "plt.figure(figsize=(15,6))\nplt.bar(x=top_5_sales['Company'], height=top_5_sales['Sales'], align='center', color=['#4C1E45','#7A133F','#EFC12D','#DF5838','#AA023A'])\nplt.title('Top 5 companies in sales', family='avenir', weight=\"bold\", size=16, pad=20)\nplt.xlabel('Company', family='avenir', weight=\"light\", size=16, labelpad=15)\nplt.ylabel('Sales', family='avenir', weight=\"light\", size=16, labelpad=15)\nplt.show()",
   "outputs": [
    {
     "data": {
      "text/plain": "<Figure size 1080x432 with 1 Axes>",
      "image/png": "[encoded data removed]"
     },
     "metadata": {
      "needs_background": "light",
      "image/png": {
       "width": 926,
       "height": 419
      }
     },
     "output_type": "display_data"
    }
   ],
   "execution_count": null
  },
  {
   "cell_type": "markdown",
   "source": "#### 6. Con esta visualización, sin contando a Walmart, obtenemos las 5 empresas con más ventas. Siendo de mayor a menor Kroger, Costco, Home Depot, Walgreen Boots y CVS incl. Target.",
   "metadata": {
    "cell_id": "4c8c107a-12f7-4a21-9318-fe5467c2e12f",
    "tags": [],
    "deepnote_cell_type": "markdown"
   }
  },
  {
   "cell_type": "markdown",
   "source": "#### 7. Para identificar si alguna empresa se encuentra en ambos tops, observamos directamente las 2 visualizaciones en el mismo marco y diferenciamos por color a  aquellas que aparecen en ambos.",
   "metadata": {
    "cell_id": "f4a28f8d-6f40-4093-9752-dc21f023eb63",
    "tags": [],
    "deepnote_cell_type": "markdown"
   }
  },
  {
   "cell_type": "code",
   "metadata": {
    "cell_id": "e2b97c29-0b57-410f-959c-364d5997dcd8",
    "tags": [],
    "deepnote_to_be_reexecuted": false,
    "source_hash": "bc102ed8",
    "execution_start": 1645648627022,
    "execution_millis": 838,
    "deepnote_cell_type": "code"
   },
   "source": "plt.figure(figsize=(20,6))\n\nplt.subplot(1, 2, 1)\n\nplt.bar(x=top_5_stores['Company'], height=top_5_stores['Stores'], align='center', color=['grey','grey','#AA023A','#DF5838','grey'])\nplt.title('Top 5 companies in stores', family='avenir', weight=\"bold\", size=16, pad=20)\nplt.xlabel('Company', family='avenir', weight=\"light\", size=16, labelpad=15)\nplt.ylabel('Store count', family='avenir', weight=\"light\", size=16, labelpad=15)\n\nplt.subplot(1, 2, 2)\n\nplt.bar(x=top_5_sales['Company'], height=top_5_sales['Sales'], align='center', color=['grey','grey','grey','#DF5838','#AA023A'])\nplt.title('Top 5 companies in sales', family='avenir', weight=\"bold\", size=16, pad=20)\nplt.xlabel('Company', family='avenir', weight=\"light\", size=16, labelpad=15)\nplt.ylabel('Sales', family='avenir', weight=\"light\", size=16, labelpad=15)\n\nplt.show()",
   "outputs": [
    {
     "data": {
      "text/plain": "<Figure size 1440x432 with 2 Axes>",
      "image/png": "[encoded data removed]"
     },
     "metadata": {
      "needs_background": "light",
      "image/png": {
       "width": 1198,
       "height": 419
      }
     },
     "output_type": "display_data"
    }
   ],
   "execution_count": null
  },
  {
   "cell_type": "markdown",
   "source": "#### 8. Podemos apreciar que solamente Walgreen Boots y CVS incl. Target aparecen en ambos tops. Sin embargo sus posiciones son diferentes en cada caso. ",
   "metadata": {
    "cell_id": "ba3e9849-4821-48b4-9177-a6cbd4f390da",
    "tags": [],
    "deepnote_cell_type": "markdown"
   }
  },
  {
   "cell_type": "markdown",
   "source": "#### Conclusiones:\n- 🥇🥇 Las empresas que aparecen en el top 5 de cantidad de tiendas y top 5 en ventas son **Walgreen Boots y CVS incl.**\n- 🏪📉🛒 **A pesar de que CVS tiene una marcada diferencia en tiendas que Walgreen sus ventas no reflejan un crecimiento similar.** Incluso se posiciona detras de Walgreen. Este caso evidencia que **tener más cantidad de tiendas no significa necesariamente más ventas.** \n- ❌🏪 **Si agentes externos nos ofrecen un plan para aumentar las tiendas como promesa de que las ventas crecerán, es conveniente rechazarlo** debido a que contamos con el ejemplo de CVS que muestra lo contrario, sumado a que no existe una correlación entre las variables como vimos en la pregunta 4. \n- 🛒🏪📈 **Si realmente existiese una relación entre cantidad de tiendas y ventas entonces deberiamos ver que los 5 primeros en cantidad de tiendas son los mismos 5 primeros en ventas.**",
   "metadata": {
    "cell_id": "d78b61ea-4b61-4752-a4df-1dd94753b364",
    "tags": [],
    "deepnote_cell_type": "markdown"
   }
  },
  {
   "cell_type": "markdown",
   "source": "## II. Preguntas opcionales",
   "metadata": {
    "cell_id": "7d1d5db9-ad1d-4081-968b-bea1357e236a",
    "tags": [],
    "deepnote_cell_height": 70,
    "deepnote_cell_type": "markdown"
   }
  },
  {
   "cell_type": "markdown",
   "source": "### 7. ¿Qué categoría de compañía generó más ventas?",
   "metadata": {
    "cell_id": "27e5ddcb-8674-4809-844e-8c3442430be1",
    "tags": [],
    "deepnote_cell_height": 62,
    "deepnote_cell_type": "markdown"
   }
  },
  {
   "cell_type": "markdown",
   "source": "#### 1. Para responder a la pregunta debemos agrupar las ventas por categoria y mostrar los primeros lugares del nuevo dataframe. ",
   "metadata": {
    "cell_id": "ea71a3be-a30f-4fae-ad64-741d2dda0281",
    "tags": [],
    "deepnote_cell_type": "markdown"
   }
  },
  {
   "cell_type": "code",
   "metadata": {
    "cell_id": "1e9a90f3-1749-4f92-99cb-d9d613ebcbdd",
    "tags": [],
    "deepnote_to_be_reexecuted": false,
    "source_hash": "8a387350",
    "execution_start": 1645648627873,
    "execution_millis": 79,
    "deepnote_cell_type": "code"
   },
   "source": "sales_per_category = df.groupby(['Category']).sum()\nsales_per_category_sorted = sales_per_category.sort_values('Sales', ascending=0)\nsales_per_category_sorted[0:5]",
   "outputs": [
    {
     "output_type": "execute_result",
     "execution_count": 23,
     "data": {
      "application/vnd.deepnote.dataframe.v3+json": {
       "column_count": 4,
       "row_count": 5,
       "columns": [
        {
         "name": "Sales",
         "dtype": "int64",
         "stats": {
          "unique_count": 5,
          "nan_count": 0,
          "min": "109351",
          "max": "745919",
          "histogram": [
           {
            "bin_start": 109351,
            "bin_end": 173007.8,
            "count": 2
           },
           {
            "bin_start": 173007.8,
            "bin_end": 236664.6,
            "count": 1
           },
           {
            "bin_start": 236664.6,
            "bin_end": 300321.4,
            "count": 1
           },
           {
            "bin_start": 300321.4,
            "bin_end": 363978.2,
            "count": 0
           },
           {
            "bin_start": 363978.2,
            "bin_end": 427635,
            "count": 0
           },
           {
            "bin_start": 427635,
            "bin_end": 491291.80000000005,
            "count": 0
           },
           {
            "bin_start": 491291.80000000005,
            "bin_end": 554948.6000000001,
            "count": 0
           },
           {
            "bin_start": 554948.6000000001,
            "bin_end": 618605.4,
            "count": 0
           },
           {
            "bin_start": 618605.4,
            "bin_end": 682262.2000000001,
            "count": 0
           },
           {
            "bin_start": 682262.2000000001,
            "bin_end": 745919,
            "count": 1
           }
          ]
         }
        },
        {
         "name": "Stores",
         "dtype": "float64",
         "stats": {
          "unique_count": 5,
          "nan_count": 0,
          "min": "0.0",
          "max": "22368.0",
          "histogram": [
           {
            "bin_start": 0,
            "bin_end": 2236.8,
            "count": 1
           },
           {
            "bin_start": 2236.8,
            "bin_end": 4473.6,
            "count": 1
           },
           {
            "bin_start": 4473.6,
            "bin_end": 6710.400000000001,
            "count": 1
           },
           {
            "bin_start": 6710.400000000001,
            "bin_end": 8947.2,
            "count": 0
           },
           {
            "bin_start": 8947.2,
            "bin_end": 11184,
            "count": 0
           },
           {
            "bin_start": 11184,
            "bin_end": 13420.800000000001,
            "count": 1
           },
           {
            "bin_start": 13420.800000000001,
            "bin_end": 15657.600000000002,
            "count": 0
           },
           {
            "bin_start": 15657.600000000002,
            "bin_end": 17894.4,
            "count": 0
           },
           {
            "bin_start": 17894.4,
            "bin_end": 20131.2,
            "count": 0
           },
           {
            "bin_start": 20131.2,
            "bin_end": 22368,
            "count": 1
           }
          ]
         }
        },
        {
         "name": "Sales/Avg. Store",
         "dtype": "float64",
         "stats": {
          "unique_count": 5,
          "nan_count": 0,
          "min": "0.0",
          "max": "207.67859029",
          "histogram": [
           {
            "bin_start": 0,
            "bin_end": 20.767859029,
            "count": 1
           },
           {
            "bin_start": 20.767859029,
            "bin_end": 41.535718058,
            "count": 1
           },
           {
            "bin_start": 41.535718058,
            "bin_end": 62.303577087,
            "count": 0
           },
           {
            "bin_start": 62.303577087,
            "bin_end": 83.071436116,
            "count": 1
           },
           {
            "bin_start": 83.071436116,
            "bin_end": 103.839295145,
            "count": 0
           },
           {
            "bin_start": 103.839295145,
            "bin_end": 124.607154174,
            "count": 0
           },
           {
            "bin_start": 124.607154174,
            "bin_end": 145.375013203,
            "count": 0
           },
           {
            "bin_start": 145.375013203,
            "bin_end": 166.142872232,
            "count": 0
           },
           {
            "bin_start": 166.142872232,
            "bin_end": 186.910731261,
            "count": 1
           },
           {
            "bin_start": 186.910731261,
            "bin_end": 207.67859029,
            "count": 1
           }
          ]
         }
        },
        {
         "name": "Store Count Growth",
         "dtype": "float64",
         "stats": {
          "unique_count": 5,
          "nan_count": 0,
          "min": "0.0",
          "max": "0.24143157944700003",
          "histogram": [
           {
            "bin_start": 0,
            "bin_end": 0.024143157944700004,
            "count": 2
           },
           {
            "bin_start": 0.024143157944700004,
            "bin_end": 0.04828631588940001,
            "count": 0
           },
           {
            "bin_start": 0.04828631588940001,
            "bin_end": 0.0724294738341,
            "count": 0
           },
           {
            "bin_start": 0.0724294738341,
            "bin_end": 0.09657263177880002,
            "count": 1
           },
           {
            "bin_start": 0.09657263177880002,
            "bin_end": 0.12071578972350003,
            "count": 0
           },
           {
            "bin_start": 0.12071578972350003,
            "bin_end": 0.1448589476682,
            "count": 0
           },
           {
            "bin_start": 0.1448589476682,
            "bin_end": 0.16900210561290002,
            "count": 1
           },
           {
            "bin_start": 0.16900210561290002,
            "bin_end": 0.19314526355760003,
            "count": 0
           },
           {
            "bin_start": 0.19314526355760003,
            "bin_end": 0.21728842150230004,
            "count": 0
           },
           {
            "bin_start": 0.21728842150230004,
            "bin_end": 0.24143157944700003,
            "count": 1
           }
          ]
         }
        },
        {
         "name": "_deepnote_index_column",
         "dtype": "object"
        }
       ],
       "rows": [
        {
         "Sales": 745919,
         "Stores": 6577,
         "Sales/Avg. Store": 180.37049628,
         "Store Count Growth": 0.08729440042,
         "_deepnote_index_column": "Supercenters"
        },
        {
         "Sales": 297164,
         "Stores": 12026,
         "Sales/Avg. Store": 207.67859029,
         "Store Count Growth": 0.15749379238,
         "_deepnote_index_column": "Grocery"
        },
        {
         "Sales": 184202,
         "Stores": 22368,
         "Sales/Avg. Store": 24.662534879,
         "Store Count Growth": 0.24143157944700003,
         "_deepnote_index_column": "Drug Stores"
        },
        {
         "Sales": 144287,
         "Stores": 3793,
         "Sales/Avg. Store": 76.04767018000001,
         "Store Count Growth": 0.01952035694,
         "_deepnote_index_column": "Home Improvement"
        },
        {
         "Sales": 109351,
         "Stores": 0,
         "Sales/Avg. Store": 0,
         "Store Count Growth": 0,
         "_deepnote_index_column": "Electronic/Mail Order"
        }
       ]
      },
      "text/plain": "                        Sales   Stores  Sales/Avg. Store  Store Count Growth\nCategory                                                                    \nSupercenters           745919   6577.0        180.370496            0.087294\nGrocery                297164  12026.0        207.678590            0.157494\nDrug Stores            184202  22368.0         24.662535            0.241432\nHome Improvement       144287   3793.0         76.047670            0.019520\nElectronic/Mail Order  109351      0.0          0.000000            0.000000",
      "text/html": "<div>\n<style scoped>\n    .dataframe tbody tr th:only-of-type {\n        vertical-align: middle;\n    }\n\n    .dataframe tbody tr th {\n        vertical-align: top;\n    }\n\n    .dataframe thead th {\n        text-align: right;\n    }\n</style>\n<table border=\"1\" class=\"dataframe\">\n  <thead>\n    <tr style=\"text-align: right;\">\n      <th></th>\n      <th>Sales</th>\n      <th>Stores</th>\n      <th>Sales/Avg. Store</th>\n      <th>Store Count Growth</th>\n    </tr>\n    <tr>\n      <th>Category</th>\n      <th></th>\n      <th></th>\n      <th></th>\n      <th></th>\n    </tr>\n  </thead>\n  <tbody>\n    <tr>\n      <th>Supercenters</th>\n      <td>745919</td>\n      <td>6577.0</td>\n      <td>180.370496</td>\n      <td>0.087294</td>\n    </tr>\n    <tr>\n      <th>Grocery</th>\n      <td>297164</td>\n      <td>12026.0</td>\n      <td>207.678590</td>\n      <td>0.157494</td>\n    </tr>\n    <tr>\n      <th>Drug Stores</th>\n      <td>184202</td>\n      <td>22368.0</td>\n      <td>24.662535</td>\n      <td>0.241432</td>\n    </tr>\n    <tr>\n      <th>Home Improvement</th>\n      <td>144287</td>\n      <td>3793.0</td>\n      <td>76.047670</td>\n      <td>0.019520</td>\n    </tr>\n    <tr>\n      <th>Electronic/Mail Order</th>\n      <td>109351</td>\n      <td>0.0</td>\n      <td>0.000000</td>\n      <td>0.000000</td>\n    </tr>\n  </tbody>\n</table>\n</div>"
     },
     "metadata": {}
    }
   ],
   "execution_count": null
  },
  {
   "cell_type": "markdown",
   "source": "#### 2. Podemos ver que la categoría con más ventas es 'Supercenters' con un total de 745919 ventas. Para verlo con mayor claridad realizamos la siguiente visualización.",
   "metadata": {
    "cell_id": "33dd997f-5866-4ee5-bc1b-c62dce904dd6",
    "tags": [],
    "deepnote_cell_type": "markdown"
   }
  },
  {
   "cell_type": "code",
   "metadata": {
    "cell_id": "59619817-9811-420f-9bcb-c0ab14684215",
    "tags": [],
    "deepnote_to_be_reexecuted": false,
    "source_hash": "6c31fcfa",
    "execution_start": 1645648627958,
    "execution_millis": 678,
    "deepnote_cell_type": "code"
   },
   "source": "plt.figure(figsize=(20,8))\nsns.barplot(x='Sales', y= sales_per_category_sorted.index ,saturation=10 ,palette=\"rocket\",data=sales_per_category_sorted)\nplt.title('Sales per Category', family='avenir', weight=\"bold\", size=24, pad=20)\nplt.xlabel('Sales', family='avenir', weight=\"light\", size=20, labelpad=15)\nplt.ylabel('Category', family='avenir', weight=\"light\", size=20, labelpad=15)\n\nplt.show()",
   "outputs": [
    {
     "name": "stderr",
     "text": "findfont: Font family ['avenir'] not found. Falling back to DejaVu Sans.\n",
     "output_type": "stream"
    },
    {
     "data": {
      "text/plain": "<Figure size 1440x576 with 1 Axes>",
      "image/png": "[encoded data removed]"
     },
     "metadata": {
      "needs_background": "light",
      "image/png": {
       "width": 1276,
       "height": 539
      }
     },
     "output_type": "display_data"
    }
   ],
   "execution_count": null
  },
  {
   "cell_type": "markdown",
   "source": "#### Conclusiones: \n- 📈🛒 **'Supercenters' es la categoria que más ventas genera.**\n- 🏆 Podemos observar que la categoría **'Supercenters' es, con mucha diferencia, la categoría dominante del sector retail.**\n- 👑🛒 **Las cantidad de ventas de la categoria 'Supercenters' es similar a la cantidad de ventas de Walmart.** Esto indica que, en su totalidad, **la categoria está siendo ocupada casi monopolicamente por Walmart.**\n- 🎯🏬 Si nuestro plan de negocio y propuesta de valor esta o se encuentra potencialmente relacionado con los productos que ofrece la categoría 'Supercenters', **podemos considerar pivotear a este tipo de categoría en la empresa para generar más ventas.** ",
   "metadata": {
    "cell_id": "33e8b359-a4a0-4e69-904b-1ddbfebc55b7",
    "tags": [],
    "deepnote_cell_type": "markdown"
   }
  },
  {
   "cell_type": "markdown",
   "source": "### 8. ¿Cuál es la compañía que en relación con su cantidad de tiendas físicas genera más ventas?",
   "metadata": {
    "cell_id": "33668883-9f01-485c-bdf9-822cd13ad952",
    "tags": [],
    "deepnote_cell_height": 62,
    "deepnote_cell_type": "markdown"
   }
  },
  {
   "cell_type": "markdown",
   "source": "#### 1. Nuestro objetivo es saber cual es la compañía que, en función de la cantidad de tiendas que tiene, generó más ventas. Para eso ordenamos nuestro dataset de mayor a menor según 'Sales / Avg. Store', cuya interpretación numerica es el número aproximado de ventas que genero por cada tienda que tengo.",
   "metadata": {
    "cell_id": "d6ecf1f2-2c89-430d-ba59-a82681127f43",
    "tags": [],
    "deepnote_cell_type": "markdown"
   }
  },
  {
   "cell_type": "code",
   "metadata": {
    "cell_id": "903008ff-c22d-431e-8130-a954a94b16e8",
    "tags": [],
    "deepnote_to_be_reexecuted": false,
    "source_hash": "a8df0f47",
    "execution_start": 1645648628643,
    "execution_millis": 84,
    "deepnote_cell_height": 81,
    "deepnote_table_state": {
     "pageSize": 10,
     "pageIndex": 0,
     "filters": [],
     "sortBy": []
    },
    "deepnote_table_loading": false,
    "deepnote_cell_type": "code"
   },
   "source": "df_sorted = df.sort_values('Sales/Avg. Store', ascending=0)\ndf_sorted",
   "outputs": [
    {
     "output_type": "execute_result",
     "execution_count": 25,
     "data": {
      "application/vnd.deepnote.dataframe.v3+json": {
       "column_count": 6,
       "row_count": 25,
       "columns": [
        {
         "name": "Company",
         "dtype": "object",
         "stats": {
          "unique_count": 25,
          "nan_count": 0,
          "categories": [
           {
            "name": "Costco",
            "count": 1
           },
           {
            "name": "Sam's Club",
            "count": 1
           },
           {
            "name": "23 others",
            "count": 23
           }
          ]
         }
        },
        {
         "name": "Sales",
         "dtype": "int64",
         "stats": {
          "unique_count": 25,
          "nan_count": 0,
          "min": "16592",
          "max": "658119",
          "histogram": [
           {
            "bin_start": 16592,
            "bin_end": 80744.7,
            "count": 21
           },
           {
            "bin_start": 80744.7,
            "bin_end": 144897.4,
            "count": 3
           },
           {
            "bin_start": 144897.4,
            "bin_end": 209050.09999999998,
            "count": 0
           },
           {
            "bin_start": 209050.09999999998,
            "bin_end": 273202.8,
            "count": 0
           },
           {
            "bin_start": 273202.8,
            "bin_end": 337355.5,
            "count": 0
           },
           {
            "bin_start": 337355.5,
            "bin_end": 401508.19999999995,
            "count": 0
           },
           {
            "bin_start": 401508.19999999995,
            "bin_end": 465660.89999999997,
            "count": 0
           },
           {
            "bin_start": 465660.89999999997,
            "bin_end": 529813.6,
            "count": 0
           },
           {
            "bin_start": 529813.6,
            "bin_end": 593966.2999999999,
            "count": 0
           },
           {
            "bin_start": 593966.2999999999,
            "bin_end": 658119,
            "count": 1
           }
          ]
         }
        },
        {
         "name": "Stores",
         "dtype": "float64",
         "stats": {
          "unique_count": 24,
          "nan_count": 0,
          "min": "0.0",
          "max": "14250.0",
          "histogram": [
           {
            "bin_start": 0,
            "bin_end": 1425,
            "count": 12
           },
           {
            "bin_start": 1425,
            "bin_end": 2850,
            "count": 6
           },
           {
            "bin_start": 2850,
            "bin_end": 4275,
            "count": 1
           },
           {
            "bin_start": 4275,
            "bin_end": 5700,
            "count": 2
           },
           {
            "bin_start": 5700,
            "bin_end": 7125,
            "count": 0
           },
           {
            "bin_start": 7125,
            "bin_end": 8550,
            "count": 1
           },
           {
            "bin_start": 8550,
            "bin_end": 9975,
            "count": 1
           },
           {
            "bin_start": 9975,
            "bin_end": 11400,
            "count": 0
           },
           {
            "bin_start": 11400,
            "bin_end": 12825,
            "count": 0
           },
           {
            "bin_start": 12825,
            "bin_end": 14250,
            "count": 2
           }
          ]
         }
        },
        {
         "name": "Sales/Avg. Store",
         "dtype": "float64",
         "stats": {
          "unique_count": 23,
          "nan_count": 2,
          "min": "1.56391854",
          "max": "187.7956204",
          "histogram": [
           {
            "bin_start": 1.56391854,
            "bin_end": 20.187088726,
            "count": 9
           },
           {
            "bin_start": 20.187088726,
            "bin_end": 38.810258912,
            "count": 7
           },
           {
            "bin_start": 38.810258912,
            "bin_end": 57.433429098000005,
            "count": 2
           },
           {
            "bin_start": 57.433429098000005,
            "bin_end": 76.056599284,
            "count": 3
           },
           {
            "bin_start": 76.056599284,
            "bin_end": 94.67976947,
            "count": 1
           },
           {
            "bin_start": 94.67976947,
            "bin_end": 113.302939656,
            "count": 0
           },
           {
            "bin_start": 113.302939656,
            "bin_end": 131.926109842,
            "count": 0
           },
           {
            "bin_start": 131.926109842,
            "bin_end": 150.549280028,
            "count": 0
           },
           {
            "bin_start": 150.549280028,
            "bin_end": 169.172450214,
            "count": 0
           },
           {
            "bin_start": 169.172450214,
            "bin_end": 187.7956204,
            "count": 1
           }
          ]
         }
        },
        {
         "name": "Store Count Growth",
         "dtype": "float64",
         "stats": {
          "unique_count": 23,
          "nan_count": 2,
          "min": "-0.05951506245",
          "max": "0.2556621881",
          "histogram": [
           {
            "bin_start": -0.05951506245,
            "bin_end": -0.027997337395000002,
            "count": 3
           },
           {
            "bin_start": -0.027997337395000002,
            "bin_end": 0.003520387659999999,
            "count": 4
           },
           {
            "bin_start": 0.003520387659999999,
            "bin_end": 0.035038112715,
            "count": 6
           },
           {
            "bin_start": 0.035038112715,
            "bin_end": 0.06655583777,
            "count": 2
           },
           {
            "bin_start": 0.06655583777,
            "bin_end": 0.098073562825,
            "count": 5
           },
           {
            "bin_start": 0.098073562825,
            "bin_end": 0.12959128788000002,
            "count": 1
           },
           {
            "bin_start": 0.12959128788000002,
            "bin_end": 0.16110901293500002,
            "count": 1
           },
           {
            "bin_start": 0.16110901293500002,
            "bin_end": 0.19262673799000002,
            "count": 0
           },
           {
            "bin_start": 0.19262673799000002,
            "bin_end": 0.22414446304500002,
            "count": 0
           },
           {
            "bin_start": 0.22414446304500002,
            "bin_end": 0.2556621881,
            "count": 1
           }
          ]
         }
        },
        {
         "name": "Category",
         "dtype": "object",
         "stats": {
          "unique_count": 11,
          "nan_count": 0,
          "categories": [
           {
            "name": "Grocery",
            "count": 7
           },
           {
            "name": "Supercenters",
            "count": 3
           },
           {
            "name": "9 others",
            "count": 15
           }
          ]
         }
        },
        {
         "name": "_deepnote_index_column",
         "dtype": "int64"
        }
       ],
       "rows": [
        {
         "Company": "Costco",
         "Sales": 90048,
         "Stores": 495,
         "Sales/Avg. Store": 187.7956204,
         "Store Count Growth": 0.06681034483,
         "Category": "Warehouse Club",
         "_deepnote_index_column": 2
        },
        {
         "Company": "Sam's Club",
         "Sales": 56828,
         "Stores": 655,
         "Sales/Avg. Store": 87.29339478,
         "Store Count Growth": 0.01236476043,
         "Category": "Warehouse Clubs",
         "_deepnote_index_column": 10
        },
        {
         "Company": "Meijer",
         "Sales": 16592,
         "Stores": 231,
         "Sales/Avg. Store": 74.73873874,
         "Store Count Growth": 0.08450704225,
         "Category": "Supercenters",
         "_deepnote_index_column": 24
        },
        {
         "Company": "HEB",
         "Sales": 21384,
         "Stores": 323,
         "Sales/Avg. Store": 66.825,
         "Store Count Growth": 0.01892744479,
         "Category": "Grocery",
         "_deepnote_index_column": 21
        },
        {
         "Company": "Walmart US",
         "Sales": 658119,
         "Stores": 4574,
         "Sales/Avg. Store": 65.64972497,
         "Store Count Growth": 0.01284322409,
         "Category": "Supercenters",
         "_deepnote_index_column": 0
        },
        {
         "Company": "Home Depot",
         "Sales": 83976,
         "Stores": 1965,
         "Sales/Avg. Store": 42.73587786,
         "Store Count Growth": 0,
         "Category": "Home Improvement",
         "_deepnote_index_column": 3
        },
        {
         "Company": "Target",
         "Sales": 71208,
         "Stores": 1772,
         "Sales/Avg. Store": 39.98203257,
         "Store Count Growth": -0.01005586592,
         "Category": "Supercenters",
         "_deepnote_index_column": 7
        },
        {
         "Company": "Ahold",
         "Sales": 26903,
         "Stores": 794,
         "Sales/Avg. Store": 34.446863,
         "Store Count Growth": 0.03385416667,
         "Category": "Grocery",
         "_deepnote_index_column": 15
        },
        {
         "Company": "Lowe's",
         "Sales": 60311,
         "Stores": 1828,
         "Sales/Avg. Store": 33.31179232,
         "Store Count Growth": 0.01952035694,
         "Category": "Home Improvement",
         "_deepnote_index_column": 8
        },
        {
         "Company": "Macy's",
         "Sales": 26028,
         "Stores": 889,
         "Sales/Avg. Store": 30.44210526,
         "Store Count Growth": 0.08282582217,
         "Category": "Department Stores",
         "_deepnote_index_column": 16
        }
       ]
      },
      "text/plain": "               Company   Sales   Stores  Sales/Avg. Store  Store Count Growth  \\\n2               Costco   90048    495.0        187.795620            0.066810   \n10          Sam's Club   56828    655.0         87.293395            0.012365   \n24              Meijer   16592    231.0         74.738739            0.084507   \n21                 HEB   21384    323.0         66.825000            0.018927   \n0           Walmart US  658119   4574.0         65.649725            0.012843   \n3           Home Depot   83976   1965.0         42.735878            0.000000   \n7               Target   71208   1772.0         39.982033           -0.010056   \n15               Ahold   26903    794.0         34.446863            0.033854   \n8               Lowe's   60311   1828.0         33.311792            0.019520   \n16              Macy's   26028    889.0         30.442105            0.082826   \n1               Kroger  115037   3931.0         30.031850            0.053887   \n13              Publix   34408   1351.0         25.997733            0.042438   \n12            Best Buy   34980   1389.0         24.685956           -0.038754   \n9           Albertsons   56829   2326.0         23.877731           -0.044371   \n22              Kohl's   19060   1169.0         16.353496            0.006024   \n23            Delhaize   18201   1280.0         13.783415           -0.059515   \n18                Aldi   24402   2021.0         12.715998            0.112273   \n4       Walgreen Boots   78924   8002.0          9.810927           -0.010511   \n17                 TJX   25012   2770.0          9.369545            0.078241   \n5     CVS incl. Target   77792   9813.0          8.825959            0.255662   \n14            Rite Aid   27486   4553.0          6.025649           -0.003720   \n19      Dollar General   22234  13350.0          1.768885            0.132412   \n20         Dollar Tree   21464  14250.0          1.563919            0.079627   \n6               Amazon   71687      0.0               NaN                 NaN   \n11  Apple incl. Online   37664      0.0               NaN                 NaN   \n\n                 Category  \n2          Warehouse Club  \n10        Warehouse Clubs  \n24           Supercenters  \n21                Grocery  \n0            Supercenters  \n3        Home Improvement  \n7            Supercenters  \n15                Grocery  \n8        Home Improvement  \n16      Department Stores  \n1                 Grocery  \n13                Grocery  \n12            Electronics  \n9                 Grocery  \n22      Department Stores  \n23                Grocery  \n18                Grocery  \n4             Drug Stores  \n17                Apparel  \n5             Drug Stores  \n14            Drug Stores  \n19          Dollar Stores  \n20          Dollar Stores  \n6   Electronic/Mail Order  \n11  Electronic/Mail Order  ",
      "text/html": "<div>\n<style scoped>\n    .dataframe tbody tr th:only-of-type {\n        vertical-align: middle;\n    }\n\n    .dataframe tbody tr th {\n        vertical-align: top;\n    }\n\n    .dataframe thead th {\n        text-align: right;\n    }\n</style>\n<table border=\"1\" class=\"dataframe\">\n  <thead>\n    <tr style=\"text-align: right;\">\n      <th></th>\n      <th>Company</th>\n      <th>Sales</th>\n      <th>Stores</th>\n      <th>Sales/Avg. Store</th>\n      <th>Store Count Growth</th>\n      <th>Category</th>\n    </tr>\n  </thead>\n  <tbody>\n    <tr>\n      <th>2</th>\n      <td>Costco</td>\n      <td>90048</td>\n      <td>495.0</td>\n      <td>187.795620</td>\n      <td>0.066810</td>\n      <td>Warehouse Club</td>\n    </tr>\n    <tr>\n      <th>10</th>\n      <td>Sam's Club</td>\n      <td>56828</td>\n      <td>655.0</td>\n      <td>87.293395</td>\n      <td>0.012365</td>\n      <td>Warehouse Clubs</td>\n    </tr>\n    <tr>\n      <th>24</th>\n      <td>Meijer</td>\n      <td>16592</td>\n      <td>231.0</td>\n      <td>74.738739</td>\n      <td>0.084507</td>\n      <td>Supercenters</td>\n    </tr>\n    <tr>\n      <th>21</th>\n      <td>HEB</td>\n      <td>21384</td>\n      <td>323.0</td>\n      <td>66.825000</td>\n      <td>0.018927</td>\n      <td>Grocery</td>\n    </tr>\n    <tr>\n      <th>0</th>\n      <td>Walmart US</td>\n      <td>658119</td>\n      <td>4574.0</td>\n      <td>65.649725</td>\n      <td>0.012843</td>\n      <td>Supercenters</td>\n    </tr>\n    <tr>\n      <th>3</th>\n      <td>Home Depot</td>\n      <td>83976</td>\n      <td>1965.0</td>\n      <td>42.735878</td>\n      <td>0.000000</td>\n      <td>Home Improvement</td>\n    </tr>\n    <tr>\n      <th>7</th>\n      <td>Target</td>\n      <td>71208</td>\n      <td>1772.0</td>\n      <td>39.982033</td>\n      <td>-0.010056</td>\n      <td>Supercenters</td>\n    </tr>\n    <tr>\n      <th>15</th>\n      <td>Ahold</td>\n      <td>26903</td>\n      <td>794.0</td>\n      <td>34.446863</td>\n      <td>0.033854</td>\n      <td>Grocery</td>\n    </tr>\n    <tr>\n      <th>8</th>\n      <td>Lowe's</td>\n      <td>60311</td>\n      <td>1828.0</td>\n      <td>33.311792</td>\n      <td>0.019520</td>\n      <td>Home Improvement</td>\n    </tr>\n    <tr>\n      <th>16</th>\n      <td>Macy's</td>\n      <td>26028</td>\n      <td>889.0</td>\n      <td>30.442105</td>\n      <td>0.082826</td>\n      <td>Department Stores</td>\n    </tr>\n    <tr>\n      <th>1</th>\n      <td>Kroger</td>\n      <td>115037</td>\n      <td>3931.0</td>\n      <td>30.031850</td>\n      <td>0.053887</td>\n      <td>Grocery</td>\n    </tr>\n    <tr>\n      <th>13</th>\n      <td>Publix</td>\n      <td>34408</td>\n      <td>1351.0</td>\n      <td>25.997733</td>\n      <td>0.042438</td>\n      <td>Grocery</td>\n    </tr>\n    <tr>\n      <th>12</th>\n      <td>Best Buy</td>\n      <td>34980</td>\n      <td>1389.0</td>\n      <td>24.685956</td>\n      <td>-0.038754</td>\n      <td>Electronics</td>\n    </tr>\n    <tr>\n      <th>9</th>\n      <td>Albertsons</td>\n      <td>56829</td>\n      <td>2326.0</td>\n      <td>23.877731</td>\n      <td>-0.044371</td>\n      <td>Grocery</td>\n    </tr>\n    <tr>\n      <th>22</th>\n      <td>Kohl's</td>\n      <td>19060</td>\n      <td>1169.0</td>\n      <td>16.353496</td>\n      <td>0.006024</td>\n      <td>Department Stores</td>\n    </tr>\n    <tr>\n      <th>23</th>\n      <td>Delhaize</td>\n      <td>18201</td>\n      <td>1280.0</td>\n      <td>13.783415</td>\n      <td>-0.059515</td>\n      <td>Grocery</td>\n    </tr>\n    <tr>\n      <th>18</th>\n      <td>Aldi</td>\n      <td>24402</td>\n      <td>2021.0</td>\n      <td>12.715998</td>\n      <td>0.112273</td>\n      <td>Grocery</td>\n    </tr>\n    <tr>\n      <th>4</th>\n      <td>Walgreen Boots</td>\n      <td>78924</td>\n      <td>8002.0</td>\n      <td>9.810927</td>\n      <td>-0.010511</td>\n      <td>Drug Stores</td>\n    </tr>\n    <tr>\n      <th>17</th>\n      <td>TJX</td>\n      <td>25012</td>\n      <td>2770.0</td>\n      <td>9.369545</td>\n      <td>0.078241</td>\n      <td>Apparel</td>\n    </tr>\n    <tr>\n      <th>5</th>\n      <td>CVS incl. Target</td>\n      <td>77792</td>\n      <td>9813.0</td>\n      <td>8.825959</td>\n      <td>0.255662</td>\n      <td>Drug Stores</td>\n    </tr>\n    <tr>\n      <th>14</th>\n      <td>Rite Aid</td>\n      <td>27486</td>\n      <td>4553.0</td>\n      <td>6.025649</td>\n      <td>-0.003720</td>\n      <td>Drug Stores</td>\n    </tr>\n    <tr>\n      <th>19</th>\n      <td>Dollar General</td>\n      <td>22234</td>\n      <td>13350.0</td>\n      <td>1.768885</td>\n      <td>0.132412</td>\n      <td>Dollar Stores</td>\n    </tr>\n    <tr>\n      <th>20</th>\n      <td>Dollar Tree</td>\n      <td>21464</td>\n      <td>14250.0</td>\n      <td>1.563919</td>\n      <td>0.079627</td>\n      <td>Dollar Stores</td>\n    </tr>\n    <tr>\n      <th>6</th>\n      <td>Amazon</td>\n      <td>71687</td>\n      <td>0.0</td>\n      <td>NaN</td>\n      <td>NaN</td>\n      <td>Electronic/Mail Order</td>\n    </tr>\n    <tr>\n      <th>11</th>\n      <td>Apple incl. Online</td>\n      <td>37664</td>\n      <td>0.0</td>\n      <td>NaN</td>\n      <td>NaN</td>\n      <td>Electronic/Mail Order</td>\n    </tr>\n  </tbody>\n</table>\n</div>"
     },
     "metadata": {}
    }
   ],
   "execution_count": null
  },
  {
   "cell_type": "markdown",
   "source": "#### 2. Extraemos la primer fila y tenemos que la compañía con mejor relación ventas/tiendas es Costco.",
   "metadata": {
    "cell_id": "abb7a718-9871-4107-ab39-a62a89c96adf",
    "tags": [],
    "deepnote_cell_type": "markdown"
   }
  },
  {
   "cell_type": "code",
   "metadata": {
    "cell_id": "23914f5e-91d2-43a1-880e-a4417623e36c",
    "tags": [],
    "deepnote_to_be_reexecuted": false,
    "source_hash": "790be04b",
    "execution_start": 1645648628737,
    "execution_millis": 60,
    "deepnote_cell_type": "code"
   },
   "source": "df_sorted[0:1]",
   "outputs": [
    {
     "output_type": "execute_result",
     "execution_count": 26,
     "data": {
      "application/vnd.deepnote.dataframe.v3+json": {
       "column_count": 6,
       "row_count": 1,
       "columns": [
        {
         "name": "Company",
         "dtype": "object",
         "stats": {
          "unique_count": 1,
          "nan_count": 0,
          "categories": [
           {
            "name": "Costco",
            "count": 1
           }
          ]
         }
        },
        {
         "name": "Sales",
         "dtype": "int64",
         "stats": {
          "unique_count": 1,
          "nan_count": 0,
          "min": "90048",
          "max": "90048",
          "histogram": [
           {
            "bin_start": 90047.5,
            "bin_end": 90047.6,
            "count": 0
           },
           {
            "bin_start": 90047.6,
            "bin_end": 90047.7,
            "count": 0
           },
           {
            "bin_start": 90047.7,
            "bin_end": 90047.8,
            "count": 0
           },
           {
            "bin_start": 90047.8,
            "bin_end": 90047.9,
            "count": 0
           },
           {
            "bin_start": 90047.9,
            "bin_end": 90048,
            "count": 0
           },
           {
            "bin_start": 90048,
            "bin_end": 90048.1,
            "count": 1
           },
           {
            "bin_start": 90048.1,
            "bin_end": 90048.2,
            "count": 0
           },
           {
            "bin_start": 90048.2,
            "bin_end": 90048.3,
            "count": 0
           },
           {
            "bin_start": 90048.3,
            "bin_end": 90048.4,
            "count": 0
           },
           {
            "bin_start": 90048.4,
            "bin_end": 90048.5,
            "count": 0
           }
          ]
         }
        },
        {
         "name": "Stores",
         "dtype": "float64",
         "stats": {
          "unique_count": 1,
          "nan_count": 0,
          "min": "495.0",
          "max": "495.0",
          "histogram": [
           {
            "bin_start": 494.5,
            "bin_end": 494.6,
            "count": 0
           },
           {
            "bin_start": 494.6,
            "bin_end": 494.7,
            "count": 0
           },
           {
            "bin_start": 494.7,
            "bin_end": 494.8,
            "count": 0
           },
           {
            "bin_start": 494.8,
            "bin_end": 494.9,
            "count": 0
           },
           {
            "bin_start": 494.9,
            "bin_end": 495,
            "count": 0
           },
           {
            "bin_start": 495,
            "bin_end": 495.1,
            "count": 1
           },
           {
            "bin_start": 495.1,
            "bin_end": 495.2,
            "count": 0
           },
           {
            "bin_start": 495.2,
            "bin_end": 495.3,
            "count": 0
           },
           {
            "bin_start": 495.3,
            "bin_end": 495.4,
            "count": 0
           },
           {
            "bin_start": 495.4,
            "bin_end": 495.5,
            "count": 0
           }
          ]
         }
        },
        {
         "name": "Sales/Avg. Store",
         "dtype": "float64",
         "stats": {
          "unique_count": 1,
          "nan_count": 0,
          "min": "187.7956204",
          "max": "187.7956204",
          "histogram": [
           {
            "bin_start": 187.2956204,
            "bin_end": 187.39562039999998,
            "count": 0
           },
           {
            "bin_start": 187.39562039999998,
            "bin_end": 187.49562039999998,
            "count": 0
           },
           {
            "bin_start": 187.49562039999998,
            "bin_end": 187.5956204,
            "count": 0
           },
           {
            "bin_start": 187.5956204,
            "bin_end": 187.6956204,
            "count": 0
           },
           {
            "bin_start": 187.6956204,
            "bin_end": 187.7956204,
            "count": 0
           },
           {
            "bin_start": 187.7956204,
            "bin_end": 187.89562039999998,
            "count": 1
           },
           {
            "bin_start": 187.89562039999998,
            "bin_end": 187.99562039999998,
            "count": 0
           },
           {
            "bin_start": 187.99562039999998,
            "bin_end": 188.0956204,
            "count": 0
           },
           {
            "bin_start": 188.0956204,
            "bin_end": 188.1956204,
            "count": 0
           },
           {
            "bin_start": 188.1956204,
            "bin_end": 188.2956204,
            "count": 0
           }
          ]
         }
        },
        {
         "name": "Store Count Growth",
         "dtype": "float64",
         "stats": {
          "unique_count": 1,
          "nan_count": 0,
          "min": "0.06681034483",
          "max": "0.06681034483",
          "histogram": [
           {
            "bin_start": -0.43318965516999997,
            "bin_end": -0.33318965517,
            "count": 0
           },
           {
            "bin_start": -0.33318965517,
            "bin_end": -0.23318965516999995,
            "count": 0
           },
           {
            "bin_start": -0.23318965516999995,
            "bin_end": -0.13318965516999992,
            "count": 0
           },
           {
            "bin_start": -0.13318965516999992,
            "bin_end": -0.03318965516999994,
            "count": 0
           },
           {
            "bin_start": -0.03318965516999994,
            "bin_end": 0.06681034483000003,
            "count": 1
           },
           {
            "bin_start": 0.06681034483000003,
            "bin_end": 0.16681034483000012,
            "count": 0
           },
           {
            "bin_start": 0.16681034483000012,
            "bin_end": 0.2668103448300001,
            "count": 0
           },
           {
            "bin_start": 0.2668103448300001,
            "bin_end": 0.3668103448300001,
            "count": 0
           },
           {
            "bin_start": 0.3668103448300001,
            "bin_end": 0.46681034483000006,
            "count": 0
           },
           {
            "bin_start": 0.46681034483000006,
            "bin_end": 0.56681034483,
            "count": 0
           }
          ]
         }
        },
        {
         "name": "Category",
         "dtype": "object",
         "stats": {
          "unique_count": 1,
          "nan_count": 0,
          "categories": [
           {
            "name": "Warehouse Club",
            "count": 1
           }
          ]
         }
        },
        {
         "name": "_deepnote_index_column",
         "dtype": "int64"
        }
       ],
       "rows": [
        {
         "Company": "Costco",
         "Sales": 90048,
         "Stores": 495,
         "Sales/Avg. Store": 187.7956204,
         "Store Count Growth": 0.06681034483,
         "Category": "Warehouse Club",
         "_deepnote_index_column": 2
        }
       ]
      },
      "text/plain": "  Company  Sales  Stores  Sales/Avg. Store  Store Count Growth        Category\n2  Costco  90048   495.0         187.79562             0.06681  Warehouse Club",
      "text/html": "<div>\n<style scoped>\n    .dataframe tbody tr th:only-of-type {\n        vertical-align: middle;\n    }\n\n    .dataframe tbody tr th {\n        vertical-align: top;\n    }\n\n    .dataframe thead th {\n        text-align: right;\n    }\n</style>\n<table border=\"1\" class=\"dataframe\">\n  <thead>\n    <tr style=\"text-align: right;\">\n      <th></th>\n      <th>Company</th>\n      <th>Sales</th>\n      <th>Stores</th>\n      <th>Sales/Avg. Store</th>\n      <th>Store Count Growth</th>\n      <th>Category</th>\n    </tr>\n  </thead>\n  <tbody>\n    <tr>\n      <th>2</th>\n      <td>Costco</td>\n      <td>90048</td>\n      <td>495.0</td>\n      <td>187.79562</td>\n      <td>0.06681</td>\n      <td>Warehouse Club</td>\n    </tr>\n  </tbody>\n</table>\n</div>"
     },
     "metadata": {}
    }
   ],
   "execution_count": null
  },
  {
   "cell_type": "markdown",
   "source": "#### 3. Para más claridad, pongamos en perspectiva las relaciones mediante un diagrama de barras.",
   "metadata": {
    "cell_id": "dcc8b172-a09a-4d5f-8de4-515526c64c58",
    "tags": [],
    "deepnote_cell_type": "markdown"
   }
  },
  {
   "cell_type": "code",
   "metadata": {
    "cell_id": "d67da4c0-7f1b-49f9-8304-f32574f72c3d",
    "tags": [],
    "deepnote_to_be_reexecuted": false,
    "source_hash": "f9b6c24f",
    "execution_start": 1645648628808,
    "execution_millis": 687,
    "deepnote_cell_type": "code"
   },
   "source": "plt.figure(figsize=(15,6))\nsns.barplot(x='Sales/Avg. Store', y='Company' ,saturation=10 ,palette=\"rocket\",data=df_sorted[0:5])\nplt.title('Top 5 Companies in Sales/Avg. Store', family='avenir', weight=\"bold\", size=24, pad=20)\nplt.xlabel('Sales/Avg. Store', family='avenir', weight=\"light\", size=16, labelpad=15)\nplt.ylabel('Company', family='avenir', weight=\"light\", size=16, labelpad=15)\n\nplt.show()",
   "outputs": [
    {
     "data": {
      "text/plain": "<Figure size 1080x432 with 1 Axes>",
      "image/png": "[encoded data removed]"
     },
     "metadata": {
      "needs_background": "light",
      "image/png": {
       "width": 947,
       "height": 426
      }
     },
     "output_type": "display_data"
    }
   ],
   "execution_count": null
  },
  {
   "cell_type": "markdown",
   "source": "#### Conclusiones:\n- 🏪🛒 Dado los resultados podemos suponer que **Cotsco vende 187 unidades por cada tienda que tiene.** \n- 🛒❌🏪 Podemos ver que en el diagrama existe una clara diferenciación numérica entre diferentes puestos. **Si las ventas estuviesen correlacionadas al N° tiendas deberiamos ver una similitud de alturas entre una barra.**\n- 🤷‍♂️🤔 **Aunque parezca interesante los resultados presentados, no aporta significativamente a las decisiones del negocio** debido a que estamos en un mercado con número de tiendas y ventas no correlacionados.",
   "metadata": {
    "cell_id": "2a3bb9c7-730d-4e38-b63f-cd8384567bef",
    "tags": [],
    "deepnote_cell_type": "markdown"
   }
  },
  {
   "cell_type": "markdown",
   "source": "### 9. ¿Cuáles compañías venden de forma exclusivamente online? ¿Sus ventas destacan sobre las que también tienen tiendas físicas?",
   "metadata": {
    "cell_id": "e9a00ffe-de8a-41f0-98e7-67b905d0d14f",
    "tags": [],
    "deepnote_cell_height": 94,
    "deepnote_cell_type": "markdown"
   }
  },
  {
   "cell_type": "markdown",
   "source": "#### 1. Primero averiguamos que compañías venden solamente online. Esto podemos averiguarlo si consideramos que, vender online implica no tener ninguna tienda fisica.",
   "metadata": {
    "cell_id": "90a82a66-bbd9-4b6b-81e6-df66f1eeab52",
    "tags": [],
    "deepnote_cell_type": "markdown"
   }
  },
  {
   "cell_type": "code",
   "metadata": {
    "tags": [],
    "deepnote_variable_name": "df_2",
    "sql_integration_id": "deepnote-dataframe-sql",
    "cell_id": "d4b8a868-616d-4f38-a6d8-8192608ef3f6",
    "deepnote_to_be_reexecuted": false,
    "source_hash": "ba66b499",
    "execution_start": 1645648629507,
    "execution_millis": 185,
    "deepnote_sql_source": "SELECT *\nFROM df \nWHERE Stores = 0 ",
    "deepnote_cell_type": "sql"
   },
   "source": "\n\ndf_2 = _deepnote_execute_sql(\"\"\"SELECT *\nFROM df \nWHERE Stores = 0 \n\"\"\", 'SQL_DEEPNOTE_DATAFRAME_SQL')\ndf_2",
   "outputs": [
    {
     "output_type": "execute_result",
     "execution_count": 28,
     "data": {
      "application/vnd.deepnote.dataframe.v3+json": {
       "column_count": 6,
       "row_count": 2,
       "columns": [
        {
         "name": "Company",
         "dtype": "object",
         "stats": {
          "unique_count": 2,
          "nan_count": 0,
          "categories": [
           {
            "name": "Amazon",
            "count": 1
           },
           {
            "name": "Apple incl. Online",
            "count": 1
           }
          ]
         }
        },
        {
         "name": "Sales",
         "dtype": "int64",
         "stats": {
          "unique_count": 2,
          "nan_count": 0,
          "min": "37664",
          "max": "71687",
          "histogram": [
           {
            "bin_start": 37664,
            "bin_end": 41066.3,
            "count": 1
           },
           {
            "bin_start": 41066.3,
            "bin_end": 44468.6,
            "count": 0
           },
           {
            "bin_start": 44468.6,
            "bin_end": 47870.9,
            "count": 0
           },
           {
            "bin_start": 47870.9,
            "bin_end": 51273.2,
            "count": 0
           },
           {
            "bin_start": 51273.2,
            "bin_end": 54675.5,
            "count": 0
           },
           {
            "bin_start": 54675.5,
            "bin_end": 58077.8,
            "count": 0
           },
           {
            "bin_start": 58077.8,
            "bin_end": 61480.100000000006,
            "count": 0
           },
           {
            "bin_start": 61480.100000000006,
            "bin_end": 64882.4,
            "count": 0
           },
           {
            "bin_start": 64882.4,
            "bin_end": 68284.7,
            "count": 0
           },
           {
            "bin_start": 68284.7,
            "bin_end": 71687,
            "count": 1
           }
          ]
         }
        },
        {
         "name": "Stores",
         "dtype": "float64",
         "stats": {
          "unique_count": 1,
          "nan_count": 0,
          "min": "0.0",
          "max": "0.0",
          "histogram": [
           {
            "bin_start": -0.5,
            "bin_end": -0.4,
            "count": 0
           },
           {
            "bin_start": -0.4,
            "bin_end": -0.3,
            "count": 0
           },
           {
            "bin_start": -0.3,
            "bin_end": -0.19999999999999996,
            "count": 0
           },
           {
            "bin_start": -0.19999999999999996,
            "bin_end": -0.09999999999999998,
            "count": 0
           },
           {
            "bin_start": -0.09999999999999998,
            "bin_end": 0,
            "count": 0
           },
           {
            "bin_start": 0,
            "bin_end": 0.10000000000000009,
            "count": 2
           },
           {
            "bin_start": 0.10000000000000009,
            "bin_end": 0.20000000000000007,
            "count": 0
           },
           {
            "bin_start": 0.20000000000000007,
            "bin_end": 0.30000000000000004,
            "count": 0
           },
           {
            "bin_start": 0.30000000000000004,
            "bin_end": 0.4,
            "count": 0
           },
           {
            "bin_start": 0.4,
            "bin_end": 0.5,
            "count": 0
           }
          ]
         }
        },
        {
         "name": "Sales/Avg. Store",
         "dtype": "object",
         "stats": {
          "unique_count": 0,
          "nan_count": 2,
          "categories": [
           {
            "name": "Missing",
            "count": 2
           }
          ]
         }
        },
        {
         "name": "Store Count Growth",
         "dtype": "object",
         "stats": {
          "unique_count": 0,
          "nan_count": 2,
          "categories": [
           {
            "name": "Missing",
            "count": 2
           }
          ]
         }
        },
        {
         "name": "Category",
         "dtype": "object",
         "stats": {
          "unique_count": 1,
          "nan_count": 0,
          "categories": [
           {
            "name": "Electronic/Mail Order",
            "count": 2
           }
          ]
         }
        },
        {
         "name": "_deepnote_index_column",
         "dtype": "int64"
        }
       ],
       "rows": [
        {
         "Company": "Amazon",
         "Sales": 71687,
         "Stores": 0,
         "Sales/Avg. Store": "None",
         "Store Count Growth": "None",
         "Category": "Electronic/Mail Order",
         "_deepnote_index_column": 0
        },
        {
         "Company": "Apple incl. Online",
         "Sales": 37664,
         "Stores": 0,
         "Sales/Avg. Store": "None",
         "Store Count Growth": "None",
         "Category": "Electronic/Mail Order",
         "_deepnote_index_column": 1
        }
       ]
      },
      "text/plain": "              Company  Sales  Stores Sales/Avg. Store Store Count Growth  \\\n0              Amazon  71687     0.0             None               None   \n1  Apple incl. Online  37664     0.0             None               None   \n\n                Category  \n0  Electronic/Mail Order  \n1  Electronic/Mail Order  ",
      "text/html": "<div>\n<style scoped>\n    .dataframe tbody tr th:only-of-type {\n        vertical-align: middle;\n    }\n\n    .dataframe tbody tr th {\n        vertical-align: top;\n    }\n\n    .dataframe thead th {\n        text-align: right;\n    }\n</style>\n<table border=\"1\" class=\"dataframe\">\n  <thead>\n    <tr style=\"text-align: right;\">\n      <th></th>\n      <th>Company</th>\n      <th>Sales</th>\n      <th>Stores</th>\n      <th>Sales/Avg. Store</th>\n      <th>Store Count Growth</th>\n      <th>Category</th>\n    </tr>\n  </thead>\n  <tbody>\n    <tr>\n      <th>0</th>\n      <td>Amazon</td>\n      <td>71687</td>\n      <td>0.0</td>\n      <td>None</td>\n      <td>None</td>\n      <td>Electronic/Mail Order</td>\n    </tr>\n    <tr>\n      <th>1</th>\n      <td>Apple incl. Online</td>\n      <td>37664</td>\n      <td>0.0</td>\n      <td>None</td>\n      <td>None</td>\n      <td>Electronic/Mail Order</td>\n    </tr>\n  </tbody>\n</table>\n</div>"
     },
     "metadata": {}
    }
   ],
   "execution_count": null
  },
  {
   "cell_type": "markdown",
   "source": "#### 2. Podemos ver que las empresas que venden exclusivamente online son Amazon y Apple inc. ",
   "metadata": {
    "cell_id": "7b853442-40e4-477e-95d6-97c5559b3c24",
    "tags": [],
    "deepnote_cell_type": "markdown"
   }
  },
  {
   "cell_type": "markdown",
   "source": "#### 3. Para comparar las ventas realizadas por las empresas online vs las que no son online (offline) realizamos un diagrama de barras.",
   "metadata": {
    "cell_id": "86cd4d14-b13d-47dd-a779-c9d2d595db62",
    "tags": [],
    "deepnote_cell_type": "markdown"
   }
  },
  {
   "cell_type": "code",
   "metadata": {
    "cell_id": "e8ad3d75-a70a-46cc-a26a-918b12a7cdad",
    "tags": [],
    "deepnote_to_be_reexecuted": false,
    "source_hash": "144d5f07",
    "execution_start": 1645648629700,
    "execution_millis": 422,
    "deepnote_cell_type": "code"
   },
   "source": "plt.figure(figsize=(6,6))\ndf.insert(1, \"is online\", df['Stores'] == 0, allow_duplicates=False) #Agregamos una columna temporal que indica que empresa es online u offline\n\ndf['is online'] = df['is online'].replace([False], 'offline') #reemplazamos este valor booleano por su significado en el problema\ndf['is online'] = df['is online'].replace([True], 'online') \n\n\nsns.barplot( x= 'is online', y ='Sales',order=['online', 'offline'],saturation=10,data=df,palette=\"rocket\", ci=None)\nplt.ylim(0, 80000)\nplt.title('Online sales vs Offline sales', family='avenir', weight=\"bold\", size=20, pad=20)\nplt.xlabel('is online', family='avenir', weight=\"light\", size=16, labelpad=15)\nplt.ylabel('Company', family='avenir', weight=\"light\", size=16, labelpad=15)\nplt.show()\n\ndf = df.drop('is online', 1) #Eliminamos esta columna temporal",
   "outputs": [
    {
     "data": {
      "text/plain": "<Figure size 432x432 with 1 Axes>",
      "image/png": "[encoded data removed]"
     },
     "metadata": {
      "needs_background": "light",
      "image/png": {
       "width": 417,
       "height": 422
      }
     },
     "output_type": "display_data"
    }
   ],
   "execution_count": null
  },
  {
   "cell_type": "markdown",
   "source": "#### Conclusiones: \n- 📶🛒 **Existen 2 compañías de forma online en el sector retail y son Amazon y Apple. Sus ventas son destacables siendo tan solo 2 empresas en el mercado.**\n- 💻🛒 Si bien las ventas empresas online no superan a las offline, es impresionante ver que **solo 2 empresas superan las 50000 ventas. Mientras que 23 empresas que cuentan con tiendas fisicas llegan a las 70000 unidades.**\n- 👨‍💻💸 **Es probable que si distribuimos nuestro/producto servicio de forma online sin perder la propuesta valor, nuestras ventas aumentarían ya que para el cliente puede ser incluso más accesible tener su compra desde internet.**\n- 📊💻 **Probablemente si tuviesemos en nuestro dataset un par más de grandes empresas retail que venden unicamente de forma online, las ventas superarian las offline.**",
   "metadata": {
    "cell_id": "a6bd1752-4121-4771-a746-0d9ab76abfb7",
    "tags": [],
    "deepnote_cell_type": "markdown"
   }
  },
  {
   "cell_type": "markdown",
   "source": "## III. Tus propias preguntas",
   "metadata": {
    "cell_id": "58c80612-3fb2-4c71-9aab-813b121430a0",
    "tags": [],
    "deepnote_cell_height": 70,
    "deepnote_cell_type": "markdown"
   }
  },
  {
   "cell_type": "markdown",
   "source": "### 10. ¿Cuál es la compañía que más creció en cantidad de tiendas? ¿Este crecimiento que tuvo impactó en sus ventas?",
   "metadata": {
    "cell_id": "fa60966b-7d95-43f0-9a1e-201f1373f1be",
    "tags": [],
    "deepnote_cell_height": 62,
    "deepnote_cell_type": "markdown"
   }
  },
  {
   "cell_type": "markdown",
   "source": "#### 1. Primero averiguamos cuál es la compañía que más creció en tiendas. Para eso ordenamos nuestro dataframe de mayor a menor en función del 'Store Count Growth', la cuál indica en porcentaje cuanto aumentó la cantidad de tiendas por empresa. Luego obtenemos la primer posición.",
   "metadata": {
    "cell_id": "9c24df12-f677-4aee-b75c-677a72fdcca0",
    "tags": [],
    "deepnote_cell_type": "markdown"
   }
  },
  {
   "cell_type": "code",
   "metadata": {
    "cell_id": "52ea290f-004f-4aaa-8e1a-0d0908996b0a",
    "tags": [],
    "deepnote_to_be_reexecuted": false,
    "source_hash": "347ad60d",
    "execution_start": 1645648630135,
    "execution_millis": 85,
    "deepnote_cell_height": 81,
    "deepnote_table_state": {
     "pageSize": 10,
     "pageIndex": 0,
     "filters": [],
     "sortBy": []
    },
    "deepnote_table_loading": false,
    "deepnote_cell_type": "code"
   },
   "source": "df = df.sort_values('Store Count Growth', ascending=0)\ndf",
   "outputs": [
    {
     "output_type": "execute_result",
     "execution_count": 30,
     "data": {
      "application/vnd.deepnote.dataframe.v3+json": {
       "column_count": 6,
       "row_count": 25,
       "columns": [
        {
         "name": "Company",
         "dtype": "object",
         "stats": {
          "unique_count": 25,
          "nan_count": 0,
          "categories": [
           {
            "name": "CVS incl. Target",
            "count": 1
           },
           {
            "name": "Dollar General",
            "count": 1
           },
           {
            "name": "23 others",
            "count": 23
           }
          ]
         }
        },
        {
         "name": "Sales",
         "dtype": "int64",
         "stats": {
          "unique_count": 25,
          "nan_count": 0,
          "min": "16592",
          "max": "658119",
          "histogram": [
           {
            "bin_start": 16592,
            "bin_end": 80744.7,
            "count": 21
           },
           {
            "bin_start": 80744.7,
            "bin_end": 144897.4,
            "count": 3
           },
           {
            "bin_start": 144897.4,
            "bin_end": 209050.09999999998,
            "count": 0
           },
           {
            "bin_start": 209050.09999999998,
            "bin_end": 273202.8,
            "count": 0
           },
           {
            "bin_start": 273202.8,
            "bin_end": 337355.5,
            "count": 0
           },
           {
            "bin_start": 337355.5,
            "bin_end": 401508.19999999995,
            "count": 0
           },
           {
            "bin_start": 401508.19999999995,
            "bin_end": 465660.89999999997,
            "count": 0
           },
           {
            "bin_start": 465660.89999999997,
            "bin_end": 529813.6,
            "count": 0
           },
           {
            "bin_start": 529813.6,
            "bin_end": 593966.2999999999,
            "count": 0
           },
           {
            "bin_start": 593966.2999999999,
            "bin_end": 658119,
            "count": 1
           }
          ]
         }
        },
        {
         "name": "Stores",
         "dtype": "float64",
         "stats": {
          "unique_count": 24,
          "nan_count": 0,
          "min": "0.0",
          "max": "14250.0",
          "histogram": [
           {
            "bin_start": 0,
            "bin_end": 1425,
            "count": 12
           },
           {
            "bin_start": 1425,
            "bin_end": 2850,
            "count": 6
           },
           {
            "bin_start": 2850,
            "bin_end": 4275,
            "count": 1
           },
           {
            "bin_start": 4275,
            "bin_end": 5700,
            "count": 2
           },
           {
            "bin_start": 5700,
            "bin_end": 7125,
            "count": 0
           },
           {
            "bin_start": 7125,
            "bin_end": 8550,
            "count": 1
           },
           {
            "bin_start": 8550,
            "bin_end": 9975,
            "count": 1
           },
           {
            "bin_start": 9975,
            "bin_end": 11400,
            "count": 0
           },
           {
            "bin_start": 11400,
            "bin_end": 12825,
            "count": 0
           },
           {
            "bin_start": 12825,
            "bin_end": 14250,
            "count": 2
           }
          ]
         }
        },
        {
         "name": "Sales/Avg. Store",
         "dtype": "float64",
         "stats": {
          "unique_count": 23,
          "nan_count": 2,
          "min": "1.56391854",
          "max": "187.7956204",
          "histogram": [
           {
            "bin_start": 1.56391854,
            "bin_end": 20.187088726,
            "count": 9
           },
           {
            "bin_start": 20.187088726,
            "bin_end": 38.810258912,
            "count": 7
           },
           {
            "bin_start": 38.810258912,
            "bin_end": 57.433429098000005,
            "count": 2
           },
           {
            "bin_start": 57.433429098000005,
            "bin_end": 76.056599284,
            "count": 3
           },
           {
            "bin_start": 76.056599284,
            "bin_end": 94.67976947,
            "count": 1
           },
           {
            "bin_start": 94.67976947,
            "bin_end": 113.302939656,
            "count": 0
           },
           {
            "bin_start": 113.302939656,
            "bin_end": 131.926109842,
            "count": 0
           },
           {
            "bin_start": 131.926109842,
            "bin_end": 150.549280028,
            "count": 0
           },
           {
            "bin_start": 150.549280028,
            "bin_end": 169.172450214,
            "count": 0
           },
           {
            "bin_start": 169.172450214,
            "bin_end": 187.7956204,
            "count": 1
           }
          ]
         }
        },
        {
         "name": "Store Count Growth",
         "dtype": "float64",
         "stats": {
          "unique_count": 23,
          "nan_count": 2,
          "min": "-0.05951506245",
          "max": "0.2556621881",
          "histogram": [
           {
            "bin_start": -0.05951506245,
            "bin_end": -0.027997337395000002,
            "count": 3
           },
           {
            "bin_start": -0.027997337395000002,
            "bin_end": 0.003520387659999999,
            "count": 4
           },
           {
            "bin_start": 0.003520387659999999,
            "bin_end": 0.035038112715,
            "count": 6
           },
           {
            "bin_start": 0.035038112715,
            "bin_end": 0.06655583777,
            "count": 2
           },
           {
            "bin_start": 0.06655583777,
            "bin_end": 0.098073562825,
            "count": 5
           },
           {
            "bin_start": 0.098073562825,
            "bin_end": 0.12959128788000002,
            "count": 1
           },
           {
            "bin_start": 0.12959128788000002,
            "bin_end": 0.16110901293500002,
            "count": 1
           },
           {
            "bin_start": 0.16110901293500002,
            "bin_end": 0.19262673799000002,
            "count": 0
           },
           {
            "bin_start": 0.19262673799000002,
            "bin_end": 0.22414446304500002,
            "count": 0
           },
           {
            "bin_start": 0.22414446304500002,
            "bin_end": 0.2556621881,
            "count": 1
           }
          ]
         }
        },
        {
         "name": "Category",
         "dtype": "object",
         "stats": {
          "unique_count": 11,
          "nan_count": 0,
          "categories": [
           {
            "name": "Grocery",
            "count": 7
           },
           {
            "name": "Drug Stores",
            "count": 3
           },
           {
            "name": "9 others",
            "count": 15
           }
          ]
         }
        },
        {
         "name": "_deepnote_index_column",
         "dtype": "int64"
        }
       ],
       "rows": [
        {
         "Company": "CVS incl. Target",
         "Sales": 77792,
         "Stores": 9813,
         "Sales/Avg. Store": 8.825958702,
         "Store Count Growth": 0.2556621881,
         "Category": "Drug Stores",
         "_deepnote_index_column": 5
        },
        {
         "Company": "Dollar General",
         "Sales": 22234,
         "Stores": 13350,
         "Sales/Avg. Store": 1.768884999,
         "Store Count Growth": 0.1324115701,
         "Category": "Dollar Stores",
         "_deepnote_index_column": 19
        },
        {
         "Company": "Aldi",
         "Sales": 24402,
         "Stores": 2021,
         "Sales/Avg. Store": 12.71599792,
         "Store Count Growth": 0.1122729774,
         "Category": "Grocery",
         "_deepnote_index_column": 18
        },
        {
         "Company": "Meijer",
         "Sales": 16592,
         "Stores": 231,
         "Sales/Avg. Store": 74.73873874,
         "Store Count Growth": 0.08450704225,
         "Category": "Supercenters",
         "_deepnote_index_column": 24
        },
        {
         "Company": "Macy's",
         "Sales": 26028,
         "Stores": 889,
         "Sales/Avg. Store": 30.44210526,
         "Store Count Growth": 0.08282582217,
         "Category": "Department Stores",
         "_deepnote_index_column": 16
        },
        {
         "Company": "Dollar Tree",
         "Sales": 21464,
         "Stores": 14250,
         "Sales/Avg. Store": 1.56391854,
         "Store Count Growth": 0.07962724449,
         "Category": "Dollar Stores",
         "_deepnote_index_column": 20
        },
        {
         "Company": "TJX",
         "Sales": 25012,
         "Stores": 2770,
         "Sales/Avg. Store": 9.369544859,
         "Store Count Growth": 0.07824056053,
         "Category": "Apparel",
         "_deepnote_index_column": 17
        },
        {
         "Company": "Costco",
         "Sales": 90048,
         "Stores": 495,
         "Sales/Avg. Store": 187.7956204,
         "Store Count Growth": 0.06681034483,
         "Category": "Warehouse Club",
         "_deepnote_index_column": 2
        },
        {
         "Company": "Kroger",
         "Sales": 115037,
         "Stores": 3931,
         "Sales/Avg. Store": 30.03184963,
         "Store Count Growth": 0.05388739946,
         "Category": "Grocery",
         "_deepnote_index_column": 1
        },
        {
         "Company": "Publix",
         "Sales": 34408,
         "Stores": 1351,
         "Sales/Avg. Store": 25.99773328,
         "Store Count Growth": 0.0424382716,
         "Category": "Grocery",
         "_deepnote_index_column": 13
        }
       ]
      },
      "text/plain": "               Company   Sales   Stores  Sales/Avg. Store  Store Count Growth  \\\n5     CVS incl. Target   77792   9813.0          8.825959            0.255662   \n19      Dollar General   22234  13350.0          1.768885            0.132412   \n18                Aldi   24402   2021.0         12.715998            0.112273   \n24              Meijer   16592    231.0         74.738739            0.084507   \n16              Macy's   26028    889.0         30.442105            0.082826   \n20         Dollar Tree   21464  14250.0          1.563919            0.079627   \n17                 TJX   25012   2770.0          9.369545            0.078241   \n2               Costco   90048    495.0        187.795620            0.066810   \n1               Kroger  115037   3931.0         30.031850            0.053887   \n13              Publix   34408   1351.0         25.997733            0.042438   \n15               Ahold   26903    794.0         34.446863            0.033854   \n8               Lowe's   60311   1828.0         33.311792            0.019520   \n21                 HEB   21384    323.0         66.825000            0.018927   \n0           Walmart US  658119   4574.0         65.649725            0.012843   \n10          Sam's Club   56828    655.0         87.293395            0.012365   \n22              Kohl's   19060   1169.0         16.353496            0.006024   \n3           Home Depot   83976   1965.0         42.735878            0.000000   \n14            Rite Aid   27486   4553.0          6.025649           -0.003720   \n7               Target   71208   1772.0         39.982033           -0.010056   \n4       Walgreen Boots   78924   8002.0          9.810927           -0.010511   \n12            Best Buy   34980   1389.0         24.685956           -0.038754   \n9           Albertsons   56829   2326.0         23.877731           -0.044371   \n23            Delhaize   18201   1280.0         13.783415           -0.059515   \n6               Amazon   71687      0.0               NaN                 NaN   \n11  Apple incl. Online   37664      0.0               NaN                 NaN   \n\n                 Category  \n5             Drug Stores  \n19          Dollar Stores  \n18                Grocery  \n24           Supercenters  \n16      Department Stores  \n20          Dollar Stores  \n17                Apparel  \n2          Warehouse Club  \n1                 Grocery  \n13                Grocery  \n15                Grocery  \n8        Home Improvement  \n21                Grocery  \n0            Supercenters  \n10        Warehouse Clubs  \n22      Department Stores  \n3        Home Improvement  \n14            Drug Stores  \n7            Supercenters  \n4             Drug Stores  \n12            Electronics  \n9                 Grocery  \n23                Grocery  \n6   Electronic/Mail Order  \n11  Electronic/Mail Order  ",
      "text/html": "<div>\n<style scoped>\n    .dataframe tbody tr th:only-of-type {\n        vertical-align: middle;\n    }\n\n    .dataframe tbody tr th {\n        vertical-align: top;\n    }\n\n    .dataframe thead th {\n        text-align: right;\n    }\n</style>\n<table border=\"1\" class=\"dataframe\">\n  <thead>\n    <tr style=\"text-align: right;\">\n      <th></th>\n      <th>Company</th>\n      <th>Sales</th>\n      <th>Stores</th>\n      <th>Sales/Avg. Store</th>\n      <th>Store Count Growth</th>\n      <th>Category</th>\n    </tr>\n  </thead>\n  <tbody>\n    <tr>\n      <th>5</th>\n      <td>CVS incl. Target</td>\n      <td>77792</td>\n      <td>9813.0</td>\n      <td>8.825959</td>\n      <td>0.255662</td>\n      <td>Drug Stores</td>\n    </tr>\n    <tr>\n      <th>19</th>\n      <td>Dollar General</td>\n      <td>22234</td>\n      <td>13350.0</td>\n      <td>1.768885</td>\n      <td>0.132412</td>\n      <td>Dollar Stores</td>\n    </tr>\n    <tr>\n      <th>18</th>\n      <td>Aldi</td>\n      <td>24402</td>\n      <td>2021.0</td>\n      <td>12.715998</td>\n      <td>0.112273</td>\n      <td>Grocery</td>\n    </tr>\n    <tr>\n      <th>24</th>\n      <td>Meijer</td>\n      <td>16592</td>\n      <td>231.0</td>\n      <td>74.738739</td>\n      <td>0.084507</td>\n      <td>Supercenters</td>\n    </tr>\n    <tr>\n      <th>16</th>\n      <td>Macy's</td>\n      <td>26028</td>\n      <td>889.0</td>\n      <td>30.442105</td>\n      <td>0.082826</td>\n      <td>Department Stores</td>\n    </tr>\n    <tr>\n      <th>20</th>\n      <td>Dollar Tree</td>\n      <td>21464</td>\n      <td>14250.0</td>\n      <td>1.563919</td>\n      <td>0.079627</td>\n      <td>Dollar Stores</td>\n    </tr>\n    <tr>\n      <th>17</th>\n      <td>TJX</td>\n      <td>25012</td>\n      <td>2770.0</td>\n      <td>9.369545</td>\n      <td>0.078241</td>\n      <td>Apparel</td>\n    </tr>\n    <tr>\n      <th>2</th>\n      <td>Costco</td>\n      <td>90048</td>\n      <td>495.0</td>\n      <td>187.795620</td>\n      <td>0.066810</td>\n      <td>Warehouse Club</td>\n    </tr>\n    <tr>\n      <th>1</th>\n      <td>Kroger</td>\n      <td>115037</td>\n      <td>3931.0</td>\n      <td>30.031850</td>\n      <td>0.053887</td>\n      <td>Grocery</td>\n    </tr>\n    <tr>\n      <th>13</th>\n      <td>Publix</td>\n      <td>34408</td>\n      <td>1351.0</td>\n      <td>25.997733</td>\n      <td>0.042438</td>\n      <td>Grocery</td>\n    </tr>\n    <tr>\n      <th>15</th>\n      <td>Ahold</td>\n      <td>26903</td>\n      <td>794.0</td>\n      <td>34.446863</td>\n      <td>0.033854</td>\n      <td>Grocery</td>\n    </tr>\n    <tr>\n      <th>8</th>\n      <td>Lowe's</td>\n      <td>60311</td>\n      <td>1828.0</td>\n      <td>33.311792</td>\n      <td>0.019520</td>\n      <td>Home Improvement</td>\n    </tr>\n    <tr>\n      <th>21</th>\n      <td>HEB</td>\n      <td>21384</td>\n      <td>323.0</td>\n      <td>66.825000</td>\n      <td>0.018927</td>\n      <td>Grocery</td>\n    </tr>\n    <tr>\n      <th>0</th>\n      <td>Walmart US</td>\n      <td>658119</td>\n      <td>4574.0</td>\n      <td>65.649725</td>\n      <td>0.012843</td>\n      <td>Supercenters</td>\n    </tr>\n    <tr>\n      <th>10</th>\n      <td>Sam's Club</td>\n      <td>56828</td>\n      <td>655.0</td>\n      <td>87.293395</td>\n      <td>0.012365</td>\n      <td>Warehouse Clubs</td>\n    </tr>\n    <tr>\n      <th>22</th>\n      <td>Kohl's</td>\n      <td>19060</td>\n      <td>1169.0</td>\n      <td>16.353496</td>\n      <td>0.006024</td>\n      <td>Department Stores</td>\n    </tr>\n    <tr>\n      <th>3</th>\n      <td>Home Depot</td>\n      <td>83976</td>\n      <td>1965.0</td>\n      <td>42.735878</td>\n      <td>0.000000</td>\n      <td>Home Improvement</td>\n    </tr>\n    <tr>\n      <th>14</th>\n      <td>Rite Aid</td>\n      <td>27486</td>\n      <td>4553.0</td>\n      <td>6.025649</td>\n      <td>-0.003720</td>\n      <td>Drug Stores</td>\n    </tr>\n    <tr>\n      <th>7</th>\n      <td>Target</td>\n      <td>71208</td>\n      <td>1772.0</td>\n      <td>39.982033</td>\n      <td>-0.010056</td>\n      <td>Supercenters</td>\n    </tr>\n    <tr>\n      <th>4</th>\n      <td>Walgreen Boots</td>\n      <td>78924</td>\n      <td>8002.0</td>\n      <td>9.810927</td>\n      <td>-0.010511</td>\n      <td>Drug Stores</td>\n    </tr>\n    <tr>\n      <th>12</th>\n      <td>Best Buy</td>\n      <td>34980</td>\n      <td>1389.0</td>\n      <td>24.685956</td>\n      <td>-0.038754</td>\n      <td>Electronics</td>\n    </tr>\n    <tr>\n      <th>9</th>\n      <td>Albertsons</td>\n      <td>56829</td>\n      <td>2326.0</td>\n      <td>23.877731</td>\n      <td>-0.044371</td>\n      <td>Grocery</td>\n    </tr>\n    <tr>\n      <th>23</th>\n      <td>Delhaize</td>\n      <td>18201</td>\n      <td>1280.0</td>\n      <td>13.783415</td>\n      <td>-0.059515</td>\n      <td>Grocery</td>\n    </tr>\n    <tr>\n      <th>6</th>\n      <td>Amazon</td>\n      <td>71687</td>\n      <td>0.0</td>\n      <td>NaN</td>\n      <td>NaN</td>\n      <td>Electronic/Mail Order</td>\n    </tr>\n    <tr>\n      <th>11</th>\n      <td>Apple incl. Online</td>\n      <td>37664</td>\n      <td>0.0</td>\n      <td>NaN</td>\n      <td>NaN</td>\n      <td>Electronic/Mail Order</td>\n    </tr>\n  </tbody>\n</table>\n</div>"
     },
     "metadata": {}
    }
   ],
   "execution_count": null
  },
  {
   "cell_type": "code",
   "metadata": {
    "cell_id": "81991e58-9a29-4962-91f9-ba5b28cfa86a",
    "tags": [],
    "deepnote_to_be_reexecuted": false,
    "source_hash": "15e2b08a",
    "execution_start": 1645648630228,
    "execution_millis": 57,
    "deepnote_cell_type": "code"
   },
   "source": "df[0:1]",
   "outputs": [
    {
     "output_type": "execute_result",
     "execution_count": 31,
     "data": {
      "application/vnd.deepnote.dataframe.v3+json": {
       "column_count": 6,
       "row_count": 1,
       "columns": [
        {
         "name": "Company",
         "dtype": "object",
         "stats": {
          "unique_count": 1,
          "nan_count": 0,
          "categories": [
           {
            "name": "CVS incl. Target",
            "count": 1
           }
          ]
         }
        },
        {
         "name": "Sales",
         "dtype": "int64",
         "stats": {
          "unique_count": 1,
          "nan_count": 0,
          "min": "77792",
          "max": "77792",
          "histogram": [
           {
            "bin_start": 77791.5,
            "bin_end": 77791.6,
            "count": 0
           },
           {
            "bin_start": 77791.6,
            "bin_end": 77791.7,
            "count": 0
           },
           {
            "bin_start": 77791.7,
            "bin_end": 77791.8,
            "count": 0
           },
           {
            "bin_start": 77791.8,
            "bin_end": 77791.9,
            "count": 0
           },
           {
            "bin_start": 77791.9,
            "bin_end": 77792,
            "count": 0
           },
           {
            "bin_start": 77792,
            "bin_end": 77792.1,
            "count": 1
           },
           {
            "bin_start": 77792.1,
            "bin_end": 77792.2,
            "count": 0
           },
           {
            "bin_start": 77792.2,
            "bin_end": 77792.3,
            "count": 0
           },
           {
            "bin_start": 77792.3,
            "bin_end": 77792.4,
            "count": 0
           },
           {
            "bin_start": 77792.4,
            "bin_end": 77792.5,
            "count": 0
           }
          ]
         }
        },
        {
         "name": "Stores",
         "dtype": "float64",
         "stats": {
          "unique_count": 1,
          "nan_count": 0,
          "min": "9813.0",
          "max": "9813.0",
          "histogram": [
           {
            "bin_start": 9812.5,
            "bin_end": 9812.6,
            "count": 0
           },
           {
            "bin_start": 9812.6,
            "bin_end": 9812.7,
            "count": 0
           },
           {
            "bin_start": 9812.7,
            "bin_end": 9812.8,
            "count": 0
           },
           {
            "bin_start": 9812.8,
            "bin_end": 9812.9,
            "count": 0
           },
           {
            "bin_start": 9812.9,
            "bin_end": 9813,
            "count": 0
           },
           {
            "bin_start": 9813,
            "bin_end": 9813.1,
            "count": 1
           },
           {
            "bin_start": 9813.1,
            "bin_end": 9813.2,
            "count": 0
           },
           {
            "bin_start": 9813.2,
            "bin_end": 9813.3,
            "count": 0
           },
           {
            "bin_start": 9813.3,
            "bin_end": 9813.4,
            "count": 0
           },
           {
            "bin_start": 9813.4,
            "bin_end": 9813.5,
            "count": 0
           }
          ]
         }
        },
        {
         "name": "Sales/Avg. Store",
         "dtype": "float64",
         "stats": {
          "unique_count": 1,
          "nan_count": 0,
          "min": "8.825958702",
          "max": "8.825958702",
          "histogram": [
           {
            "bin_start": 8.325958702,
            "bin_end": 8.425958701999999,
            "count": 0
           },
           {
            "bin_start": 8.425958701999999,
            "bin_end": 8.525958701999999,
            "count": 0
           },
           {
            "bin_start": 8.525958701999999,
            "bin_end": 8.625958702,
            "count": 0
           },
           {
            "bin_start": 8.625958702,
            "bin_end": 8.725958702,
            "count": 0
           },
           {
            "bin_start": 8.725958702,
            "bin_end": 8.825958702,
            "count": 0
           },
           {
            "bin_start": 8.825958702,
            "bin_end": 8.925958701999999,
            "count": 1
           },
           {
            "bin_start": 8.925958701999999,
            "bin_end": 9.025958701999999,
            "count": 0
           },
           {
            "bin_start": 9.025958701999999,
            "bin_end": 9.125958702,
            "count": 0
           },
           {
            "bin_start": 9.125958702,
            "bin_end": 9.225958702,
            "count": 0
           },
           {
            "bin_start": 9.225958702,
            "bin_end": 9.325958702,
            "count": 0
           }
          ]
         }
        },
        {
         "name": "Store Count Growth",
         "dtype": "float64",
         "stats": {
          "unique_count": 1,
          "nan_count": 0,
          "min": "0.2556621881",
          "max": "0.2556621881",
          "histogram": [
           {
            "bin_start": -0.24433781189999998,
            "bin_end": -0.14433781189999997,
            "count": 0
           },
           {
            "bin_start": -0.14433781189999997,
            "bin_end": -0.04433781189999997,
            "count": 0
           },
           {
            "bin_start": -0.04433781189999997,
            "bin_end": 0.055662188100000065,
            "count": 0
           },
           {
            "bin_start": 0.055662188100000065,
            "bin_end": 0.15566218810000004,
            "count": 0
           },
           {
            "bin_start": 0.15566218810000004,
            "bin_end": 0.2556621881,
            "count": 0
           },
           {
            "bin_start": 0.2556621881,
            "bin_end": 0.3556621881000001,
            "count": 1
           },
           {
            "bin_start": 0.3556621881000001,
            "bin_end": 0.4556621881000001,
            "count": 0
           },
           {
            "bin_start": 0.4556621881000001,
            "bin_end": 0.5556621881000001,
            "count": 0
           },
           {
            "bin_start": 0.5556621881000001,
            "bin_end": 0.6556621881,
            "count": 0
           },
           {
            "bin_start": 0.6556621881,
            "bin_end": 0.7556621881000001,
            "count": 0
           }
          ]
         }
        },
        {
         "name": "Category",
         "dtype": "object",
         "stats": {
          "unique_count": 1,
          "nan_count": 0,
          "categories": [
           {
            "name": "Drug Stores",
            "count": 1
           }
          ]
         }
        },
        {
         "name": "_deepnote_index_column",
         "dtype": "int64"
        }
       ],
       "rows": [
        {
         "Company": "CVS incl. Target",
         "Sales": 77792,
         "Stores": 9813,
         "Sales/Avg. Store": 8.825958702,
         "Store Count Growth": 0.2556621881,
         "Category": "Drug Stores",
         "_deepnote_index_column": 5
        }
       ]
      },
      "text/plain": "            Company  Sales  Stores  Sales/Avg. Store  Store Count Growth  \\\n5  CVS incl. Target  77792  9813.0          8.825959            0.255662   \n\n      Category  \n5  Drug Stores  ",
      "text/html": "<div>\n<style scoped>\n    .dataframe tbody tr th:only-of-type {\n        vertical-align: middle;\n    }\n\n    .dataframe tbody tr th {\n        vertical-align: top;\n    }\n\n    .dataframe thead th {\n        text-align: right;\n    }\n</style>\n<table border=\"1\" class=\"dataframe\">\n  <thead>\n    <tr style=\"text-align: right;\">\n      <th></th>\n      <th>Company</th>\n      <th>Sales</th>\n      <th>Stores</th>\n      <th>Sales/Avg. Store</th>\n      <th>Store Count Growth</th>\n      <th>Category</th>\n    </tr>\n  </thead>\n  <tbody>\n    <tr>\n      <th>5</th>\n      <td>CVS incl. Target</td>\n      <td>77792</td>\n      <td>9813.0</td>\n      <td>8.825959</td>\n      <td>0.255662</td>\n      <td>Drug Stores</td>\n    </tr>\n  </tbody>\n</table>\n</div>"
     },
     "metadata": {}
    }
   ],
   "execution_count": null
  },
  {
   "cell_type": "markdown",
   "source": "#### 2. Podemos ver que la compañía que más creció en de cantidad de tiendas es CVS incl. Target. Con un 25% respecto de la cantidad anterior. Curiosamente lo pudimos observar dentro del top 5 en ventas. Para comparar en perspectiva su posición en el top, realizamos la siguiente visualización que muestra el top 5 de las compañías que más crecieron en cantidad de tiendas.",
   "metadata": {
    "cell_id": "1e3659f6-de92-46df-b299-1c5bafcf4e8e",
    "tags": [],
    "deepnote_cell_type": "markdown"
   }
  },
  {
   "cell_type": "code",
   "metadata": {
    "cell_id": "9baeafb0-702a-4d9d-a48a-c48d4f6d0246",
    "tags": [],
    "deepnote_to_be_reexecuted": false,
    "source_hash": "6ee2bf61",
    "execution_start": 1645648630296,
    "execution_millis": 483,
    "deepnote_cell_type": "code"
   },
   "source": "plt.figure(figsize=(15,6))\nsns.barplot(x='Store Count Growth', y='Company' ,saturation=10 ,palette=\"rocket\", ci=None, data=df[0:5])\n\nplt.title('Top Store Count Growth Companies', family='avenir', weight=\"bold\", size=24, pad=20)\nplt.xlabel('% Store Count Growth', family='avenir', weight=\"light\", size=16, labelpad=15)\nplt.ylabel('Category', family='avenir', weight=\"light\", size=16, labelpad=15)\n\nplt.show()",
   "outputs": [
    {
     "data": {
      "text/plain": "<Figure size 1080x432 with 1 Axes>",
      "image/png": "[encoded data removed]"
     },
     "metadata": {
      "needs_background": "light",
      "image/png": {
       "width": 966,
       "height": 426
      }
     },
     "output_type": "display_data"
    }
   ],
   "execution_count": null
  },
  {
   "cell_type": "markdown",
   "source": "#### 3. Sabiendo que CVS es la empresa que más invirtió a la hora de obtener más tiendas fisicas. Realizamos la comparación de ventas junto a todas las demas compañías observar su posición y medir el impacto generado por el 'Store Count Growth. ",
   "metadata": {
    "cell_id": "ccd35e2b-76e1-4c1b-87d8-fcf63537b1f6",
    "tags": [],
    "deepnote_cell_type": "markdown"
   }
  },
  {
   "cell_type": "code",
   "metadata": {
    "cell_id": "ac12438b-bbd6-4243-a0b3-c950a42a03c4",
    "tags": [],
    "deepnote_to_be_reexecuted": false,
    "source_hash": "1ff41d77",
    "execution_start": 1645648630792,
    "execution_millis": 966,
    "deepnote_cell_type": "code"
   },
   "source": "plt.figure(figsize=(15, 6))\ndf = df.sort_values('Sales', ascending=0)\n\ncolors = ['grey' for i in range(25)]\ncolors[4] = '#AA023A'\n\nplt.bar(x=df['Company'][1:], height=df['Sales'][1:], align='center', color=colors)\n\nplt.title(' Number of sales per company', family='avenir', weight=\"bold\", size=24 ,pad=20)\nplt.xlabel('Sales', family='avenir', weight=\"light\", size=20, labelpad=15)\nplt.ylabel('Company', family='avenir', weight=\"light\", size=20, labelpad=15)\nplt.xticks(rotation='vertical')\n\nplt.show()",
   "outputs": [
    {
     "data": {
      "text/plain": "<Figure size 1080x432 with 1 Axes>",
      "image/png": "[encoded data removed]"
     },
     "metadata": {
      "needs_background": "light",
      "image/png": {
       "width": 930,
       "height": 508
      }
     },
     "output_type": "display_data"
    }
   ],
   "execution_count": null
  },
  {
   "cell_type": "markdown",
   "source": "#### 4. Finalmente obtenemos el resultado de ventas de CVS. Lo encontramos bien posicionado.",
   "metadata": {
    "cell_id": "fb47375d-ee1f-4a59-9a64-466efff9dbdb",
    "tags": [],
    "deepnote_cell_type": "markdown"
   }
  },
  {
   "cell_type": "markdown",
   "source": "#### Conclusiones:\n\n- 🏪📈 **La empresa que más creció en tiendas es CVS aumentando un 25% su cantidad.**\n- 🏪📈🛒 **Es probable que el hecho de que CVS haya aumentado sus tiendas, haya aumentado las ventas.**\n- 🏪⚖🛒 Aunque las ventas de CVS están bien posicionadas, **la posición entre ventas y crecimiento de tiendas son diferentes.**",
   "metadata": {
    "cell_id": "d055fe7d-ac2c-4be9-b787-0376c998cc4e",
    "tags": [],
    "deepnote_cell_type": "markdown"
   }
  },
  {
   "cell_type": "markdown",
   "source": "### 11. ¿Cuál es el la categoría con el mayor porcentaje de compañías y cuál es la de mayor porcentaje de ventas tiene en el sector retail?",
   "metadata": {
    "cell_id": "83e0e566-969d-4872-b32d-915ac945a370",
    "tags": [],
    "deepnote_cell_height": 62,
    "deepnote_cell_type": "markdown"
   }
  },
  {
   "cell_type": "markdown",
   "source": "#### 1. Para responder a la pregunta agrupamos los datos del dataframe en categorias y contamos las compañías presentes en cada una.",
   "metadata": {
    "cell_id": "c646ea34-f7b5-47f2-9e06-22e8b2783b37",
    "tags": [],
    "deepnote_cell_type": "markdown"
   }
  },
  {
   "cell_type": "code",
   "metadata": {
    "cell_id": "04a6786e-fd39-4b41-b85c-0ecae003e4db",
    "tags": [],
    "deepnote_to_be_reexecuted": false,
    "source_hash": "c2793b7c",
    "execution_start": 1645648631727,
    "execution_millis": 52,
    "deepnote_cell_height": 81,
    "deepnote_table_state": {
     "pageSize": 10,
     "pageIndex": 0,
     "filters": [],
     "sortBy": []
    },
    "deepnote_table_loading": false,
    "deepnote_cell_type": "code"
   },
   "source": "category_counter = df.groupby(['Category']).count()\ncategory_counter.iloc[:,0:1]",
   "outputs": [
    {
     "output_type": "execute_result",
     "execution_count": 34,
     "data": {
      "application/vnd.deepnote.dataframe.v3+json": {
       "column_count": 1,
       "row_count": 11,
       "columns": [
        {
         "name": "Company",
         "dtype": "int64",
         "stats": {
          "unique_count": 4,
          "nan_count": 0,
          "min": "1",
          "max": "7",
          "histogram": [
           {
            "bin_start": 1,
            "bin_end": 1.6,
            "count": 4
           },
           {
            "bin_start": 1.6,
            "bin_end": 2.2,
            "count": 4
           },
           {
            "bin_start": 2.2,
            "bin_end": 2.8,
            "count": 0
           },
           {
            "bin_start": 2.8,
            "bin_end": 3.4,
            "count": 2
           },
           {
            "bin_start": 3.4,
            "bin_end": 4,
            "count": 0
           },
           {
            "bin_start": 4,
            "bin_end": 4.6,
            "count": 0
           },
           {
            "bin_start": 4.6,
            "bin_end": 5.2,
            "count": 0
           },
           {
            "bin_start": 5.2,
            "bin_end": 5.8,
            "count": 0
           },
           {
            "bin_start": 5.8,
            "bin_end": 6.3999999999999995,
            "count": 0
           },
           {
            "bin_start": 6.3999999999999995,
            "bin_end": 7,
            "count": 1
           }
          ]
         }
        },
        {
         "name": "_deepnote_index_column",
         "dtype": "object"
        }
       ],
       "rows": [
        {
         "Company": 1,
         "_deepnote_index_column": "Apparel"
        },
        {
         "Company": 2,
         "_deepnote_index_column": "Department Stores"
        },
        {
         "Company": 2,
         "_deepnote_index_column": "Dollar Stores"
        },
        {
         "Company": 3,
         "_deepnote_index_column": "Drug Stores"
        },
        {
         "Company": 2,
         "_deepnote_index_column": "Electronic/Mail Order"
        },
        {
         "Company": 1,
         "_deepnote_index_column": "Electronics"
        },
        {
         "Company": 7,
         "_deepnote_index_column": "Grocery"
        },
        {
         "Company": 2,
         "_deepnote_index_column": "Home Improvement"
        },
        {
         "Company": 3,
         "_deepnote_index_column": "Supercenters"
        },
        {
         "Company": 1,
         "_deepnote_index_column": "Warehouse Club"
        }
       ]
      },
      "text/plain": "                       Company\nCategory                      \nApparel                      1\nDepartment Stores            2\nDollar Stores                2\nDrug Stores                  3\nElectronic/Mail Order        2\nElectronics                  1\nGrocery                      7\nHome Improvement             2\nSupercenters                 3\nWarehouse Club               1\nWarehouse Clubs              1",
      "text/html": "<div>\n<style scoped>\n    .dataframe tbody tr th:only-of-type {\n        vertical-align: middle;\n    }\n\n    .dataframe tbody tr th {\n        vertical-align: top;\n    }\n\n    .dataframe thead th {\n        text-align: right;\n    }\n</style>\n<table border=\"1\" class=\"dataframe\">\n  <thead>\n    <tr style=\"text-align: right;\">\n      <th></th>\n      <th>Company</th>\n    </tr>\n    <tr>\n      <th>Category</th>\n      <th></th>\n    </tr>\n  </thead>\n  <tbody>\n    <tr>\n      <th>Apparel</th>\n      <td>1</td>\n    </tr>\n    <tr>\n      <th>Department Stores</th>\n      <td>2</td>\n    </tr>\n    <tr>\n      <th>Dollar Stores</th>\n      <td>2</td>\n    </tr>\n    <tr>\n      <th>Drug Stores</th>\n      <td>3</td>\n    </tr>\n    <tr>\n      <th>Electronic/Mail Order</th>\n      <td>2</td>\n    </tr>\n    <tr>\n      <th>Electronics</th>\n      <td>1</td>\n    </tr>\n    <tr>\n      <th>Grocery</th>\n      <td>7</td>\n    </tr>\n    <tr>\n      <th>Home Improvement</th>\n      <td>2</td>\n    </tr>\n    <tr>\n      <th>Supercenters</th>\n      <td>3</td>\n    </tr>\n    <tr>\n      <th>Warehouse Club</th>\n      <td>1</td>\n    </tr>\n    <tr>\n      <th>Warehouse Clubs</th>\n      <td>1</td>\n    </tr>\n  </tbody>\n</table>\n</div>"
     },
     "metadata": {}
    }
   ],
   "execution_count": null
  },
  {
   "cell_type": "markdown",
   "source": "#### 2. Esta información la guardamos de otra forma para asi observar mediante una visualización la categoria que más abarca en el sector retail. ",
   "metadata": {
    "cell_id": "bd5cf043-97c2-4ac4-a384-9ab421c42026",
    "tags": [],
    "deepnote_cell_type": "markdown"
   }
  },
  {
   "cell_type": "code",
   "metadata": {
    "cell_id": "58b733a0-c8a0-4ac9-9b7c-519d6e73ace9",
    "tags": [],
    "deepnote_to_be_reexecuted": false,
    "source_hash": "46948b48",
    "execution_start": 1645648631788,
    "execution_millis": 62,
    "deepnote_cell_type": "code"
   },
   "source": "indexs = category_counter.index\npie_category_companies = {indexs[i]:category_counter['Sales'][i] for i in range(11)}\nprint('Número de compañías por categoría: ',pie_category_companies)",
   "outputs": [
    {
     "name": "stdout",
     "text": "Número de compañías por categoría:  {'Apparel': 1, 'Department Stores': 2, 'Dollar Stores': 2, 'Drug Stores': 3, 'Electronic/Mail Order': 2, 'Electronics': 1, 'Grocery': 7, 'Home Improvement': 2, 'Supercenters': 3, 'Warehouse Club': 1, 'Warehouse Clubs': 1}\n",
     "output_type": "stream"
    }
   ],
   "execution_count": null
  },
  {
   "cell_type": "markdown",
   "source": "#### 3. De la misma forma agrupamos y obtenemos la suma de las ventas por categoría.",
   "metadata": {
    "cell_id": "eb5e218c-27cb-427b-858a-fb76452f771f",
    "tags": [],
    "deepnote_cell_type": "markdown"
   }
  },
  {
   "cell_type": "code",
   "metadata": {
    "cell_id": "767a7017-a4b4-4771-9569-70d2da7dfea5",
    "tags": [],
    "deepnote_to_be_reexecuted": false,
    "source_hash": "4db7f3ec",
    "execution_start": 1645648631848,
    "execution_millis": 46,
    "deepnote_cell_type": "code"
   },
   "source": "category_sales = df.groupby(['Category']).sum()\n\nindexs = category_sales.index\npie_category_sales = {indexs[i]:category_sales['Sales'][i] for i in range(11)}\nprint('Ventas por categoría: ',pie_category_sales)",
   "outputs": [
    {
     "name": "stdout",
     "text": "Ventas por categoría:  {'Apparel': 25012, 'Department Stores': 45088, 'Dollar Stores': 43698, 'Drug Stores': 184202, 'Electronic/Mail Order': 109351, 'Electronics': 34980, 'Grocery': 297164, 'Home Improvement': 144287, 'Supercenters': 745919, 'Warehouse Club': 90048, 'Warehouse Clubs': 56828}\n",
     "output_type": "stream"
    }
   ],
   "execution_count": null
  },
  {
   "cell_type": "markdown",
   "source": "#### 4. Realizamos la visualización para comparar cuantas tiendas existen en cada categoria y cuál es el % de mercado correspondiente. De la misma forma realizamos la visualización para ver las ventas por categoría.",
   "metadata": {
    "cell_id": "1dcae9ea-4bf1-4837-bb96-ca1dc79c05de",
    "tags": [],
    "deepnote_cell_type": "markdown"
   }
  },
  {
   "cell_type": "code",
   "metadata": {
    "cell_id": "8d7ea2c5-f46c-4ff4-a658-d030d1e07777",
    "tags": [],
    "deepnote_to_be_reexecuted": false,
    "source_hash": "2917c390",
    "execution_start": 1645648631892,
    "execution_millis": 1522,
    "deepnote_cell_type": "code"
   },
   "source": "plt.figure(figsize=(25,20))\n\ncolor= ['#4C1E45','#581845', '#7A133F', '#900C3F','#AA023A', '#C70039' ,'#DF5838', '#FF5733','#EFC12D', '#FFC30F', '#FFC26B']\n\nplt.subplot(1, 2, 1)\n\n\ntp = { 'weight': 'bold'}\nplt.title('% of Companies by Category', family='avenir', weight=\"bold\", size=24, pad=20)\nplt.pie(pie_category_companies.values(),startangle=90, textprops=tp ,labels=pie_category_companies.keys(), autopct='%1.1f%%',\n        shadow=True, colors=color)\n\nplt.subplot(1, 2, 2)\n\nplt.title('% of Sales by Category', family='avenir', weight=\"bold\", size=24, pad=20)\nplt.pie(pie_category_sales.values(), labels=pie_category_sales.keys(), autopct='%1.1f%%',\n        shadow=True, startangle=90, textprops=tp,colors=color)\n\nplt.show()",
   "outputs": [
    {
     "data": {
      "text/plain": "<Figure size 1800x1440 with 2 Axes>",
      "image/png": "[encoded data removed]"
     },
     "metadata": {
      "image/png": {
       "width": 1465,
       "height": 687
      }
     },
     "output_type": "display_data"
    }
   ],
   "execution_count": null
  },
  {
   "cell_type": "markdown",
   "source": "#### 5. Podemos apreciar que Grocery es la categoria con más compañías dentro por amplia diferencia. Teniendo el 28% de las empresas retail. Por otro lado, la categoria Supercenters tiene el 42% de las ventas en el sector retail.",
   "metadata": {
    "cell_id": "e700d4a6-2030-4e0e-a1be-c3b9154a3f95",
    "tags": [],
    "deepnote_cell_type": "markdown"
   }
  },
  {
   "cell_type": "markdown",
   "source": "#### Conclusiones:\n- 🎯 **Grocery es la categoria en la que más compañías estan y Supercenters es la categoría que más vende.**\n- 🥊⚡ **Al ser Grocery la categoría con más tiendas, la convierte en una categoría con mucha más competencia que en otros sectores del retail.**\n- 🔫 Viendo la gráfica de '% of companies by Category' vemos que **los porcentajes de empresas en el mercado son más chicos que sus porcentajes de ventas respectivamente.** Esto puede indicar que **existe más competencia por las ventas en esos sectores que en los que no ocurre dicha observación.**  También puede indicar que simplemente el mercado para esos sectores es muy chico.\n- 📉❌ **Existen categorías en la que no es rentable entrar debido a que el % de ventas respecto de la competencia es muy bajo.** Algunos ejemplos son Dollar Stores, Apparel y Departament Stores.\n- 🧗‍♂️💎 Como empresa iniciante, con el fin de poder facilitarnos las ventas, **debemos posicionarnos en una categoria con poca competencia pero con % alto de ventas respecto del % de compañías.** Algunas opciones son Warehouse Club, Drug Stores y Supercenters.\n- 💎🚀 **Supercenters puede ser una gran oportunidad para incursionar en el sector retail debido a su tamaño en el mercado y poca competencia.**",
   "metadata": {
    "cell_id": "aadfc8d0-3e29-4978-b033-cfe232e56a9e",
    "tags": [],
    "deepnote_cell_type": "markdown"
   }
  },
  {
   "cell_type": "markdown",
   "source": "### 12. ¿Cuál es la categoría con más en cantidad de tiendas? ¿Cuál es la categoría con menos número de tiendas? ¿Existe una diferencia visible de ventas en ambas categorías?",
   "metadata": {
    "cell_id": "d5a17c31-5e8f-4d67-9679-c5705053de69",
    "tags": [],
    "deepnote_cell_height": 62,
    "deepnote_cell_type": "markdown"
   }
  },
  {
   "cell_type": "markdown",
   "source": "#### 1. Comenzamos agrupando el dataframe por categorias y ordenamos por cantidad de tiendas de forma ascendente.",
   "metadata": {
    "cell_id": "6ecb9521-46f3-41d9-895d-3a01aeac13cd",
    "tags": [],
    "deepnote_cell_type": "markdown"
   }
  },
  {
   "cell_type": "code",
   "metadata": {
    "cell_id": "b168ad4f-adf7-4f82-9126-461a1fc64b84",
    "tags": [],
    "deepnote_to_be_reexecuted": false,
    "source_hash": "b936cabf",
    "execution_start": 1645648633428,
    "execution_millis": 71,
    "deepnote_cell_height": 81,
    "deepnote_table_state": {
     "pageSize": 10,
     "pageIndex": 0,
     "filters": [],
     "sortBy": []
    },
    "deepnote_table_loading": false,
    "deepnote_cell_type": "code"
   },
   "source": "group_by_category = df.groupby(['Category']).sum()\ngroup_by_category = group_by_category.sort_values('Stores', ascending = 0)\ngroup_by_category",
   "outputs": [
    {
     "output_type": "execute_result",
     "execution_count": 38,
     "data": {
      "application/vnd.deepnote.dataframe.v3+json": {
       "column_count": 4,
       "row_count": 11,
       "columns": [
        {
         "name": "Sales",
         "dtype": "int64",
         "stats": {
          "unique_count": 11,
          "nan_count": 0,
          "min": "25012",
          "max": "745919",
          "histogram": [
           {
            "bin_start": 25012,
            "bin_end": 97102.7,
            "count": 6
           },
           {
            "bin_start": 97102.7,
            "bin_end": 169193.4,
            "count": 2
           },
           {
            "bin_start": 169193.4,
            "bin_end": 241284.09999999998,
            "count": 1
           },
           {
            "bin_start": 241284.09999999998,
            "bin_end": 313374.8,
            "count": 1
           },
           {
            "bin_start": 313374.8,
            "bin_end": 385465.5,
            "count": 0
           },
           {
            "bin_start": 385465.5,
            "bin_end": 457556.19999999995,
            "count": 0
           },
           {
            "bin_start": 457556.19999999995,
            "bin_end": 529646.8999999999,
            "count": 0
           },
           {
            "bin_start": 529646.8999999999,
            "bin_end": 601737.6,
            "count": 0
           },
           {
            "bin_start": 601737.6,
            "bin_end": 673828.2999999999,
            "count": 0
           },
           {
            "bin_start": 673828.2999999999,
            "bin_end": 745919,
            "count": 1
           }
          ]
         }
        },
        {
         "name": "Stores",
         "dtype": "float64",
         "stats": {
          "unique_count": 11,
          "nan_count": 0,
          "min": "0.0",
          "max": "27600.0",
          "histogram": [
           {
            "bin_start": 0,
            "bin_end": 2760,
            "count": 5
           },
           {
            "bin_start": 2760,
            "bin_end": 5520,
            "count": 2
           },
           {
            "bin_start": 5520,
            "bin_end": 8280,
            "count": 1
           },
           {
            "bin_start": 8280,
            "bin_end": 11040,
            "count": 0
           },
           {
            "bin_start": 11040,
            "bin_end": 13800,
            "count": 1
           },
           {
            "bin_start": 13800,
            "bin_end": 16560,
            "count": 0
           },
           {
            "bin_start": 16560,
            "bin_end": 19320,
            "count": 0
           },
           {
            "bin_start": 19320,
            "bin_end": 22080,
            "count": 0
           },
           {
            "bin_start": 22080,
            "bin_end": 24840,
            "count": 1
           },
           {
            "bin_start": 24840,
            "bin_end": 27600,
            "count": 1
           }
          ]
         }
        },
        {
         "name": "Sales/Avg. Store",
         "dtype": "float64",
         "stats": {
          "unique_count": 11,
          "nan_count": 0,
          "min": "0.0",
          "max": "207.67859029",
          "histogram": [
           {
            "bin_start": 0,
            "bin_end": 20.767859029,
            "count": 3
           },
           {
            "bin_start": 20.767859029,
            "bin_end": 41.535718058,
            "count": 2
           },
           {
            "bin_start": 41.535718058,
            "bin_end": 62.303577087,
            "count": 1
           },
           {
            "bin_start": 62.303577087,
            "bin_end": 83.071436116,
            "count": 1
           },
           {
            "bin_start": 83.071436116,
            "bin_end": 103.839295145,
            "count": 1
           },
           {
            "bin_start": 103.839295145,
            "bin_end": 124.607154174,
            "count": 0
           },
           {
            "bin_start": 124.607154174,
            "bin_end": 145.375013203,
            "count": 0
           },
           {
            "bin_start": 145.375013203,
            "bin_end": 166.142872232,
            "count": 0
           },
           {
            "bin_start": 166.142872232,
            "bin_end": 186.910731261,
            "count": 1
           },
           {
            "bin_start": 186.910731261,
            "bin_end": 207.67859029,
            "count": 2
           }
          ]
         }
        },
        {
         "name": "Store Count Growth",
         "dtype": "float64",
         "stats": {
          "unique_count": 11,
          "nan_count": 0,
          "min": "-0.03875432526",
          "max": "0.24143157944700003",
          "histogram": [
           {
            "bin_start": -0.03875432526,
            "bin_end": -0.0107357347893,
            "count": 1
           },
           {
            "bin_start": -0.0107357347893,
            "bin_end": 0.0172828556814,
            "count": 2
           },
           {
            "bin_start": 0.0172828556814,
            "bin_end": 0.045301446152099994,
            "count": 1
           },
           {
            "bin_start": 0.045301446152099994,
            "bin_end": 0.0733200366228,
            "count": 1
           },
           {
            "bin_start": 0.0733200366228,
            "bin_end": 0.1013386270935,
            "count": 3
           },
           {
            "bin_start": 0.1013386270935,
            "bin_end": 0.1293572175642,
            "count": 0
           },
           {
            "bin_start": 0.1293572175642,
            "bin_end": 0.1573758080349,
            "count": 0
           },
           {
            "bin_start": 0.1573758080349,
            "bin_end": 0.1853943985056,
            "count": 1
           },
           {
            "bin_start": 0.1853943985056,
            "bin_end": 0.2134129889763,
            "count": 1
           },
           {
            "bin_start": 0.2134129889763,
            "bin_end": 0.24143157944700003,
            "count": 1
           }
          ]
         }
        },
        {
         "name": "_deepnote_index_column",
         "dtype": "object"
        }
       ],
       "rows": [
        {
         "Sales": 43698,
         "Stores": 27600,
         "Sales/Avg. Store": 3.332803539,
         "Store Count Growth": 0.21203881458999999,
         "_deepnote_index_column": "Dollar Stores"
        },
        {
         "Sales": 184202,
         "Stores": 22368,
         "Sales/Avg. Store": 24.662534879,
         "Store Count Growth": 0.24143157944700003,
         "_deepnote_index_column": "Drug Stores"
        },
        {
         "Sales": 297164,
         "Stores": 12026,
         "Sales/Avg. Store": 207.67859029,
         "Store Count Growth": 0.15749379238,
         "_deepnote_index_column": "Grocery"
        },
        {
         "Sales": 745919,
         "Stores": 6577,
         "Sales/Avg. Store": 180.37049628,
         "Store Count Growth": 0.08729440042,
         "_deepnote_index_column": "Supercenters"
        },
        {
         "Sales": 144287,
         "Stores": 3793,
         "Sales/Avg. Store": 76.04767018000001,
         "Store Count Growth": 0.01952035694,
         "_deepnote_index_column": "Home Improvement"
        },
        {
         "Sales": 25012,
         "Stores": 2770,
         "Sales/Avg. Store": 9.369544859,
         "Store Count Growth": 0.07824056053,
         "_deepnote_index_column": "Apparel"
        },
        {
         "Sales": 45088,
         "Stores": 2058,
         "Sales/Avg. Store": 46.795601610000006,
         "Store Count Growth": 0.088849918556,
         "_deepnote_index_column": "Department Stores"
        },
        {
         "Sales": 34980,
         "Stores": 1389,
         "Sales/Avg. Store": 24.68595625,
         "Store Count Growth": -0.03875432526,
         "_deepnote_index_column": "Electronics"
        },
        {
         "Sales": 56828,
         "Stores": 655,
         "Sales/Avg. Store": 87.29339478,
         "Store Count Growth": 0.01236476043,
         "_deepnote_index_column": "Warehouse Clubs"
        },
        {
         "Sales": 90048,
         "Stores": 495,
         "Sales/Avg. Store": 187.7956204,
         "Store Count Growth": 0.06681034483,
         "_deepnote_index_column": "Warehouse Club"
        }
       ]
      },
      "text/plain": "                        Sales   Stores  Sales/Avg. Store  Store Count Growth\nCategory                                                                    \nDollar Stores           43698  27600.0          3.332804            0.212039\nDrug Stores            184202  22368.0         24.662535            0.241432\nGrocery                297164  12026.0        207.678590            0.157494\nSupercenters           745919   6577.0        180.370496            0.087294\nHome Improvement       144287   3793.0         76.047670            0.019520\nApparel                 25012   2770.0          9.369545            0.078241\nDepartment Stores       45088   2058.0         46.795602            0.088850\nElectronics             34980   1389.0         24.685956           -0.038754\nWarehouse Clubs         56828    655.0         87.293395            0.012365\nWarehouse Club          90048    495.0        187.795620            0.066810\nElectronic/Mail Order  109351      0.0          0.000000            0.000000",
      "text/html": "<div>\n<style scoped>\n    .dataframe tbody tr th:only-of-type {\n        vertical-align: middle;\n    }\n\n    .dataframe tbody tr th {\n        vertical-align: top;\n    }\n\n    .dataframe thead th {\n        text-align: right;\n    }\n</style>\n<table border=\"1\" class=\"dataframe\">\n  <thead>\n    <tr style=\"text-align: right;\">\n      <th></th>\n      <th>Sales</th>\n      <th>Stores</th>\n      <th>Sales/Avg. Store</th>\n      <th>Store Count Growth</th>\n    </tr>\n    <tr>\n      <th>Category</th>\n      <th></th>\n      <th></th>\n      <th></th>\n      <th></th>\n    </tr>\n  </thead>\n  <tbody>\n    <tr>\n      <th>Dollar Stores</th>\n      <td>43698</td>\n      <td>27600.0</td>\n      <td>3.332804</td>\n      <td>0.212039</td>\n    </tr>\n    <tr>\n      <th>Drug Stores</th>\n      <td>184202</td>\n      <td>22368.0</td>\n      <td>24.662535</td>\n      <td>0.241432</td>\n    </tr>\n    <tr>\n      <th>Grocery</th>\n      <td>297164</td>\n      <td>12026.0</td>\n      <td>207.678590</td>\n      <td>0.157494</td>\n    </tr>\n    <tr>\n      <th>Supercenters</th>\n      <td>745919</td>\n      <td>6577.0</td>\n      <td>180.370496</td>\n      <td>0.087294</td>\n    </tr>\n    <tr>\n      <th>Home Improvement</th>\n      <td>144287</td>\n      <td>3793.0</td>\n      <td>76.047670</td>\n      <td>0.019520</td>\n    </tr>\n    <tr>\n      <th>Apparel</th>\n      <td>25012</td>\n      <td>2770.0</td>\n      <td>9.369545</td>\n      <td>0.078241</td>\n    </tr>\n    <tr>\n      <th>Department Stores</th>\n      <td>45088</td>\n      <td>2058.0</td>\n      <td>46.795602</td>\n      <td>0.088850</td>\n    </tr>\n    <tr>\n      <th>Electronics</th>\n      <td>34980</td>\n      <td>1389.0</td>\n      <td>24.685956</td>\n      <td>-0.038754</td>\n    </tr>\n    <tr>\n      <th>Warehouse Clubs</th>\n      <td>56828</td>\n      <td>655.0</td>\n      <td>87.293395</td>\n      <td>0.012365</td>\n    </tr>\n    <tr>\n      <th>Warehouse Club</th>\n      <td>90048</td>\n      <td>495.0</td>\n      <td>187.795620</td>\n      <td>0.066810</td>\n    </tr>\n    <tr>\n      <th>Electronic/Mail Order</th>\n      <td>109351</td>\n      <td>0.0</td>\n      <td>0.000000</td>\n      <td>0.000000</td>\n    </tr>\n  </tbody>\n</table>\n</div>"
     },
     "metadata": {}
    }
   ],
   "execution_count": null
  },
  {
   "cell_type": "markdown",
   "source": "#### 2. A partir del resultado obtenemos la primer y última posición.",
   "metadata": {
    "cell_id": "3411b526-7244-4c0e-8bd8-20570b1bc8ba",
    "tags": [],
    "deepnote_cell_type": "markdown"
   }
  },
  {
   "cell_type": "code",
   "metadata": {
    "cell_id": "71bf33b2-df70-4a63-b610-d4fa35d1a2e9",
    "tags": [],
    "deepnote_to_be_reexecuted": false,
    "source_hash": "a7575463",
    "execution_start": 1645648633508,
    "execution_millis": 13,
    "deepnote_cell_type": "code"
   },
   "source": "top_stores = group_by_category[0:1]\nlast_stores = group_by_category[-1:len(group_by_category.index)]\n\ntop_last_store_category = pd.DataFrame()\ntop_last_store_category = top_last_store_category.append(top_stores)\ntop_last_store_category = top_last_store_category.append(last_stores)",
   "outputs": [],
   "execution_count": null
  },
  {
   "cell_type": "markdown",
   "source": "#### 3. Para averiguar el resultado final realizamos una visualización donde se compara en número de ventas la empresa con más tiendas vs la que no.",
   "metadata": {
    "cell_id": "04661bfb-a3b3-4020-9f17-a5add0033b67",
    "tags": [],
    "deepnote_cell_type": "markdown"
   }
  },
  {
   "cell_type": "code",
   "metadata": {
    "cell_id": "e57f05f0-2cb9-4702-ae32-e3aade45e773",
    "tags": [],
    "deepnote_to_be_reexecuted": false,
    "source_hash": "127501c",
    "execution_start": 1645648633528,
    "execution_millis": 682,
    "deepnote_cell_type": "code"
   },
   "source": "plt.figure(figsize=(8,8))\n\nsns.barplot(x=top_last_store_category.index, y ='Sales',saturation=10,data=top_last_store_category,palette=\"rocket\", ci=None)\nplt.title('Category with more stores vs.  Category with fewer stores', family='avenir', weight=\"bold\", size=14, pad=20)\nplt.xlabel('Category', family='avenir', weight=\"light\", size=16, labelpad=15)\nplt.ylabel('Sales', family='avenir', weight=\"light\", size=16, labelpad=15)\nplt.show()\n\n",
   "outputs": [
    {
     "name": "stderr",
     "text": "findfont: Font family ['avenir'] not found. Falling back to DejaVu Sans.\n",
     "output_type": "stream"
    },
    {
     "data": {
      "text/plain": "<Figure size 576x576 with 1 Axes>",
      "image/png": "[encoded data removed]"
     },
     "metadata": {
      "needs_background": "light",
      "image/png": {
       "width": 543,
       "height": 527
      }
     },
     "output_type": "display_data"
    }
   ],
   "execution_count": null
  },
  {
   "cell_type": "markdown",
   "source": "#### 4. Como podemos ver, la categoria con menor cantidad de tiendas es Electronic/Mail Order supera en ventas a Dollar Stores. Podemos concluir que las empresas con 0 tiendas generan más ventas que las que tienen más tiendas.",
   "metadata": {
    "cell_id": "4739c8e3-6bbd-4714-8ec0-f65c88c0582a",
    "tags": [],
    "deepnote_cell_type": "markdown"
   }
  },
  {
   "cell_type": "markdown",
   "source": "#### Conclusiones:\n- 💻 **Las empresas retail con 0 tiendas generan más ventas que las que tienen más tiendas que la competencia.**\n- 🛒 **Esta comparación evidencia aún más que las ventas online son más altas que las que tienen muchas tiendas. Esto puede resultarnos beneficioso siempre en cuando nuestro producto/servicio pueda adaptarse a una distribución online.**\n- 😉 Podemos afirmar que **ser el N°1 en número de tiendas no garantiza que tengas muchas ventas en comparación a la competencia.**",
   "metadata": {
    "cell_id": "ed4b52a6-66fa-4cd3-9d56-9cf9e3461f17",
    "tags": [],
    "deepnote_cell_type": "markdown"
   }
  },
  {
   "cell_type": "markdown",
   "source": "<a style='text-decoration:none;line-height:16px;display:flex;color:#5B5B62;padding:10px;justify-content:end;' href='https://deepnote.com?utm_source=created-in-deepnote-cell&projectId=7d3cad48-ea33-4876-b02b-d44b56771527' target=\"_blank\">\n<img alt='Created in deepnote.com' style='display:inline;max-height:16px;margin:0px;margin-right:7.5px;' src='data:image/svg+xml;base64,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' > </img>\nCreated in <span style='font-weight:600;margin-left:4px;'>Deepnote</span></a>",
   "metadata": {
    "tags": [],
    "created_in_deepnote_cell": true,
    "deepnote_cell_type": "markdown"
   }
  }
 ],
 "nbformat": 4,
 "nbformat_minor": 2,
 "metadata": {
  "orig_nbformat": 2,
  "deepnote": {
   "is_reactive": false
  },
  "deepnote_notebook_id": "85b76ea9-ace4-4c85-8b21-59120be91703",
  "deepnote_execution_queue": []
 }
}